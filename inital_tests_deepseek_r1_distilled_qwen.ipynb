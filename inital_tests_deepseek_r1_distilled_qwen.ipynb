{
 "cells": [
  {
   "cell_type": "code",
   "execution_count": 1,
   "metadata": {},
   "outputs": [
    {
     "name": "stdout",
     "output_type": "stream",
     "text": [
      "Triton not installed, using eager implementation of SAE decoder.\n"
     ]
    }
   ],
   "source": [
    "import sys\n",
    "import torch\n",
    "from transformers import AutoTokenizer, AutoModelForCausalLM\n",
    "\n",
    "sys.path.append('sparsify')\n",
    "\n",
    "from sparsify import Sae\n",
    "\n",
    "import pandas as pd\n",
    "import plotly.express as px\n",
    "from types import SimpleNamespace"
   ]
  },
  {
   "cell_type": "code",
   "execution_count": 2,
   "metadata": {},
   "outputs": [
    {
     "data": {
      "text/plain": [
       "<torch.autograd.grad_mode.set_grad_enabled at 0x26ab6601520>"
      ]
     },
     "execution_count": 2,
     "metadata": {},
     "output_type": "execute_result"
    }
   ],
   "source": [
    "torch.set_grad_enabled(False)"
   ]
  },
  {
   "cell_type": "code",
   "execution_count": 3,
   "metadata": {},
   "outputs": [],
   "source": [
    "DEVICE = 'cuda' if torch.cuda.is_available() else 'cpu'"
   ]
  },
  {
   "cell_type": "code",
   "execution_count": 4,
   "metadata": {},
   "outputs": [
    {
     "data": {
      "text/plain": [
       "device(type='cuda', index=0)"
      ]
     },
     "execution_count": 4,
     "metadata": {},
     "output_type": "execute_result"
    }
   ],
   "source": [
    "torch.set_default_device(DEVICE)\n",
    "torch.get_default_device()"
   ]
  },
  {
   "cell_type": "code",
   "execution_count": 5,
   "metadata": {},
   "outputs": [],
   "source": [
    "tokenizer = AutoTokenizer.from_pretrained('deepseek-ai/DeepSeek-R1-Distill-Qwen-1.5B')\n",
    "model = AutoModelForCausalLM.from_pretrained('deepseek-ai/DeepSeek-R1-Distill-Qwen-1.5B')"
   ]
  },
  {
   "cell_type": "code",
   "execution_count": 6,
   "metadata": {},
   "outputs": [],
   "source": [
    "def inference(chat_prompt, max_new_tokens=400, temperature=0.6, add_generation_prompt=True, output_hidden_states=True):\n",
    "    tokenized_inputs = tokenizer.apply_chat_template(chat_prompt, tokenize=True, add_generation_prompt=add_generation_prompt, return_tensors='pt', return_dict=True)\n",
    "\n",
    "    model_out = model.generate(\n",
    "        tokenized_inputs.input_ids,\n",
    "        attention_mask=tokenized_inputs.attention_mask,\n",
    "        max_new_tokens=max_new_tokens,\n",
    "        temperature=temperature,\n",
    "        output_hidden_states=output_hidden_states,\n",
    "        return_dict_in_generate=True\n",
    "    )\n",
    "    \n",
    "    return model_out"
   ]
  },
  {
   "cell_type": "code",
   "execution_count": 7,
   "metadata": {},
   "outputs": [],
   "source": [
    "def decode_inference(model_out_sequences, skip_special_tokens=False):\n",
    "    decoded_out = tokenizer.batch_decode(model_out_sequences, skip_special_tokens=skip_special_tokens)\n",
    "    return decoded_out"
   ]
  },
  {
   "cell_type": "code",
   "execution_count": 8,
   "metadata": {},
   "outputs": [],
   "source": [
    "def create_chat_prompts(prompts, suffix=''):\n",
    "    chat_prompts = [\n",
    "        [\n",
    "            {\n",
    "                'role': 'user',\n",
    "                'content': prompt_content + suffix\n",
    "            }\n",
    "        ] for prompt_content in prompts\n",
    "    ]\n",
    "    return chat_prompts"
   ]
  },
  {
   "cell_type": "code",
   "execution_count": 9,
   "metadata": {},
   "outputs": [],
   "source": [
    "REASONING_SUFFIX = ' Please reason step by step in a few words, and put your final answer within \\\\boxed{}'\n",
    "\n",
    "problem_prompts = [\n",
    "    '2 + x = 10 What is the value of x?',\n",
    "    'Natalia sold clips to 48 of her friends in April, and then she sold half as many clips in May. How many clips did Natalia sell altogether in April and May?',\n",
    "    'Weng earns $12 an hour for babysitting. Yesterday, she just did 50 minutes of babysitting. How much did she earn?'\n",
    "]\n",
    "\n",
    "\n",
    "chat_prompts = create_chat_prompts(problem_prompts, suffix=REASONING_SUFFIX)"
   ]
  },
  {
   "cell_type": "code",
   "execution_count": 10,
   "metadata": {},
   "outputs": [],
   "source": [
    "DIRECT_SUFFIX = '<｜Assistant｜>'\n",
    "\n",
    "direct_chat_prompts = create_chat_prompts(problem_prompts, suffix=DIRECT_SUFFIX)"
   ]
  },
  {
   "cell_type": "code",
   "execution_count": 11,
   "metadata": {},
   "outputs": [],
   "source": [
    "BYPASS_REASONING_SUFFIX = '<｜Assistant｜><think>\\n\\n</think>'\n",
    "\n",
    "bypass_reasoning_chat_prompts = create_chat_prompts(problem_prompts, suffix=BYPASS_REASONING_SUFFIX)"
   ]
  },
  {
   "cell_type": "markdown",
   "metadata": {},
   "source": [
    "### Usage Recommendations\n",
    "https://huggingface.co/deepseek-ai/DeepSeek-R1-Distill-Qwen-1.5B#usage-recommendations\n",
    "\n",
    "\n",
    "1. Set the temperature within the range of 0.5-0.7 (0.6 is recommended) to prevent endless repetitions or incoherent outputs.\n",
    "\n",
    "2. Avoid adding a system prompt; all instructions should be contained within the user prompt.\n",
    "\n",
    "3. For mathematical problems, it is advisable to include a directive in your prompt such as: \"Please reason step by step, and put your final answer within \\boxed{}.\"\n",
    "\n",
    "4. When evaluating model performance, it is recommended to conduct multiple tests and average the results.\n",
    "\n",
    "Additionally, we have observed that the DeepSeek-R1 series models tend to bypass thinking pattern (i.e., outputting \"<think>\\n\\n</think>\") when responding to certain queries, which can adversely affect the model's performance. To ensure that the model engages in thorough reasoning, we recommend enforcing the model to initiate its response with \"<think>\\n\" at the beginning of every output."
   ]
  },
  {
   "cell_type": "markdown",
   "metadata": {},
   "source": [
    "### Testing The Model"
   ]
  },
  {
   "cell_type": "code",
   "execution_count": 10,
   "metadata": {},
   "outputs": [
    {
     "data": {
      "text/plain": [
       "Qwen2Config {\n",
       "  \"_attn_implementation_autoset\": true,\n",
       "  \"_name_or_path\": \"deepseek-ai/DeepSeek-R1-Distill-Qwen-1.5B\",\n",
       "  \"architectures\": [\n",
       "    \"Qwen2ForCausalLM\"\n",
       "  ],\n",
       "  \"attention_dropout\": 0.0,\n",
       "  \"bos_token_id\": 151643,\n",
       "  \"eos_token_id\": 151643,\n",
       "  \"hidden_act\": \"silu\",\n",
       "  \"hidden_size\": 1536,\n",
       "  \"initializer_range\": 0.02,\n",
       "  \"intermediate_size\": 8960,\n",
       "  \"max_position_embeddings\": 131072,\n",
       "  \"max_window_layers\": 21,\n",
       "  \"model_type\": \"qwen2\",\n",
       "  \"num_attention_heads\": 12,\n",
       "  \"num_hidden_layers\": 28,\n",
       "  \"num_key_value_heads\": 2,\n",
       "  \"rms_norm_eps\": 1e-06,\n",
       "  \"rope_scaling\": null,\n",
       "  \"rope_theta\": 10000,\n",
       "  \"sliding_window\": null,\n",
       "  \"tie_word_embeddings\": false,\n",
       "  \"torch_dtype\": \"bfloat16\",\n",
       "  \"transformers_version\": \"4.48.3\",\n",
       "  \"use_cache\": true,\n",
       "  \"use_mrope\": false,\n",
       "  \"use_sliding_window\": false,\n",
       "  \"vocab_size\": 151936\n",
       "}"
      ]
     },
     "execution_count": 10,
     "metadata": {},
     "output_type": "execute_result"
    }
   ],
   "source": [
    "model.config"
   ]
  },
  {
   "cell_type": "code",
   "execution_count": 12,
   "metadata": {},
   "outputs": [
    {
     "name": "stdout",
     "output_type": "stream",
     "text": [
      "With generation prompt: \"<｜begin▁of▁sentence｜><｜User｜>2 + 3 = x What is the value of x? Please reason step by step, and put your final answer within \\boxed{}<｜Assistant｜><think>\n",
      "\"\n",
      "Without generation prompt: \"<｜begin▁of▁sentence｜><｜User｜>2 + 3 = x What is the value of x? Please reason step by step, and put your final answer within \\boxed{}\"\n"
     ]
    }
   ],
   "source": [
    "test_prompt_a = [\n",
    "    {\n",
    "        'role': 'user',\n",
    "        'content': '2 + 3 = x What is the value of x? Please reason step by step, and put your final answer within \\\\boxed{}'\n",
    "    }\n",
    "]\n",
    "\n",
    "chat_text_test_result = tokenizer.apply_chat_template(test_prompt_a, tokenize=False, add_generation_prompt=True)\n",
    "no_generation_prompt_result = tokenizer.apply_chat_template(test_prompt_a, tokenize=False, add_generation_prompt=False)\n",
    "\n",
    "print(f'With generation prompt: \"{chat_text_test_result}\"')\n",
    "print(f'Without generation prompt: \"{no_generation_prompt_result}\"')"
   ]
  },
  {
   "cell_type": "markdown",
   "metadata": {},
   "source": [
    "#### With Reasoning Prompt"
   ]
  },
  {
   "cell_type": "code",
   "execution_count": 13,
   "metadata": {},
   "outputs": [
    {
     "name": "stderr",
     "output_type": "stream",
     "text": [
      "Setting `pad_token_id` to `eos_token_id`:151643 for open-end generation.\n",
      "From v4.47 onwards, when a model cache is to be returned, `generate` will return a `Cache` instance instead by default (as opposed to the legacy tuple of tuples format). If you want to keep returning the legacy format, please set `return_legacy_cache=True`.\n"
     ]
    },
    {
     "data": {
      "text/plain": [
       "[\"<｜begin▁of▁sentence｜><｜User｜>2 + 3 = x What is the value of x? Please reason step by step, and put your final answer within \\\\boxed{}<｜Assistant｜><think>\\nAlright, so I've got this equation here: 2 plus 3 equals x. Hmm, okay, that seems straightforward, but let me think through it step by step to make sure I understand everything properly.\\n\\nFirst, I know that in math, equations are statements that show that two expressions are equal. So, in this case, the expression on the left side is 2 + 3, and the expression on the right side is x. My goal is to find out what value x has.\\n\\nLet me start by recalling what addition means. Addition is combining two numbers to get a total. So, when I add 2 and 3 together, I'm essentially combining two quantities. It's like having 2 apples and then getting 3 more apples. How many apples do I have in total? I think that's 5 apples. So, does that mean x is 5?\\n\\nWait, let me make sure I'm not just guessing here. Maybe I should write it down to visualize it better. So, 2 plus 3. I can write that as:\\n\\n2 + 3 = x\\n\\nNow, to solve for x, I need to compute the sum on the left side. Addition is a basic arithmetic operation, and I remember that when adding two numbers, I start from the first number and count forward by the second number. So, starting at 2, I count 3 more: 2, 3, 4, 5. So, that gives me 5. Therefore, x must be 5.\\n\\nBut hold on, is there a different way to approach this? Maybe using objects or pictures to represent the numbers. Let's say I have 2 circles and then I add 3 more circles. How many circles do I have altogether? Let me count them: 1, 2, 3, 4, 5. Yep, that's 5 circles. So, that reinforces the idea that x\"]"
      ]
     },
     "execution_count": 13,
     "metadata": {},
     "output_type": "execute_result"
    }
   ],
   "source": [
    "test_chat_prompt = [\n",
    "    {\n",
    "        'role': 'user',\n",
    "        'content': '2 + 3 = x What is the value of x? Please reason step by step, and put your final answer within \\\\boxed{}'\n",
    "    }\n",
    "]\n",
    "\n",
    "decode_inference(\n",
    "    inference(test_chat_prompt, output_hidden_states=False).sequences\n",
    ")"
   ]
  },
  {
   "cell_type": "code",
   "execution_count": 14,
   "metadata": {},
   "outputs": [
    {
     "name": "stderr",
     "output_type": "stream",
     "text": [
      "Setting `pad_token_id` to `eos_token_id`:151643 for open-end generation.\n"
     ]
    },
    {
     "name": "stdout",
     "output_type": "stream",
     "text": [
      "** Inference Prompt 1:\n"
     ]
    },
    {
     "name": "stderr",
     "output_type": "stream",
     "text": [
      "Setting `pad_token_id` to `eos_token_id`:151643 for open-end generation.\n"
     ]
    },
    {
     "name": "stdout",
     "output_type": "stream",
     "text": [
      "[\"<｜begin▁of▁sentence｜><｜User｜>2 + x = 10 What is the value of x? Please reason step by step in a few words, and put your final answer within \\\\boxed{}<｜Assistant｜><think>\\nOkay, so I have this equation here: 2 plus x equals 10. Hmm, I need to find the value of x. Alright, let me think about how to approach this. I remember from class that when you have an equation like this, you want to isolate the variable, which in this case is x. \\n\\nSo, the equation is 2 + x = 10. I need to get x by itself on one side of the equation. To do that, I should get rid of the 2 that's being added to x. How do I do that? Well, the opposite of addition is subtraction, right? So if I subtract 2 from both sides of the equation, that should help me isolate x. \\n\\nLet me write that out step by step. Starting with 2 + x = 10, if I subtract 2 from both sides, it should look like this:\\n\\n2 + x - 2 = 10 - 2\\n\\nSimplifying both sides, the 2 and -2 on the left side cancel each other out, leaving just x. On the right side, 10 minus 2 is 8. So that gives me x = 8. \\n\\nWait, let me double-check that to make sure I didn't make a mistake. If x is 8, then plugging it back into the original equation should make it true. So, 2 + 8 equals 10. Yep, that's 10 on both sides. So that works. \\n\\nIs there another way to think about this? Maybe using some real-life analogy? Like, if I have 2 apples and someone gives me x apples, and now I have 10 apples, how many apples did they give me? That makes sense. So, x is the number of apples they gave me, which is 8. \\n\\nOr, thinking about it on a number line, starting from \"]\n",
      "\n",
      "\n",
      "** Inference Prompt 2:\n"
     ]
    },
    {
     "name": "stderr",
     "output_type": "stream",
     "text": [
      "Setting `pad_token_id` to `eos_token_id`:151643 for open-end generation.\n"
     ]
    },
    {
     "name": "stdout",
     "output_type": "stream",
     "text": [
      "['<｜begin▁of▁sentence｜><｜User｜>Natalia sold clips to 48 of her friends in April, and then she sold half as many clips in May. How many clips did Natalia sell altogether in April and May? Please reason step by step in a few words, and put your final answer within \\\\boxed{}<｜Assistant｜><think>\\nAlright, so I have this problem here about Natalia selling clips. Let me read it again: \"Natalia sold clips to 48 of her friends in April, and then she sold half as many clips in May. How many clips did Natalia sell altogether in April and May?\" Hmm, okay, let\\'s break this down step by step.\\n\\nFirst, in April, Natalia sold clips to 48 of her friends. So, that\\'s pretty straightforward. She sold to 48 friends, so I think that means she sold 48 clips in April. Yeah, that makes sense. It says \"to 48 of her friends,\" so each friend bought one clip, so 48 clips total in April.\\n\\nThen, in May, she sold half as many clips as she did in April. So, if she sold 48 in April, half of that would be... let me calculate that. Half of 48 is 24. So, in May, she sold 24 clips.\\n\\nNow, the question is asking how many clips she sold altogether in April and May. So, that means I need to add the number she sold in April to the number she sold in May. So, that would be 48 plus 24. Let me add those together. 48 plus 20 is 68, and then plus 4 more is 72. So, 48 plus 24 equals 72.\\n\\nWait, let me make sure I didn\\'t make a mistake. April: 48 clips. May: half of that, so 24. 48 plus 24 is 72. Yeah, that seems right. So, Natalia sold a total of 72 clips in April and May.\\n\\nI don\\'t think I need to consider any other factors here. The problem is pretty straightforward. It\\'s just two months, with']\n",
      "\n",
      "\n",
      "** Inference Prompt 3:\n",
      "[\"<｜begin▁of▁sentence｜><｜User｜>Weng earns $12 an hour for babysitting. Yesterday, she just did 50 minutes of babysitting. How much did she earn? Please reason step by step in a few words, and put your final answer within \\\\boxed{}<｜Assistant｜><think>\\nTo determine how much Weng earned from babysitting, I need to multiply her hourly rate by the time she worked. She earns $12 per hour and worked for 50 minutes.\\n\\nFirst, I'll convert 50 minutes into hours by dividing by 60. This gives me approximately 0.8333 hours.\\n\\nNext, I'll multiply the hourly rate of $12 by 0.8333 hours to find her total earnings.\\n</think>\\n\\nTo determine how much Weng earned from babysitting, follow these steps:\\n\\n1. **Hourly Rate:**  \\n   Weng earns **\\\\$12** per hour.\\n\\n2. **Time Worked:**  \\n   She babysat for **50 minutes**.\\n\\n3. **Convert Minutes to Hours:**  \\n   Since there are 60 minutes in an hour, convert 50 minutes to hours:\\n   \\\\[\\n   \\\\frac{50 \\\\text{ minutes}}{60} = \\\\frac{5}{6} \\\\approx 0.8333 \\\\text{ hours}\\n   \\\\]\\n\\n4. **Calculate Earnings:**  \\n   Multiply the hourly rate by the time worked in hours:\\n   \\\\[\\n   \\\\$12 \\\\times 0.8333 \\\\approx \\\\$10\\n   \\\\]\\n\\n**Final Answer:**  \\n\\\\[\\n\\\\boxed{\\\\$10}\\n\\\\]<｜end▁of▁sentence｜>\"]\n",
      "\n",
      "\n"
     ]
    }
   ],
   "source": [
    "for i in range(len(chat_prompts)):\n",
    "    print(f'** Inference Prompt {i+1}:')\n",
    "    print(\n",
    "        decode_inference(\n",
    "            inference(chat_prompts[i], output_hidden_states=False).sequences\n",
    "        )\n",
    "    )\n",
    "    print('\\n')"
   ]
  },
  {
   "cell_type": "markdown",
   "metadata": {},
   "source": [
    "#### Without think token added in prompt"
   ]
  },
  {
   "cell_type": "code",
   "execution_count": 15,
   "metadata": {},
   "outputs": [
    {
     "name": "stderr",
     "output_type": "stream",
     "text": [
      "Setting `pad_token_id` to `eos_token_id`:151643 for open-end generation.\n"
     ]
    },
    {
     "name": "stdout",
     "output_type": "stream",
     "text": [
      "** Inference Prompt 1:\n"
     ]
    },
    {
     "name": "stderr",
     "output_type": "stream",
     "text": [
      "Setting `pad_token_id` to `eos_token_id`:151643 for open-end generation.\n"
     ]
    },
    {
     "name": "stdout",
     "output_type": "stream",
     "text": [
      "[\"<｜begin▁of▁sentence｜><｜User｜>2 + x = 10 What is the value of x?<｜Assistant｜><think>\\nFirst, I need to solve the equation 2 + x = 10 for x.\\n\\nTo isolate x, I'll subtract 2 from both sides of the equation.\\n\\nThis simplifies to x = 8.\\n\\nSo, the value of x is 8.\\n</think>\\n\\nTo solve the equation \\\\(2 + x = 10\\\\) for \\\\(x\\\\), follow these steps:\\n\\n1. **Subtract 2 from both sides** of the equation to isolate \\\\(x\\\\):\\n   \\\\[\\n   2 + x - 2 = 10 - 2\\n   \\\\]\\n   \\n2. **Simplify both sides**:\\n   \\\\[\\n   x = 8\\n   \\\\]\\n   \\n**Final Answer:**\\n\\\\[\\n\\\\boxed{8}\\n\\\\]<｜end▁of▁sentence｜>\"]\n",
      "\n",
      "\n",
      "** Inference Prompt 2:\n"
     ]
    },
    {
     "name": "stderr",
     "output_type": "stream",
     "text": [
      "Setting `pad_token_id` to `eos_token_id`:151643 for open-end generation.\n"
     ]
    },
    {
     "name": "stdout",
     "output_type": "stream",
     "text": [
      "[\"<｜begin▁of▁sentence｜><｜User｜>Natalia sold clips to 48 of her friends in April, and then she sold half as many clips in May. How many clips did Natalia sell altogether in April and May?<｜Assistant｜><think>\\nFirst, I need to determine how many clips Natalia sold in May. The problem states that she sold half as many clips in May as she did in April. Since she sold 48 clips in April, I'll calculate half of 48.\\n\\nNext, I'll add the number of clips sold in April to the number sold in May to find the total for both months.\\n</think>\\n\\nLet's determine how many clips Natalia sold in April and May and then find the total.\\n\\n1. ** Clips Sold in April:**\\n   - Natalia sold **48 clips** in April.\\n\\n2. ** Clips Sold in May:**\\n   - She sold **half as many clips** in May as she did in April.\\n   - **Calculation:** \\\\( \\\\frac{48}{2} = 24 \\\\) clips.\\n\\n3. **Total Clips Sold in April and May:**\\n   - **Sum:** \\\\( 48 \\\\text{ (April)} + 24 \\\\text{ (May)} = 72 \\\\text{ clips} \\\\).\\n\\n\\\\[\\n\\\\boxed{72}\\n\\\\]<｜end▁of▁sentence｜>\"]\n",
      "\n",
      "\n",
      "** Inference Prompt 3:\n",
      "[\"<｜begin▁of▁sentence｜><｜User｜>Weng earns $12 an hour for babysitting. Yesterday, she just did 50 minutes of babysitting. How much did she earn?<｜Assistant｜><think>\\nFirst, I need to determine Weng's hourly rate and the time she spent babysitting. She earns $12 per hour and worked for 50 minutes.\\n\\nSince her pay is based on an hour, I'll convert 50 minutes into hours. There are 60 minutes in an hour, so 50 minutes is 5/6 of an hour.\\n\\nNext, I'll calculate her earnings by multiplying her hourly rate by the fraction of an hour she worked. That is, $12 multiplied by 5/6, which equals $10.\\n</think>\\n\\nTo determine how much Weng earned from babysitting, follow these steps:\\n\\n1. **Understand the given information:**\\n   - **Hourly rate:** \\\\$12 per hour\\n   - **Time worked:** 50 minutes\\n\\n2. **Convert the time worked into hours:**\\n   \\n   Since there are 60 minutes in an hour, we can convert 50 minutes to hours by dividing by 60.\\n\\n   \\\\[\\n   \\\\text{Time in hours} = \\\\frac{50 \\\\text{ minutes}}{60} = \\\\frac{5}{6} \\\\text{ hours}\\n   \\\\]\\n\\n3. **Calculate the earnings:**\\n   \\n   Multiply the hourly rate by the time worked in hours.\\n\\n   \\\\[\\n   \\\\text{Earnings} = \\\\$12 \\\\times \\\\frac{5}{6} = \\\\$10\\n   \\\\]\\n\\n4. **Final Answer:**\\n   \\n   Weng earned \\\\(\\\\boxed{10}\\\\) dollars.<｜end▁of▁sentence｜>\"]\n",
      "\n",
      "\n"
     ]
    }
   ],
   "source": [
    "for i in range(len(direct_chat_prompts)):\n",
    "    print(f'** Inference Prompt {i+1}:')\n",
    "    print(\n",
    "        decode_inference(\n",
    "            inference(direct_chat_prompts[i], add_generation_prompt=False, output_hidden_states=False).sequences\n",
    "        )\n",
    "    )\n",
    "    print('\\n')"
   ]
  },
  {
   "cell_type": "markdown",
   "metadata": {},
   "source": [
    "#### Bypass reasoning in prompt"
   ]
  },
  {
   "cell_type": "code",
   "execution_count": 16,
   "metadata": {},
   "outputs": [
    {
     "name": "stderr",
     "output_type": "stream",
     "text": [
      "Setting `pad_token_id` to `eos_token_id`:151643 for open-end generation.\n"
     ]
    },
    {
     "name": "stdout",
     "output_type": "stream",
     "text": [
      "** Inference Prompt 1:\n"
     ]
    },
    {
     "name": "stderr",
     "output_type": "stream",
     "text": [
      "Setting `pad_token_id` to `eos_token_id`:151643 for open-end generation.\n"
     ]
    },
    {
     "name": "stdout",
     "output_type": "stream",
     "text": [
      "['<｜begin▁of▁sentence｜><｜User｜>2 + x = 10 What is the value of x?<｜Assistant｜><think>\\n\\n</think>\\n\\nTo find the value of \\\\( x \\\\) in the equation \\\\( 2 + x = 10 \\\\), follow these steps:\\n\\n1. **Isolate the variable** \\\\( x \\\\) by subtracting 2 from both sides of the equation:\\n   \\\\[\\n   2 + x - 2 = 10 - 2\\n   \\\\]\\n   Simplifying both sides gives:\\n   \\\\[\\n   x = 8\\n   \\\\]\\n\\n**Final Answer:** \\\\( \\\\boxed{8} \\\\)<｜end▁of▁sentence｜>']\n",
      "\n",
      "\n",
      "** Inference Prompt 2:\n"
     ]
    },
    {
     "name": "stderr",
     "output_type": "stream",
     "text": [
      "Setting `pad_token_id` to `eos_token_id`:151643 for open-end generation.\n"
     ]
    },
    {
     "name": "stdout",
     "output_type": "stream",
     "text": [
      "['<｜begin▁of▁sentence｜><｜User｜>Natalia sold clips to 48 of her friends in April, and then she sold half as many clips in May. How many clips did Natalia sell altogether in April and May?<｜Assistant｜><think>\\n\\n</think>\\n\\nTo determine the total number of clips Natalia sold in April and May, follow these steps:\\n\\n1. **April Sales**: Natalia sold 48 clips to her friends.\\n   \\n2. **May Sales**: She sold half as many clips in May compared to April.\\n   - **Calculation**: \\\\( \\\\frac{48}{2} = 24 \\\\) clips.\\n   \\n3. **Total Sales**: Add the sales from both months.\\n   - **Calculation**: \\\\( 48 + 24 = 72 \\\\) clips.\\n\\n**Final Answer:** Natalia sold a total of 72 clips in April and May.<｜end▁of▁sentence｜>']\n",
      "\n",
      "\n",
      "** Inference Prompt 3:\n",
      "['<｜begin▁of▁sentence｜><｜User｜>Weng earns $12 an hour for babysitting. Yesterday, she just did 50 minutes of babysitting. How much did she earn?<｜Assistant｜><think>\\n\\n</think>\\n\\nTo determine how much Weng earned for babysitting, we can use the following steps:\\n\\n1. **Identify the hourly rate and the time worked:**\\n   - Hourly rate: \\\\$12 per hour\\n   - Time worked: 50 minutes\\n\\n2. **Convert the time worked from minutes to hours:**\\n   - 50 minutes ÷ 60 minutes per hour = \\\\(\\\\frac{5}{6}\\\\) hours ≈ 0.8333 hours\\n\\n3. **Calculate the total earnings:**\\n   - Total earnings = Hourly rate × Time worked\\n   - Total earnings = \\\\$12 × 0.8333 ≈ \\\\$10\\n\\n**Final Answer:**  \\nWeng earned approximately **\\\\$10** for babysitting 50 minutes.<｜end▁of▁sentence｜>']\n",
      "\n",
      "\n"
     ]
    }
   ],
   "source": [
    "for i in range(len(bypass_reasoning_chat_prompts)):\n",
    "    print(f'** Inference Prompt {i+1}:')\n",
    "    print(\n",
    "        decode_inference(\n",
    "            inference(bypass_reasoning_chat_prompts[i], add_generation_prompt=False, output_hidden_states=False).sequences\n",
    "        )\n",
    "    )\n",
    "    print('\\n')"
   ]
  },
  {
   "cell_type": "markdown",
   "metadata": {},
   "source": [
    "## SAE Experiments"
   ]
  },
  {
   "cell_type": "markdown",
   "metadata": {},
   "source": [
    "### Test k-sparse SAE"
   ]
  },
  {
   "cell_type": "code",
   "execution_count": 438,
   "metadata": {},
   "outputs": [
    {
     "data": {
      "application/vnd.jupyter.widget-view+json": {
       "model_id": "195c5dfffb88411ea6f9632c882249ee",
       "version_major": 2,
       "version_minor": 0
      },
      "text/plain": [
       "Fetching 2 files:   0%|          | 0/2 [00:00<?, ?it/s]"
      ]
     },
     "metadata": {},
     "output_type": "display_data"
    }
   ],
   "source": [
    "model_sae_layer = 10\n",
    "\n",
    "sae = Sae.load_from_hub('EleutherAI/sae-DeepSeek-R1-Distill-Qwen-1.5B-65k', hookpoint=f'layers.{model_sae_layer}.mlp', device=DEVICE)"
   ]
  },
  {
   "cell_type": "code",
   "execution_count": 12,
   "metadata": {},
   "outputs": [
    {
     "name": "stderr",
     "output_type": "stream",
     "text": [
      "Setting `pad_token_id` to `eos_token_id`:151643 for open-end generation.\n",
      "From v4.47 onwards, when a model cache is to be returned, `generate` will return a `Cache` instance instead by default (as opposed to the legacy tuple of tuples format). If you want to keep returning the legacy format, please set `return_legacy_cache=True`.\n"
     ]
    }
   ],
   "source": [
    "input_prompt = chat_prompts[2]\n",
    "\n",
    "model_outs_for_sae = inference(input_prompt)"
   ]
  },
  {
   "cell_type": "code",
   "execution_count": 13,
   "metadata": {},
   "outputs": [
    {
     "name": "stdout",
     "output_type": "stream",
     "text": [
      "['<｜begin▁of▁sentence｜><｜User｜>Weng earns $12 an hour for babysitting. Yesterday, she just did 50 minutes of babysitting. How much did she earn? Please reason step by step in a few words, and put your final answer within \\\\boxed{}<｜Assistant｜><think>\\n']\n"
     ]
    }
   ],
   "source": [
    "model_input_prompt_tokens = tokenizer.apply_chat_template(input_prompt, tokenize=True, add_generation_prompt=True, return_tensors='pt', return_dict=True).input_ids\n",
    "\n",
    "print(\n",
    "    decode_inference(model_input_prompt_tokens)\n",
    ")"
   ]
  },
  {
   "cell_type": "code",
   "execution_count": 14,
   "metadata": {},
   "outputs": [],
   "source": [
    "for i in range(len(model_input_prompt_tokens)):\n",
    "    if model_input_prompt_tokens[0, i] != model_outs_for_sae.sequences[0, i]:\n",
    "        print(f'Fail at {i}: {model_input_prompt_tokens[i]} - {model_outs_for_sae.sequences[0, i]}')\n",
    "        break"
   ]
  },
  {
   "cell_type": "code",
   "execution_count": 439,
   "metadata": {},
   "outputs": [
    {
     "name": "stdout",
     "output_type": "stream",
     "text": [
      "Input token num: 55\n",
      "Output token num: 455 | 400 (Not counting input tokens)\n",
      "Hidden states output len: 400\n",
      "Inner hidden states len: 29\n",
      "Within inner hidden state size:\n",
      "- First state: torch.Size([1, 55, 1536])\n",
      "- Second & subsequent states: torch.Size([1, 1, 1536])\n",
      "\n",
      "Decoded output:\n",
      "[\"<｜begin▁of▁sentence｜><｜User｜>Weng earns $12 an hour for babysitting. Yesterday, she just did 50 minutes of babysitting. How much did she earn? Please reason step by step in a few words, and put your final answer within \\\\boxed{}<｜Assistant｜><think>\\nOkay, so Weng earns $12 an hour for babysitting, and she just did 50 minutes of babysitting yesterday. Hmm, I need to figure out how much she earned for those 50 minutes. Let me think about this step by step.\\n\\nFirst, her hourly rate is $12. That means for every hour she works, she gets paid $12. But she didn't work an entire hour; she only worked 50 minutes. So I need to calculate her earnings based on that 50-minute duration.\\n\\nI remember that to find out how much she earned for a certain amount of time, I can use the concept of proportionality. Since she earns $12 for each hour, I can set up a proportion where 1 hour corresponds to $12, and 50 minutes corresponds to some amount of money, which I'll call x.\\n\\nBut wait, 50 minutes is less than an hour, so the amount she earns should be less than $12. That makes sense because she didn't work the full hour.\\n\\nNow, I need to convert the 50 minutes into hours because her hourly rate is given in hours. I know that 60 minutes make up an hour, so 50 minutes is less than an hour. To find out how many hours 50 minutes is, I can divide 50 by 60.\\n\\nLet me write that down:\\n\\n50 minutes ÷ 60 minutes/hour = (50/60) hours\\n\\nSimplifying that fraction, 50 divided by 60 is equal to 5/6, which is approximately 0.8333 hours. So, 50 minutes is roughly 0.8333 hours.\\n\\nNow, if she earns $12 per hour, then for 0.8333 hours, her earnings should be:\\n\\n12 dollars/hour ×\"]\n"
     ]
    }
   ],
   "source": [
    "input_prompt_tokens_len = model_input_prompt_tokens.size()[1]\n",
    "\n",
    "full_output_tokens_len = model_outs_for_sae.sequences.size()[1]\n",
    "output_tokens_len = full_output_tokens_len - input_prompt_tokens_len\n",
    "\n",
    "print(f'Input token num: {input_prompt_tokens_len}')\n",
    "print(f'Output token num: {full_output_tokens_len} | {output_tokens_len} (Not counting input tokens)')\n",
    "\n",
    "print('Hidden states output len:', len(model_outs_for_sae.hidden_states))\n",
    "print('Inner hidden states len:', len(model_outs_for_sae.hidden_states[0]))\n",
    "\n",
    "# (batch_size, sequence_length, hidden_size)\n",
    "print('Within inner hidden state size:')\n",
    "print(f'- First state: {model_outs_for_sae.hidden_states[0][0].size()}')\n",
    "print(f'- Second & subsequent states: {model_outs_for_sae.hidden_states[1][0].size()}')\n",
    "\n",
    "print()\n",
    "\n",
    "print('Decoded output:')\n",
    "print(\n",
    "    decode_inference(model_outs_for_sae.sequences)\n",
    ")"
   ]
  },
  {
   "cell_type": "code",
   "execution_count": 16,
   "metadata": {},
   "outputs": [
    {
     "name": "stdout",
     "output_type": "stream",
     "text": [
      "Found seq_length > 1 at tuple index: 0\n"
     ]
    }
   ],
   "source": [
    "for i in range(len(model_outs_for_sae.hidden_states)):\n",
    "    if model_outs_for_sae.hidden_states[i][0].size(1) > 1:\n",
    "        print(f'Found seq_length > 1 at tuple index: {i}')"
   ]
  },
  {
   "cell_type": "code",
   "execution_count": 440,
   "metadata": {},
   "outputs": [
    {
     "name": "stdout",
     "output_type": "stream",
     "text": [
      "All acts size: torch.Size([454, 1536])\n",
      "Generated tokens only size: torch.Size([399, 1536])\n"
     ]
    }
   ],
   "source": [
    "# Get layer 10 acts\n",
    "\n",
    "model_sae_layer_acts = []\n",
    "\n",
    "for step_idx in range(len(model_outs_for_sae.hidden_states)):\n",
    "    step_layer_acts = model_outs_for_sae.hidden_states[step_idx][model_sae_layer]\n",
    "    # Remove batch dim\n",
    "    flattened_acts = step_layer_acts.reshape(-1, step_layer_acts.size(-1))\n",
    "    model_sae_layer_acts.append(flattened_acts)\n",
    "\n",
    "all_activations = torch.cat(model_sae_layer_acts, dim=0)\n",
    "generated_only_acts = torch.cat(model_sae_layer_acts[1:], dim=0)\n",
    "\n",
    "print(f'All acts size: {all_activations.size()}')\n",
    "print(f'Generated tokens only size: {generated_only_acts.size()}')"
   ]
  },
  {
   "cell_type": "code",
   "execution_count": 441,
   "metadata": {},
   "outputs": [],
   "source": [
    "def print_limit_acts(encoder_out):\n",
    "    print(f'- Min Activation: {torch.min(encoder_out.top_acts)}')\n",
    "    print(f'- Max Activation: {torch.max(encoder_out.top_acts)}')"
   ]
  },
  {
   "cell_type": "code",
   "execution_count": 442,
   "metadata": {},
   "outputs": [],
   "source": [
    "all_acts_encoder_out = sae.encode(all_activations)"
   ]
  },
  {
   "cell_type": "code",
   "execution_count": 443,
   "metadata": {},
   "outputs": [
    {
     "data": {
      "text/plain": [
       "torch.Size([454, 32])"
      ]
     },
     "execution_count": 443,
     "metadata": {},
     "output_type": "execute_result"
    }
   ],
   "source": [
    "all_acts_encoder_out.top_acts.size()"
   ]
  },
  {
   "cell_type": "code",
   "execution_count": 444,
   "metadata": {},
   "outputs": [
    {
     "data": {
      "text/plain": [
       "EncoderOutput(top_acts=tensor([[ 974.5755, 1080.3790, 4630.9312,  ..., 1021.4194,  981.2013,\n",
       "          966.9274],\n",
       "        [ 964.7895, 1067.2743, 4580.1421,  ..., 1009.8358,  970.7190,\n",
       "          956.0707],\n",
       "        [  13.7577,   10.5662,  102.7398,  ...,   11.4450,   12.3541,\n",
       "           10.3635],\n",
       "        ...,\n",
       "        [  30.0918,    7.8799,    7.5453,  ...,    6.5066,    7.9494,\n",
       "            6.2494],\n",
       "        [  23.4145,    6.5452,    6.7281,  ...,    7.9307,    9.2657,\n",
       "            6.5165],\n",
       "        [  24.5339,    5.9652,    5.1287,  ...,    9.2237,    6.5299,\n",
       "            4.8280]], device='cuda:0'), top_indices=tensor([[   65,   569,  1038,  ..., 60642, 62202, 53549],\n",
       "        [   65,   569,  1038,  ..., 60642, 62202, 12740],\n",
       "        [  490,   686,  1038,  ..., 59978, 64399, 11100],\n",
       "        ...,\n",
       "        [ 1038,  3477,  4608,  ..., 58023, 60685, 59361],\n",
       "        [ 1038,  3581,  5954,  ..., 61592, 63979, 31157],\n",
       "        [ 1038,  2920,  3581,  ..., 58023, 58202, 21310]], device='cuda:0'))"
      ]
     },
     "execution_count": 444,
     "metadata": {},
     "output_type": "execute_result"
    }
   ],
   "source": [
    "all_acts_encoder_out"
   ]
  },
  {
   "cell_type": "code",
   "execution_count": 445,
   "metadata": {},
   "outputs": [],
   "source": [
    "generated_only_acts_encoder_out = sae.encode(generated_only_acts)"
   ]
  },
  {
   "cell_type": "code",
   "execution_count": 446,
   "metadata": {},
   "outputs": [
    {
     "name": "stdout",
     "output_type": "stream",
     "text": [
      "All tokens min and max acts:\n",
      "- Min Activation: 3.6030309200286865\n",
      "- Max Activation: 4630.93115234375\n",
      "\n",
      "Generated tokens only min and max acts:\n",
      "- Min Activation: 3.6030309200286865\n",
      "- Max Activation: 86.89747619628906\n"
     ]
    }
   ],
   "source": [
    "print('All tokens min and max acts:')\n",
    "print_limit_acts(all_acts_encoder_out)\n",
    "\n",
    "print('\\nGenerated tokens only min and max acts:')\n",
    "print_limit_acts(generated_only_acts_encoder_out)"
   ]
  },
  {
   "cell_type": "code",
   "execution_count": 524,
   "metadata": {},
   "outputs": [],
   "source": [
    "def get_top_k_encoder_out_by_acts(encoder_out, top_k=None, no_feature_repetition=False):\n",
    "    top_acts_flat = encoder_out.top_acts.flatten()\n",
    "    top_indices_flat = encoder_out.top_indices.flatten()\n",
    "\n",
    "    top_acts_num = top_acts_flat.size(0)\n",
    "    if top_k is None or top_k > top_acts_num:\n",
    "        top_k = top_acts_num\n",
    "\n",
    "    if no_feature_repetition:\n",
    "        feature_max_act = {}\n",
    "        for feature_idx_tn, act_val in zip(top_indices_flat, top_acts_flat):\n",
    "            feature_idx = feature_idx_tn.item()\n",
    "            if feature_idx not in feature_max_act or act_val > feature_max_act[feature_idx]:\n",
    "                feature_max_act[feature_idx] = act_val\n",
    "        \n",
    "        sorted_features = sorted(feature_max_act.items(), key=lambda x: x[1], reverse=True)\n",
    "        \n",
    "        top_k = min(top_k, len(sorted_features))\n",
    "        top_features = sorted_features[:top_k]\n",
    "        \n",
    "        unique_indices = torch.tensor([feature[0] for feature in top_features], device=top_indices_flat.device)\n",
    "        unique_acts = torch.tensor([feature[1] for feature in top_features], device=top_acts_flat.device)\n",
    "        \n",
    "        return SimpleNamespace(\n",
    "            top_acts=unique_acts,\n",
    "            top_indices=unique_indices\n",
    "        )\n",
    "\n",
    "    top_acts_values, top_flat_acts_pos = torch.topk(top_acts_flat, top_k)\n",
    "    corresponding_feature_indices = top_indices_flat[top_flat_acts_pos]\n",
    "\n",
    "    return SimpleNamespace(\n",
    "        top_acts=top_acts_values,\n",
    "        top_indices=corresponding_feature_indices\n",
    "    )"
   ]
  },
  {
   "cell_type": "code",
   "execution_count": 448,
   "metadata": {},
   "outputs": [],
   "source": [
    "def get_top_k_feature_freq_encoder_out(all_steps_feature_indices, top_k=None):\n",
    "    flat_freq = torch.bincount(all_steps_feature_indices.flatten())\n",
    "    feature_indices_with_counts = torch.nonzero(flat_freq, as_tuple=False).squeeze()\n",
    "\n",
    "    feature_freqs = flat_freq[feature_indices_with_counts]\n",
    "    \n",
    "    features_num = feature_indices_with_counts.size(0)\n",
    "    if top_k is None or top_k > features_num:\n",
    "        top_k = features_num\n",
    "\n",
    "    top_k_freqs, top_k_indices = torch.topk(feature_freqs, top_k)\n",
    "    top_k_features = feature_indices_with_counts[top_k_indices]\n",
    "\n",
    "    return SimpleNamespace(\n",
    "        feature_indices=top_k_features,\n",
    "        freqs=top_k_freqs\n",
    "    )"
   ]
  },
  {
   "cell_type": "code",
   "execution_count": null,
   "metadata": {},
   "outputs": [],
   "source": [
    "def relate_feature_acts_to_tokens(encoder_out, feature_idx, sample_tokens, top_k=None, no_token_repetition=False):\n",
    "    feature_acts = torch.where(\n",
    "        encoder_out.top_indices == feature_idx,\n",
    "        encoder_out.top_acts,\n",
    "        torch.tensor(0.0, device=encoder_out.top_acts.device)\n",
    "    )\n",
    "    max_acts_per_token = feature_acts.max(dim=1).values\n",
    "    \n",
    "    # Not that necessary but just in case\n",
    "    nonzero_max_acts_mask = max_acts_per_token > 0\n",
    "    if nonzero_max_acts_mask.sum() == 0:\n",
    "        print(f'Non-dead feature activations weren\\'t found for feature with index {feature_idx}')\n",
    "        return torch.tensor([]), torch.tensor([])\n",
    "    \n",
    "    nonzero_max_acts = max_acts_per_token[nonzero_max_acts_mask]\n",
    "    nonzero_max_acts_indices = nonzero_max_acts_mask.nonzero(as_tuple=True)[0]\n",
    "\n",
    "    if no_token_repetition:\n",
    "        nonzero_tokens = torch.tensor([sample_tokens[i].item() for i in nonzero_max_acts_indices], device=encoder_out.top_acts.device)\n",
    "        unique_tokens, inverse_indices = torch.unique(nonzero_tokens, return_inverse=True)\n",
    "        \n",
    "        unique_tokens_len = len(unique_tokens)\n",
    "        max_acts_per_unique_token = torch.zeros(unique_tokens_len, device=encoder_out.top_acts.device)\n",
    "        for i, token_idx in enumerate(inverse_indices):\n",
    "            max_acts_per_unique_token[token_idx] = max(max_acts_per_unique_token[token_idx], nonzero_max_acts[i])\n",
    "\n",
    "        if top_k is None or top_k > unique_tokens_len:\n",
    "            top_k = unique_tokens_len\n",
    "\n",
    "        top_k_acts, top_k_indices = torch.topk(max_acts_per_unique_token, top_k)\n",
    "        top_k_tokens = unique_tokens[top_k_indices]\n",
    "    else:\n",
    "        non_zero_acts_num = len(nonzero_max_acts)\n",
    "        if top_k is None or top_k > non_zero_acts_num:\n",
    "            top_k = non_zero_acts_num\n",
    "        \n",
    "        top_k_acts, top_k_indices = torch.topk(nonzero_max_acts, top_k)\n",
    "        top_k_tokens = torch.tensor([sample_tokens[i].item() for i in nonzero_max_acts_indices[top_k_indices]], device=encoder_out.top_acts.device)\n",
    "    \n",
    "    return SimpleNamespace(\n",
    "        token_ids=top_k_tokens,\n",
    "        top_acts=top_k_acts\n",
    "    )"
   ]
  },
  {
   "cell_type": "code",
   "execution_count": 498,
   "metadata": {},
   "outputs": [],
   "source": [
    "TOP_K_ENCODER_OUT_BY_ACTS = 400\n",
    "TOP_K_ENCODER_OUT_FEATURE_FREQ = 70"
   ]
  },
  {
   "cell_type": "code",
   "execution_count": 503,
   "metadata": {},
   "outputs": [],
   "source": [
    "top_k_all_acts_encoder_out = get_top_k_encoder_out_by_acts(all_acts_encoder_out, TOP_K_ENCODER_OUT_BY_ACTS)\n",
    "top_k_generated_only_acts_encoder_out = get_top_k_encoder_out_by_acts(generated_only_acts_encoder_out, TOP_K_ENCODER_OUT_BY_ACTS)"
   ]
  },
  {
   "cell_type": "code",
   "execution_count": 499,
   "metadata": {},
   "outputs": [],
   "source": [
    "top_k_all_acts_feature_freq = get_top_k_feature_freq_encoder_out(all_acts_encoder_out.top_indices, TOP_K_ENCODER_OUT_FEATURE_FREQ)\n",
    "top_k_generated_only_acts_feature_freq = get_top_k_feature_freq_encoder_out(generated_only_acts_encoder_out.top_indices, TOP_K_ENCODER_OUT_FEATURE_FREQ)"
   ]
  },
  {
   "cell_type": "code",
   "execution_count": 530,
   "metadata": {},
   "outputs": [],
   "source": [
    "def plot_simple_bar(df, x, y, title, labels):\n",
    "    bar_fig = px.bar(\n",
    "        df,\n",
    "        x=x,\n",
    "        y=y,\n",
    "        title=title,\n",
    "        labels=labels\n",
    "    )\n",
    "    bar_fig.update_layout(\n",
    "        xaxis={\n",
    "            'tickangle': -90,\n",
    "        },\n",
    "        yaxis={\n",
    "            'type': 'log'\n",
    "        }\n",
    "    )\n",
    "    bar_fig.show()\n",
    "\n",
    "def plot_feature_acts(encoder_out, title):\n",
    "    all_outs_encoder_out_df = pd.DataFrame({\n",
    "        'index': encoder_out.top_indices.cpu().numpy().flatten(),\n",
    "        'act': encoder_out.top_acts.cpu().numpy().flatten()\n",
    "    })\n",
    "    all_outs_encoder_out_df['index'] = all_outs_encoder_out_df['index'].astype(str)\n",
    "    plot_simple_bar(\n",
    "        all_outs_encoder_out_df,\n",
    "        x='index',\n",
    "        y='act',\n",
    "        title=title,\n",
    "        labels={'index': 'Feature Index', 'act': 'Activation'}\n",
    "    )\n",
    "\n",
    "def plot_feature_freqs(feature_freqs, title):\n",
    "    all_outs_encoder_out_df = pd.DataFrame({\n",
    "        'index': feature_freqs.feature_indices.cpu().numpy().flatten(),\n",
    "        'freq': feature_freqs.freqs.cpu().numpy().flatten()\n",
    "    })\n",
    "    all_outs_encoder_out_df['index'] = all_outs_encoder_out_df['index'].astype(str)\n",
    "    plot_simple_bar(\n",
    "        all_outs_encoder_out_df,\n",
    "        x='index',\n",
    "        y='freq',\n",
    "        title=title,\n",
    "        labels={'index': 'Feature Index', 'freq': 'Frequency'}\n",
    "    )\n",
    "\n",
    "def plot_acts_histogram(encoder_out, title, nbins=50):\n",
    "    acts_hist_fig = px.histogram(\n",
    "        x=encoder_out.top_acts.cpu().numpy().flatten(),\n",
    "        nbins=nbins,\n",
    "        title=title,\n",
    "        labels={'x': 'Activation', 'y': ' Frequency'},\n",
    "    )\n",
    "    acts_hist_fig.update_yaxes(type='log')\n",
    "    acts_hist_fig.show()\n",
    "\n",
    "def plot_acts_and_tokens_relation_scatter(token_acts_relation, title):\n",
    "    token_act_df = pd.DataFrame({\n",
    "        'token_id': token_acts_relation.token_ids.cpu().numpy(),\n",
    "        'top_acts': token_acts_relation.top_acts.cpu().numpy()\n",
    "    })\n",
    "    scatter_fig = px.scatter(\n",
    "        token_act_df,\n",
    "        x='token_id',\n",
    "        y='top_acts',\n",
    "        title=title,\n",
    "        labels={'top_acts': 'Top Activations', 'token_id': 'Token ID'}\n",
    "    )\n",
    "    scatter_fig.update_traces(marker=dict(size=12, opacity=0.7))\n",
    "    scatter_fig.show()\n",
    "\n",
    "def plot_acts_and_tokens_relation_bar(token_acts_relation, title):\n",
    "    decoded_tokens = decode_inference(token_acts_relation.token_ids)\n",
    "    decoded_tokens = [\n",
    "        f'<space>:{token_id}' if token == ' ' else\n",
    "        f'<colon>:{token_id}' if token == ':' else\n",
    "        f'{token}:{token_id}'\n",
    "        for token, token_id in zip(decoded_tokens, token_acts_relation.token_ids.tolist())\n",
    "    ]\n",
    "    token_act_df = pd.DataFrame({\n",
    "        'token': decoded_tokens,\n",
    "        'top_acts': token_acts_relation.top_acts.cpu().numpy()\n",
    "    })\n",
    "    plot_height = max(400, len(token_act_df) * 15)\n",
    "    acts_tokens_bar_fig = px.bar(\n",
    "        token_act_df,\n",
    "        x='top_acts',\n",
    "        y='token',\n",
    "        orientation='h',\n",
    "        title=title,\n",
    "        labels={'top_acts': 'Top Activation', 'token': 'Token'},\n",
    "    )\n",
    "    acts_tokens_bar_fig.update_layout(\n",
    "        yaxis={\n",
    "            'categoryorder': 'total ascending',\n",
    "            'tickmode': 'array',\n",
    "            'tickvals': token_act_df['token'],\n",
    "            'ticktext': token_act_df['token']\n",
    "        },\n",
    "        xaxis={\n",
    "            'type': 'log'\n",
    "        },\n",
    "        margin=dict(l=200),\n",
    "        font=dict(size=10),\n",
    "        height=plot_height\n",
    "    )\n",
    "    acts_tokens_bar_fig.show()"
   ]
  },
  {
   "cell_type": "code",
   "execution_count": 504,
   "metadata": {},
   "outputs": [
    {
     "data": {
      "application/vnd.plotly.v1+json": {
       "config": {
        "plotlyServerURL": "https://plot.ly"
       },
       "data": [
        {
         "hovertemplate": "Feature Index=%{x}<br>Activation=%{y}<extra></extra>",
         "legendgroup": "",
         "marker": {
          "color": "#636efa",
          "pattern": {
           "shape": ""
          }
         },
         "name": "",
         "orientation": "v",
         "showlegend": false,
         "textposition": "auto",
         "type": "bar",
         "x": [
          "1038",
          "1038",
          "14895",
          "14895",
          "6008",
          "6008",
          "37151",
          "37151",
          "6589",
          "6589",
          "34253",
          "12571",
          "34253",
          "58874",
          "18527",
          "1203",
          "12571",
          "569",
          "58874",
          "18527",
          "1203",
          "569",
          "21560",
          "21560",
          "47469",
          "58941",
          "57234",
          "47469",
          "32378",
          "58941",
          "46800",
          "57234",
          "44259",
          "32378",
          "46800",
          "60642",
          "44259",
          "18793",
          "60642",
          "32957",
          "18793",
          "49082",
          "32957",
          "37762",
          "49082",
          "42151",
          "62202",
          "37762",
          "23296",
          "65",
          "42151",
          "21065",
          "48705",
          "62202",
          "42260",
          "12740",
          "53549",
          "23296",
          "65",
          "21065",
          "42260",
          "48705",
          "53549",
          "12740",
          "1038",
          "1038",
          "1038",
          "1038",
          "1038",
          "1038",
          "1038",
          "1038",
          "1038",
          "1038",
          "1038",
          "1038",
          "1038",
          "1038",
          "1038",
          "1038",
          "1038",
          "1038",
          "1038",
          "1038",
          "1038",
          "1038",
          "1038",
          "1038",
          "1038",
          "1038",
          "1038",
          "1038",
          "1038",
          "1038",
          "1038",
          "1038",
          "1038",
          "1038",
          "1038",
          "1038",
          "1038",
          "1038",
          "1038",
          "1038",
          "1038",
          "1038",
          "1038",
          "1038",
          "1038",
          "1038",
          "1038",
          "1038",
          "1038",
          "1038",
          "1038",
          "1038",
          "1038",
          "1038",
          "1038",
          "1038",
          "1038",
          "1038",
          "1038",
          "1038",
          "1038",
          "45755",
          "1038",
          "1038",
          "1038",
          "1038",
          "1038",
          "1038",
          "1038",
          "1038",
          "1038",
          "1038",
          "1038",
          "1038",
          "1038",
          "1038",
          "1038",
          "1038",
          "1038",
          "1038",
          "1038",
          "1038",
          "1038",
          "1038",
          "1038",
          "1038",
          "1038",
          "1038",
          "1038",
          "1038",
          "1038",
          "1038",
          "1038",
          "1038",
          "1038",
          "1038",
          "1038",
          "1038",
          "1038",
          "1038",
          "1038",
          "1038",
          "1038",
          "1038",
          "1038",
          "1038",
          "1038",
          "1038",
          "1038",
          "1038",
          "1038",
          "1038",
          "1038",
          "1038",
          "1038",
          "1038",
          "1038",
          "1038",
          "1038",
          "1038",
          "1038",
          "1038",
          "1038",
          "1038",
          "1038",
          "1038",
          "1038",
          "1038",
          "1038",
          "1038",
          "1038",
          "1038",
          "1038",
          "1038",
          "1038",
          "1038",
          "1038",
          "1038",
          "1038",
          "1038",
          "1038",
          "1038",
          "1038",
          "1038",
          "1038",
          "1038",
          "1038",
          "1038",
          "1038",
          "1038",
          "1038",
          "1038",
          "1038",
          "1038",
          "47268",
          "1038",
          "1038",
          "1038",
          "1038",
          "1038",
          "1038",
          "1038",
          "1038",
          "1038",
          "1038",
          "1038",
          "1038",
          "1038",
          "1038",
          "1038",
          "1038",
          "1038",
          "1038",
          "1038",
          "1038",
          "1038",
          "1038",
          "1038",
          "1038",
          "1038",
          "1038",
          "1038",
          "1038",
          "1038",
          "1038",
          "1038",
          "1038",
          "1038",
          "1038",
          "1038",
          "1038",
          "1038",
          "1038",
          "1038",
          "1038",
          "47268",
          "1038",
          "1038",
          "1038",
          "1038",
          "1038",
          "1038",
          "1038",
          "1038",
          "1038",
          "27415",
          "1038",
          "1038",
          "1038",
          "1038",
          "1038",
          "1038",
          "1038",
          "1038",
          "1038",
          "1038",
          "1038",
          "1038",
          "1038",
          "1038",
          "1038",
          "32456",
          "1038",
          "1038",
          "1038",
          "1038",
          "1038",
          "1038",
          "1038",
          "1038",
          "1038",
          "1038",
          "1038",
          "1038",
          "1038",
          "1038",
          "1038",
          "1038",
          "1038",
          "6252",
          "1038",
          "1038",
          "1038",
          "47268",
          "1038",
          "1038",
          "1038",
          "33329",
          "1038",
          "1038",
          "1038",
          "1038",
          "1038",
          "1038",
          "1038",
          "1038",
          "45569",
          "1038",
          "1038",
          "1038",
          "4357",
          "1038",
          "1038",
          "1038",
          "1038",
          "1038",
          "1038",
          "1038",
          "1038",
          "1038",
          "1038",
          "1038",
          "1038",
          "1038",
          "26631",
          "17305",
          "1038",
          "1038",
          "1038",
          "1038",
          "18379",
          "1038",
          "1038",
          "1038",
          "1038",
          "1038",
          "1038",
          "1038",
          "1038",
          "1038",
          "1038",
          "38173",
          "1038",
          "1038",
          "1038",
          "1038",
          "1038",
          "1038",
          "1038",
          "1038",
          "1038",
          "55281",
          "1038",
          "1038",
          "47268",
          "1038",
          "1038",
          "1038",
          "1038",
          "54068",
          "1038",
          "1038",
          "1038",
          "1038",
          "1038",
          "1038",
          "1038",
          "64092",
          "1038",
          "32220",
          "61024",
          "1038",
          "45755",
          "49921",
          "22337",
          "21054",
          "1038",
          "1038",
          "1038",
          "47268",
          "45755",
          "1038",
          "42472",
          "1038",
          "1038",
          "8769"
         ],
         "xaxis": "x",
         "y": {
          "bdata": "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",
          "dtype": "f4"
         },
         "yaxis": "y"
        }
       ],
       "layout": {
        "barmode": "relative",
        "legend": {
         "tracegroupgap": 0
        },
        "template": {
         "data": {
          "bar": [
           {
            "error_x": {
             "color": "#2a3f5f"
            },
            "error_y": {
             "color": "#2a3f5f"
            },
            "marker": {
             "line": {
              "color": "#E5ECF6",
              "width": 0.5
             },
             "pattern": {
              "fillmode": "overlay",
              "size": 10,
              "solidity": 0.2
             }
            },
            "type": "bar"
           }
          ],
          "barpolar": [
           {
            "marker": {
             "line": {
              "color": "#E5ECF6",
              "width": 0.5
             },
             "pattern": {
              "fillmode": "overlay",
              "size": 10,
              "solidity": 0.2
             }
            },
            "type": "barpolar"
           }
          ],
          "carpet": [
           {
            "aaxis": {
             "endlinecolor": "#2a3f5f",
             "gridcolor": "white",
             "linecolor": "white",
             "minorgridcolor": "white",
             "startlinecolor": "#2a3f5f"
            },
            "baxis": {
             "endlinecolor": "#2a3f5f",
             "gridcolor": "white",
             "linecolor": "white",
             "minorgridcolor": "white",
             "startlinecolor": "#2a3f5f"
            },
            "type": "carpet"
           }
          ],
          "choropleth": [
           {
            "colorbar": {
             "outlinewidth": 0,
             "ticks": ""
            },
            "type": "choropleth"
           }
          ],
          "contour": [
           {
            "colorbar": {
             "outlinewidth": 0,
             "ticks": ""
            },
            "colorscale": [
             [
              0,
              "#0d0887"
             ],
             [
              0.1111111111111111,
              "#46039f"
             ],
             [
              0.2222222222222222,
              "#7201a8"
             ],
             [
              0.3333333333333333,
              "#9c179e"
             ],
             [
              0.4444444444444444,
              "#bd3786"
             ],
             [
              0.5555555555555556,
              "#d8576b"
             ],
             [
              0.6666666666666666,
              "#ed7953"
             ],
             [
              0.7777777777777778,
              "#fb9f3a"
             ],
             [
              0.8888888888888888,
              "#fdca26"
             ],
             [
              1,
              "#f0f921"
             ]
            ],
            "type": "contour"
           }
          ],
          "contourcarpet": [
           {
            "colorbar": {
             "outlinewidth": 0,
             "ticks": ""
            },
            "type": "contourcarpet"
           }
          ],
          "heatmap": [
           {
            "colorbar": {
             "outlinewidth": 0,
             "ticks": ""
            },
            "colorscale": [
             [
              0,
              "#0d0887"
             ],
             [
              0.1111111111111111,
              "#46039f"
             ],
             [
              0.2222222222222222,
              "#7201a8"
             ],
             [
              0.3333333333333333,
              "#9c179e"
             ],
             [
              0.4444444444444444,
              "#bd3786"
             ],
             [
              0.5555555555555556,
              "#d8576b"
             ],
             [
              0.6666666666666666,
              "#ed7953"
             ],
             [
              0.7777777777777778,
              "#fb9f3a"
             ],
             [
              0.8888888888888888,
              "#fdca26"
             ],
             [
              1,
              "#f0f921"
             ]
            ],
            "type": "heatmap"
           }
          ],
          "histogram": [
           {
            "marker": {
             "pattern": {
              "fillmode": "overlay",
              "size": 10,
              "solidity": 0.2
             }
            },
            "type": "histogram"
           }
          ],
          "histogram2d": [
           {
            "colorbar": {
             "outlinewidth": 0,
             "ticks": ""
            },
            "colorscale": [
             [
              0,
              "#0d0887"
             ],
             [
              0.1111111111111111,
              "#46039f"
             ],
             [
              0.2222222222222222,
              "#7201a8"
             ],
             [
              0.3333333333333333,
              "#9c179e"
             ],
             [
              0.4444444444444444,
              "#bd3786"
             ],
             [
              0.5555555555555556,
              "#d8576b"
             ],
             [
              0.6666666666666666,
              "#ed7953"
             ],
             [
              0.7777777777777778,
              "#fb9f3a"
             ],
             [
              0.8888888888888888,
              "#fdca26"
             ],
             [
              1,
              "#f0f921"
             ]
            ],
            "type": "histogram2d"
           }
          ],
          "histogram2dcontour": [
           {
            "colorbar": {
             "outlinewidth": 0,
             "ticks": ""
            },
            "colorscale": [
             [
              0,
              "#0d0887"
             ],
             [
              0.1111111111111111,
              "#46039f"
             ],
             [
              0.2222222222222222,
              "#7201a8"
             ],
             [
              0.3333333333333333,
              "#9c179e"
             ],
             [
              0.4444444444444444,
              "#bd3786"
             ],
             [
              0.5555555555555556,
              "#d8576b"
             ],
             [
              0.6666666666666666,
              "#ed7953"
             ],
             [
              0.7777777777777778,
              "#fb9f3a"
             ],
             [
              0.8888888888888888,
              "#fdca26"
             ],
             [
              1,
              "#f0f921"
             ]
            ],
            "type": "histogram2dcontour"
           }
          ],
          "mesh3d": [
           {
            "colorbar": {
             "outlinewidth": 0,
             "ticks": ""
            },
            "type": "mesh3d"
           }
          ],
          "parcoords": [
           {
            "line": {
             "colorbar": {
              "outlinewidth": 0,
              "ticks": ""
             }
            },
            "type": "parcoords"
           }
          ],
          "pie": [
           {
            "automargin": true,
            "type": "pie"
           }
          ],
          "scatter": [
           {
            "fillpattern": {
             "fillmode": "overlay",
             "size": 10,
             "solidity": 0.2
            },
            "type": "scatter"
           }
          ],
          "scatter3d": [
           {
            "line": {
             "colorbar": {
              "outlinewidth": 0,
              "ticks": ""
             }
            },
            "marker": {
             "colorbar": {
              "outlinewidth": 0,
              "ticks": ""
             }
            },
            "type": "scatter3d"
           }
          ],
          "scattercarpet": [
           {
            "marker": {
             "colorbar": {
              "outlinewidth": 0,
              "ticks": ""
             }
            },
            "type": "scattercarpet"
           }
          ],
          "scattergeo": [
           {
            "marker": {
             "colorbar": {
              "outlinewidth": 0,
              "ticks": ""
             }
            },
            "type": "scattergeo"
           }
          ],
          "scattergl": [
           {
            "marker": {
             "colorbar": {
              "outlinewidth": 0,
              "ticks": ""
             }
            },
            "type": "scattergl"
           }
          ],
          "scattermap": [
           {
            "marker": {
             "colorbar": {
              "outlinewidth": 0,
              "ticks": ""
             }
            },
            "type": "scattermap"
           }
          ],
          "scattermapbox": [
           {
            "marker": {
             "colorbar": {
              "outlinewidth": 0,
              "ticks": ""
             }
            },
            "type": "scattermapbox"
           }
          ],
          "scatterpolar": [
           {
            "marker": {
             "colorbar": {
              "outlinewidth": 0,
              "ticks": ""
             }
            },
            "type": "scatterpolar"
           }
          ],
          "scatterpolargl": [
           {
            "marker": {
             "colorbar": {
              "outlinewidth": 0,
              "ticks": ""
             }
            },
            "type": "scatterpolargl"
           }
          ],
          "scatterternary": [
           {
            "marker": {
             "colorbar": {
              "outlinewidth": 0,
              "ticks": ""
             }
            },
            "type": "scatterternary"
           }
          ],
          "surface": [
           {
            "colorbar": {
             "outlinewidth": 0,
             "ticks": ""
            },
            "colorscale": [
             [
              0,
              "#0d0887"
             ],
             [
              0.1111111111111111,
              "#46039f"
             ],
             [
              0.2222222222222222,
              "#7201a8"
             ],
             [
              0.3333333333333333,
              "#9c179e"
             ],
             [
              0.4444444444444444,
              "#bd3786"
             ],
             [
              0.5555555555555556,
              "#d8576b"
             ],
             [
              0.6666666666666666,
              "#ed7953"
             ],
             [
              0.7777777777777778,
              "#fb9f3a"
             ],
             [
              0.8888888888888888,
              "#fdca26"
             ],
             [
              1,
              "#f0f921"
             ]
            ],
            "type": "surface"
           }
          ],
          "table": [
           {
            "cells": {
             "fill": {
              "color": "#EBF0F8"
             },
             "line": {
              "color": "white"
             }
            },
            "header": {
             "fill": {
              "color": "#C8D4E3"
             },
             "line": {
              "color": "white"
             }
            },
            "type": "table"
           }
          ]
         },
         "layout": {
          "annotationdefaults": {
           "arrowcolor": "#2a3f5f",
           "arrowhead": 0,
           "arrowwidth": 1
          },
          "autotypenumbers": "strict",
          "coloraxis": {
           "colorbar": {
            "outlinewidth": 0,
            "ticks": ""
           }
          },
          "colorscale": {
           "diverging": [
            [
             0,
             "#8e0152"
            ],
            [
             0.1,
             "#c51b7d"
            ],
            [
             0.2,
             "#de77ae"
            ],
            [
             0.3,
             "#f1b6da"
            ],
            [
             0.4,
             "#fde0ef"
            ],
            [
             0.5,
             "#f7f7f7"
            ],
            [
             0.6,
             "#e6f5d0"
            ],
            [
             0.7,
             "#b8e186"
            ],
            [
             0.8,
             "#7fbc41"
            ],
            [
             0.9,
             "#4d9221"
            ],
            [
             1,
             "#276419"
            ]
           ],
           "sequential": [
            [
             0,
             "#0d0887"
            ],
            [
             0.1111111111111111,
             "#46039f"
            ],
            [
             0.2222222222222222,
             "#7201a8"
            ],
            [
             0.3333333333333333,
             "#9c179e"
            ],
            [
             0.4444444444444444,
             "#bd3786"
            ],
            [
             0.5555555555555556,
             "#d8576b"
            ],
            [
             0.6666666666666666,
             "#ed7953"
            ],
            [
             0.7777777777777778,
             "#fb9f3a"
            ],
            [
             0.8888888888888888,
             "#fdca26"
            ],
            [
             1,
             "#f0f921"
            ]
           ],
           "sequentialminus": [
            [
             0,
             "#0d0887"
            ],
            [
             0.1111111111111111,
             "#46039f"
            ],
            [
             0.2222222222222222,
             "#7201a8"
            ],
            [
             0.3333333333333333,
             "#9c179e"
            ],
            [
             0.4444444444444444,
             "#bd3786"
            ],
            [
             0.5555555555555556,
             "#d8576b"
            ],
            [
             0.6666666666666666,
             "#ed7953"
            ],
            [
             0.7777777777777778,
             "#fb9f3a"
            ],
            [
             0.8888888888888888,
             "#fdca26"
            ],
            [
             1,
             "#f0f921"
            ]
           ]
          },
          "colorway": [
           "#636efa",
           "#EF553B",
           "#00cc96",
           "#ab63fa",
           "#FFA15A",
           "#19d3f3",
           "#FF6692",
           "#B6E880",
           "#FF97FF",
           "#FECB52"
          ],
          "font": {
           "color": "#2a3f5f"
          },
          "geo": {
           "bgcolor": "white",
           "lakecolor": "white",
           "landcolor": "#E5ECF6",
           "showlakes": true,
           "showland": true,
           "subunitcolor": "white"
          },
          "hoverlabel": {
           "align": "left"
          },
          "hovermode": "closest",
          "mapbox": {
           "style": "light"
          },
          "paper_bgcolor": "white",
          "plot_bgcolor": "#E5ECF6",
          "polar": {
           "angularaxis": {
            "gridcolor": "white",
            "linecolor": "white",
            "ticks": ""
           },
           "bgcolor": "#E5ECF6",
           "radialaxis": {
            "gridcolor": "white",
            "linecolor": "white",
            "ticks": ""
           }
          },
          "scene": {
           "xaxis": {
            "backgroundcolor": "#E5ECF6",
            "gridcolor": "white",
            "gridwidth": 2,
            "linecolor": "white",
            "showbackground": true,
            "ticks": "",
            "zerolinecolor": "white"
           },
           "yaxis": {
            "backgroundcolor": "#E5ECF6",
            "gridcolor": "white",
            "gridwidth": 2,
            "linecolor": "white",
            "showbackground": true,
            "ticks": "",
            "zerolinecolor": "white"
           },
           "zaxis": {
            "backgroundcolor": "#E5ECF6",
            "gridcolor": "white",
            "gridwidth": 2,
            "linecolor": "white",
            "showbackground": true,
            "ticks": "",
            "zerolinecolor": "white"
           }
          },
          "shapedefaults": {
           "line": {
            "color": "#2a3f5f"
           }
          },
          "ternary": {
           "aaxis": {
            "gridcolor": "white",
            "linecolor": "white",
            "ticks": ""
           },
           "baxis": {
            "gridcolor": "white",
            "linecolor": "white",
            "ticks": ""
           },
           "bgcolor": "#E5ECF6",
           "caxis": {
            "gridcolor": "white",
            "linecolor": "white",
            "ticks": ""
           }
          },
          "title": {
           "x": 0.05
          },
          "xaxis": {
           "automargin": true,
           "gridcolor": "white",
           "linecolor": "white",
           "ticks": "",
           "title": {
            "standoff": 15
           },
           "zerolinecolor": "white",
           "zerolinewidth": 2
          },
          "yaxis": {
           "automargin": true,
           "gridcolor": "white",
           "linecolor": "white",
           "ticks": "",
           "title": {
            "standoff": 15
           },
           "zerolinecolor": "white",
           "zerolinewidth": 2
          }
         }
        },
        "title": {
         "text": "Top 400 Feature Activations (Including activations from input tokens)"
        },
        "xaxis": {
         "anchor": "y",
         "domain": [
          0,
          1
         ],
         "tickangle": -90,
         "title": {
          "text": "Feature Index"
         }
        },
        "yaxis": {
         "anchor": "x",
         "domain": [
          0,
          1
         ],
         "title": {
          "text": "Activation"
         },
         "type": "log"
        }
       }
      }
     },
     "metadata": {},
     "output_type": "display_data"
    }
   ],
   "source": [
    "plot_feature_acts(top_k_all_acts_encoder_out, title=f'Top {TOP_K_ENCODER_OUT_BY_ACTS} Feature Activations (Including activations from input tokens)')"
   ]
  },
  {
   "cell_type": "code",
   "execution_count": 496,
   "metadata": {},
   "outputs": [
    {
     "data": {
      "application/vnd.plotly.v1+json": {
       "config": {
        "plotlyServerURL": "https://plot.ly"
       },
       "data": [
        {
         "hovertemplate": "Feature Index=%{x}<br>Activation=%{y}<extra></extra>",
         "legendgroup": "",
         "marker": {
          "color": "#636efa",
          "pattern": {
           "shape": ""
          }
         },
         "name": "",
         "orientation": "v",
         "showlegend": false,
         "textposition": "auto",
         "type": "bar",
         "x": [
          "1038",
          "1038",
          "1038",
          "1038",
          "1038",
          "1038",
          "1038",
          "1038",
          "1038",
          "1038",
          "1038",
          "1038",
          "1038",
          "1038",
          "1038",
          "1038",
          "1038",
          "1038",
          "1038",
          "1038",
          "1038",
          "1038",
          "1038",
          "1038",
          "1038",
          "1038",
          "1038",
          "1038",
          "1038",
          "1038",
          "1038",
          "1038",
          "1038",
          "1038",
          "1038",
          "1038",
          "1038",
          "1038",
          "1038",
          "1038",
          "1038",
          "1038",
          "1038",
          "1038",
          "1038",
          "1038",
          "1038",
          "1038",
          "1038",
          "1038",
          "1038",
          "1038",
          "1038",
          "1038",
          "1038",
          "1038",
          "1038",
          "1038",
          "1038",
          "1038",
          "1038",
          "1038",
          "1038",
          "1038",
          "1038",
          "1038",
          "1038",
          "1038",
          "1038",
          "1038",
          "1038",
          "1038",
          "1038",
          "1038",
          "1038",
          "1038",
          "1038",
          "1038",
          "1038",
          "1038",
          "1038",
          "1038",
          "1038",
          "1038",
          "1038",
          "1038",
          "1038",
          "1038",
          "1038",
          "1038",
          "1038",
          "1038",
          "1038",
          "1038",
          "1038",
          "1038",
          "1038",
          "1038",
          "1038",
          "1038",
          "1038",
          "1038",
          "1038",
          "1038",
          "1038",
          "1038",
          "1038",
          "1038",
          "1038",
          "1038",
          "1038",
          "1038",
          "1038",
          "1038",
          "1038",
          "1038",
          "1038",
          "1038",
          "1038",
          "1038",
          "1038",
          "1038",
          "1038",
          "1038",
          "1038",
          "1038",
          "1038",
          "1038",
          "1038",
          "1038",
          "1038",
          "1038",
          "1038",
          "1038",
          "1038",
          "1038",
          "1038",
          "47268",
          "1038",
          "1038",
          "1038",
          "1038",
          "1038",
          "1038",
          "1038",
          "1038",
          "1038",
          "1038",
          "1038",
          "1038",
          "1038",
          "1038",
          "1038",
          "1038",
          "1038",
          "1038",
          "1038",
          "1038",
          "1038",
          "1038",
          "1038",
          "1038",
          "1038",
          "1038",
          "1038",
          "1038",
          "1038",
          "1038",
          "1038",
          "1038",
          "1038",
          "1038",
          "1038",
          "47268",
          "1038",
          "1038",
          "1038",
          "1038",
          "1038",
          "1038",
          "1038",
          "1038",
          "1038",
          "1038",
          "1038",
          "1038",
          "1038",
          "1038",
          "1038",
          "1038",
          "1038",
          "1038",
          "1038",
          "1038",
          "1038",
          "1038",
          "1038",
          "32456",
          "1038",
          "1038",
          "1038",
          "1038",
          "1038",
          "1038",
          "1038",
          "1038",
          "1038",
          "1038",
          "1038",
          "1038",
          "1038",
          "1038",
          "1038",
          "1038",
          "1038",
          "1038",
          "1038",
          "1038",
          "47268",
          "1038",
          "1038",
          "1038",
          "33329",
          "1038",
          "1038",
          "1038",
          "1038",
          "1038",
          "1038",
          "1038",
          "1038",
          "1038",
          "1038",
          "1038",
          "1038",
          "1038",
          "1038",
          "1038",
          "1038",
          "1038",
          "1038",
          "1038",
          "1038",
          "1038",
          "1038",
          "1038",
          "1038",
          "1038",
          "1038",
          "1038",
          "1038",
          "1038",
          "1038",
          "1038",
          "1038",
          "1038",
          "1038",
          "1038",
          "1038",
          "1038",
          "1038",
          "1038",
          "1038",
          "1038",
          "1038",
          "1038",
          "1038",
          "55281",
          "1038",
          "1038",
          "47268",
          "1038",
          "1038",
          "1038",
          "1038",
          "1038",
          "1038",
          "1038",
          "1038",
          "1038",
          "1038",
          "64092",
          "1038",
          "1038",
          "1038",
          "1038",
          "47268",
          "45755",
          "1038",
          "1038",
          "1038",
          "8769",
          "61505",
          "1038",
          "1038",
          "1038",
          "1038",
          "1038",
          "1038",
          "1038",
          "1038",
          "1038",
          "1038",
          "35019",
          "1038",
          "53702",
          "1038",
          "1038",
          "1038",
          "1038",
          "1038",
          "1038",
          "1038",
          "1038",
          "1038",
          "1038",
          "1038",
          "1038",
          "1038",
          "1038",
          "1038",
          "1038",
          "1038",
          "1038",
          "1038",
          "1038",
          "1038",
          "1038",
          "1038",
          "1038",
          "1038",
          "1038",
          "26074",
          "55281",
          "1038",
          "1038",
          "1038",
          "1038",
          "54021",
          "1038",
          "46519",
          "1038",
          "34380",
          "1038",
          "1038",
          "12038",
          "49861",
          "5918",
          "1038",
          "36007",
          "17820",
          "1038",
          "27584",
          "1038",
          "47268",
          "59801",
          "35019",
          "53330",
          "40254",
          "60262",
          "64092",
          "54374",
          "1038",
          "1038",
          "15994",
          "1432",
          "1038",
          "1038",
          "1038",
          "1038",
          "45186",
          "1038",
          "29166",
          "1038",
          "54409",
          "51950",
          "37549",
          "22195",
          "62124",
          "55975",
          "1038",
          "1038",
          "1038",
          "1038",
          "58161",
          "1038",
          "5918",
          "1038",
          "27105",
          "32456",
          "52552",
          "1038",
          "1038",
          "27381",
          "18619",
          "59335",
          "40254",
          "55724",
          "3066",
          "1038"
         ],
         "xaxis": "x",
         "y": {
          "bdata": "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",
          "dtype": "f4"
         },
         "yaxis": "y"
        }
       ],
       "layout": {
        "barmode": "relative",
        "legend": {
         "tracegroupgap": 0
        },
        "template": {
         "data": {
          "bar": [
           {
            "error_x": {
             "color": "#2a3f5f"
            },
            "error_y": {
             "color": "#2a3f5f"
            },
            "marker": {
             "line": {
              "color": "#E5ECF6",
              "width": 0.5
             },
             "pattern": {
              "fillmode": "overlay",
              "size": 10,
              "solidity": 0.2
             }
            },
            "type": "bar"
           }
          ],
          "barpolar": [
           {
            "marker": {
             "line": {
              "color": "#E5ECF6",
              "width": 0.5
             },
             "pattern": {
              "fillmode": "overlay",
              "size": 10,
              "solidity": 0.2
             }
            },
            "type": "barpolar"
           }
          ],
          "carpet": [
           {
            "aaxis": {
             "endlinecolor": "#2a3f5f",
             "gridcolor": "white",
             "linecolor": "white",
             "minorgridcolor": "white",
             "startlinecolor": "#2a3f5f"
            },
            "baxis": {
             "endlinecolor": "#2a3f5f",
             "gridcolor": "white",
             "linecolor": "white",
             "minorgridcolor": "white",
             "startlinecolor": "#2a3f5f"
            },
            "type": "carpet"
           }
          ],
          "choropleth": [
           {
            "colorbar": {
             "outlinewidth": 0,
             "ticks": ""
            },
            "type": "choropleth"
           }
          ],
          "contour": [
           {
            "colorbar": {
             "outlinewidth": 0,
             "ticks": ""
            },
            "colorscale": [
             [
              0,
              "#0d0887"
             ],
             [
              0.1111111111111111,
              "#46039f"
             ],
             [
              0.2222222222222222,
              "#7201a8"
             ],
             [
              0.3333333333333333,
              "#9c179e"
             ],
             [
              0.4444444444444444,
              "#bd3786"
             ],
             [
              0.5555555555555556,
              "#d8576b"
             ],
             [
              0.6666666666666666,
              "#ed7953"
             ],
             [
              0.7777777777777778,
              "#fb9f3a"
             ],
             [
              0.8888888888888888,
              "#fdca26"
             ],
             [
              1,
              "#f0f921"
             ]
            ],
            "type": "contour"
           }
          ],
          "contourcarpet": [
           {
            "colorbar": {
             "outlinewidth": 0,
             "ticks": ""
            },
            "type": "contourcarpet"
           }
          ],
          "heatmap": [
           {
            "colorbar": {
             "outlinewidth": 0,
             "ticks": ""
            },
            "colorscale": [
             [
              0,
              "#0d0887"
             ],
             [
              0.1111111111111111,
              "#46039f"
             ],
             [
              0.2222222222222222,
              "#7201a8"
             ],
             [
              0.3333333333333333,
              "#9c179e"
             ],
             [
              0.4444444444444444,
              "#bd3786"
             ],
             [
              0.5555555555555556,
              "#d8576b"
             ],
             [
              0.6666666666666666,
              "#ed7953"
             ],
             [
              0.7777777777777778,
              "#fb9f3a"
             ],
             [
              0.8888888888888888,
              "#fdca26"
             ],
             [
              1,
              "#f0f921"
             ]
            ],
            "type": "heatmap"
           }
          ],
          "histogram": [
           {
            "marker": {
             "pattern": {
              "fillmode": "overlay",
              "size": 10,
              "solidity": 0.2
             }
            },
            "type": "histogram"
           }
          ],
          "histogram2d": [
           {
            "colorbar": {
             "outlinewidth": 0,
             "ticks": ""
            },
            "colorscale": [
             [
              0,
              "#0d0887"
             ],
             [
              0.1111111111111111,
              "#46039f"
             ],
             [
              0.2222222222222222,
              "#7201a8"
             ],
             [
              0.3333333333333333,
              "#9c179e"
             ],
             [
              0.4444444444444444,
              "#bd3786"
             ],
             [
              0.5555555555555556,
              "#d8576b"
             ],
             [
              0.6666666666666666,
              "#ed7953"
             ],
             [
              0.7777777777777778,
              "#fb9f3a"
             ],
             [
              0.8888888888888888,
              "#fdca26"
             ],
             [
              1,
              "#f0f921"
             ]
            ],
            "type": "histogram2d"
           }
          ],
          "histogram2dcontour": [
           {
            "colorbar": {
             "outlinewidth": 0,
             "ticks": ""
            },
            "colorscale": [
             [
              0,
              "#0d0887"
             ],
             [
              0.1111111111111111,
              "#46039f"
             ],
             [
              0.2222222222222222,
              "#7201a8"
             ],
             [
              0.3333333333333333,
              "#9c179e"
             ],
             [
              0.4444444444444444,
              "#bd3786"
             ],
             [
              0.5555555555555556,
              "#d8576b"
             ],
             [
              0.6666666666666666,
              "#ed7953"
             ],
             [
              0.7777777777777778,
              "#fb9f3a"
             ],
             [
              0.8888888888888888,
              "#fdca26"
             ],
             [
              1,
              "#f0f921"
             ]
            ],
            "type": "histogram2dcontour"
           }
          ],
          "mesh3d": [
           {
            "colorbar": {
             "outlinewidth": 0,
             "ticks": ""
            },
            "type": "mesh3d"
           }
          ],
          "parcoords": [
           {
            "line": {
             "colorbar": {
              "outlinewidth": 0,
              "ticks": ""
             }
            },
            "type": "parcoords"
           }
          ],
          "pie": [
           {
            "automargin": true,
            "type": "pie"
           }
          ],
          "scatter": [
           {
            "fillpattern": {
             "fillmode": "overlay",
             "size": 10,
             "solidity": 0.2
            },
            "type": "scatter"
           }
          ],
          "scatter3d": [
           {
            "line": {
             "colorbar": {
              "outlinewidth": 0,
              "ticks": ""
             }
            },
            "marker": {
             "colorbar": {
              "outlinewidth": 0,
              "ticks": ""
             }
            },
            "type": "scatter3d"
           }
          ],
          "scattercarpet": [
           {
            "marker": {
             "colorbar": {
              "outlinewidth": 0,
              "ticks": ""
             }
            },
            "type": "scattercarpet"
           }
          ],
          "scattergeo": [
           {
            "marker": {
             "colorbar": {
              "outlinewidth": 0,
              "ticks": ""
             }
            },
            "type": "scattergeo"
           }
          ],
          "scattergl": [
           {
            "marker": {
             "colorbar": {
              "outlinewidth": 0,
              "ticks": ""
             }
            },
            "type": "scattergl"
           }
          ],
          "scattermap": [
           {
            "marker": {
             "colorbar": {
              "outlinewidth": 0,
              "ticks": ""
             }
            },
            "type": "scattermap"
           }
          ],
          "scattermapbox": [
           {
            "marker": {
             "colorbar": {
              "outlinewidth": 0,
              "ticks": ""
             }
            },
            "type": "scattermapbox"
           }
          ],
          "scatterpolar": [
           {
            "marker": {
             "colorbar": {
              "outlinewidth": 0,
              "ticks": ""
             }
            },
            "type": "scatterpolar"
           }
          ],
          "scatterpolargl": [
           {
            "marker": {
             "colorbar": {
              "outlinewidth": 0,
              "ticks": ""
             }
            },
            "type": "scatterpolargl"
           }
          ],
          "scatterternary": [
           {
            "marker": {
             "colorbar": {
              "outlinewidth": 0,
              "ticks": ""
             }
            },
            "type": "scatterternary"
           }
          ],
          "surface": [
           {
            "colorbar": {
             "outlinewidth": 0,
             "ticks": ""
            },
            "colorscale": [
             [
              0,
              "#0d0887"
             ],
             [
              0.1111111111111111,
              "#46039f"
             ],
             [
              0.2222222222222222,
              "#7201a8"
             ],
             [
              0.3333333333333333,
              "#9c179e"
             ],
             [
              0.4444444444444444,
              "#bd3786"
             ],
             [
              0.5555555555555556,
              "#d8576b"
             ],
             [
              0.6666666666666666,
              "#ed7953"
             ],
             [
              0.7777777777777778,
              "#fb9f3a"
             ],
             [
              0.8888888888888888,
              "#fdca26"
             ],
             [
              1,
              "#f0f921"
             ]
            ],
            "type": "surface"
           }
          ],
          "table": [
           {
            "cells": {
             "fill": {
              "color": "#EBF0F8"
             },
             "line": {
              "color": "white"
             }
            },
            "header": {
             "fill": {
              "color": "#C8D4E3"
             },
             "line": {
              "color": "white"
             }
            },
            "type": "table"
           }
          ]
         },
         "layout": {
          "annotationdefaults": {
           "arrowcolor": "#2a3f5f",
           "arrowhead": 0,
           "arrowwidth": 1
          },
          "autotypenumbers": "strict",
          "coloraxis": {
           "colorbar": {
            "outlinewidth": 0,
            "ticks": ""
           }
          },
          "colorscale": {
           "diverging": [
            [
             0,
             "#8e0152"
            ],
            [
             0.1,
             "#c51b7d"
            ],
            [
             0.2,
             "#de77ae"
            ],
            [
             0.3,
             "#f1b6da"
            ],
            [
             0.4,
             "#fde0ef"
            ],
            [
             0.5,
             "#f7f7f7"
            ],
            [
             0.6,
             "#e6f5d0"
            ],
            [
             0.7,
             "#b8e186"
            ],
            [
             0.8,
             "#7fbc41"
            ],
            [
             0.9,
             "#4d9221"
            ],
            [
             1,
             "#276419"
            ]
           ],
           "sequential": [
            [
             0,
             "#0d0887"
            ],
            [
             0.1111111111111111,
             "#46039f"
            ],
            [
             0.2222222222222222,
             "#7201a8"
            ],
            [
             0.3333333333333333,
             "#9c179e"
            ],
            [
             0.4444444444444444,
             "#bd3786"
            ],
            [
             0.5555555555555556,
             "#d8576b"
            ],
            [
             0.6666666666666666,
             "#ed7953"
            ],
            [
             0.7777777777777778,
             "#fb9f3a"
            ],
            [
             0.8888888888888888,
             "#fdca26"
            ],
            [
             1,
             "#f0f921"
            ]
           ],
           "sequentialminus": [
            [
             0,
             "#0d0887"
            ],
            [
             0.1111111111111111,
             "#46039f"
            ],
            [
             0.2222222222222222,
             "#7201a8"
            ],
            [
             0.3333333333333333,
             "#9c179e"
            ],
            [
             0.4444444444444444,
             "#bd3786"
            ],
            [
             0.5555555555555556,
             "#d8576b"
            ],
            [
             0.6666666666666666,
             "#ed7953"
            ],
            [
             0.7777777777777778,
             "#fb9f3a"
            ],
            [
             0.8888888888888888,
             "#fdca26"
            ],
            [
             1,
             "#f0f921"
            ]
           ]
          },
          "colorway": [
           "#636efa",
           "#EF553B",
           "#00cc96",
           "#ab63fa",
           "#FFA15A",
           "#19d3f3",
           "#FF6692",
           "#B6E880",
           "#FF97FF",
           "#FECB52"
          ],
          "font": {
           "color": "#2a3f5f"
          },
          "geo": {
           "bgcolor": "white",
           "lakecolor": "white",
           "landcolor": "#E5ECF6",
           "showlakes": true,
           "showland": true,
           "subunitcolor": "white"
          },
          "hoverlabel": {
           "align": "left"
          },
          "hovermode": "closest",
          "mapbox": {
           "style": "light"
          },
          "paper_bgcolor": "white",
          "plot_bgcolor": "#E5ECF6",
          "polar": {
           "angularaxis": {
            "gridcolor": "white",
            "linecolor": "white",
            "ticks": ""
           },
           "bgcolor": "#E5ECF6",
           "radialaxis": {
            "gridcolor": "white",
            "linecolor": "white",
            "ticks": ""
           }
          },
          "scene": {
           "xaxis": {
            "backgroundcolor": "#E5ECF6",
            "gridcolor": "white",
            "gridwidth": 2,
            "linecolor": "white",
            "showbackground": true,
            "ticks": "",
            "zerolinecolor": "white"
           },
           "yaxis": {
            "backgroundcolor": "#E5ECF6",
            "gridcolor": "white",
            "gridwidth": 2,
            "linecolor": "white",
            "showbackground": true,
            "ticks": "",
            "zerolinecolor": "white"
           },
           "zaxis": {
            "backgroundcolor": "#E5ECF6",
            "gridcolor": "white",
            "gridwidth": 2,
            "linecolor": "white",
            "showbackground": true,
            "ticks": "",
            "zerolinecolor": "white"
           }
          },
          "shapedefaults": {
           "line": {
            "color": "#2a3f5f"
           }
          },
          "ternary": {
           "aaxis": {
            "gridcolor": "white",
            "linecolor": "white",
            "ticks": ""
           },
           "baxis": {
            "gridcolor": "white",
            "linecolor": "white",
            "ticks": ""
           },
           "bgcolor": "#E5ECF6",
           "caxis": {
            "gridcolor": "white",
            "linecolor": "white",
            "ticks": ""
           }
          },
          "title": {
           "x": 0.05
          },
          "xaxis": {
           "automargin": true,
           "gridcolor": "white",
           "linecolor": "white",
           "ticks": "",
           "title": {
            "standoff": 15
           },
           "zerolinecolor": "white",
           "zerolinewidth": 2
          },
          "yaxis": {
           "automargin": true,
           "gridcolor": "white",
           "linecolor": "white",
           "ticks": "",
           "title": {
            "standoff": 15
           },
           "zerolinecolor": "white",
           "zerolinewidth": 2
          }
         }
        },
        "title": {
         "text": "Top 400 Feature Activations (Only activation from generated tokens)"
        },
        "xaxis": {
         "anchor": "y",
         "domain": [
          0,
          1
         ],
         "tickangle": -90,
         "title": {
          "text": "Feature Index"
         }
        },
        "yaxis": {
         "anchor": "x",
         "domain": [
          0,
          1
         ],
         "title": {
          "text": "Activation"
         },
         "type": "log"
        }
       }
      }
     },
     "metadata": {},
     "output_type": "display_data"
    }
   ],
   "source": [
    "plot_feature_acts(top_k_generated_only_acts_encoder_out, title=f'Top {TOP_K_ENCODER_OUT_BY_ACTS} Feature Activations (Only activation from generated tokens)')"
   ]
  },
  {
   "cell_type": "code",
   "execution_count": 500,
   "metadata": {},
   "outputs": [
    {
     "data": {
      "application/vnd.plotly.v1+json": {
       "config": {
        "plotlyServerURL": "https://plot.ly"
       },
       "data": [
        {
         "hovertemplate": "Feature Index=%{x}<br>Frequency=%{y}<extra></extra>",
         "legendgroup": "",
         "marker": {
          "color": "#636efa",
          "pattern": {
           "shape": ""
          }
         },
         "name": "",
         "orientation": "v",
         "showlegend": false,
         "textposition": "auto",
         "type": "bar",
         "x": [
          "1038",
          "43345",
          "57797",
          "39922",
          "48574",
          "5012",
          "7858",
          "2920",
          "49887",
          "26532",
          "60542",
          "3914",
          "39815",
          "18635",
          "12694",
          "1361",
          "6053",
          "16435",
          "58023",
          "27486",
          "44062",
          "60204",
          "62970",
          "65200",
          "7341",
          "16966",
          "52706",
          "30769",
          "55975",
          "58202",
          "26635",
          "63665",
          "64889",
          "5400",
          "17896",
          "63050",
          "42463",
          "47868",
          "53780",
          "60643",
          "630",
          "4742",
          "53063",
          "56651",
          "58296",
          "8205",
          "19881",
          "47573",
          "27923",
          "38352",
          "42020",
          "49861",
          "2767",
          "5829",
          "17579",
          "20222",
          "23055",
          "25624",
          "57049",
          "2341",
          "9539",
          "19999",
          "24656",
          "39442",
          "40394",
          "40573",
          "18001",
          "24310",
          "40801",
          "3248"
         ],
         "xaxis": "x",
         "y": {
          "bdata": "twFvAF8ATABAAD8APQA1ADUAMgAvACwAKwAoACcAJQAlACUAJQAjACMAIgAiACIAIAAgACAAHwAfAB8AHQAdAB0AGwAbABsAGgAaABoAGgAZABkAGQAZABkAGAAYABgAFwAXABcAFwAWABYAFgAWABYAFgAWABUAFQAVABUAFQAVABUAFAAUABQAEwA=",
          "dtype": "i2"
         },
         "yaxis": "y"
        }
       ],
       "layout": {
        "barmode": "relative",
        "legend": {
         "tracegroupgap": 0
        },
        "template": {
         "data": {
          "bar": [
           {
            "error_x": {
             "color": "#2a3f5f"
            },
            "error_y": {
             "color": "#2a3f5f"
            },
            "marker": {
             "line": {
              "color": "#E5ECF6",
              "width": 0.5
             },
             "pattern": {
              "fillmode": "overlay",
              "size": 10,
              "solidity": 0.2
             }
            },
            "type": "bar"
           }
          ],
          "barpolar": [
           {
            "marker": {
             "line": {
              "color": "#E5ECF6",
              "width": 0.5
             },
             "pattern": {
              "fillmode": "overlay",
              "size": 10,
              "solidity": 0.2
             }
            },
            "type": "barpolar"
           }
          ],
          "carpet": [
           {
            "aaxis": {
             "endlinecolor": "#2a3f5f",
             "gridcolor": "white",
             "linecolor": "white",
             "minorgridcolor": "white",
             "startlinecolor": "#2a3f5f"
            },
            "baxis": {
             "endlinecolor": "#2a3f5f",
             "gridcolor": "white",
             "linecolor": "white",
             "minorgridcolor": "white",
             "startlinecolor": "#2a3f5f"
            },
            "type": "carpet"
           }
          ],
          "choropleth": [
           {
            "colorbar": {
             "outlinewidth": 0,
             "ticks": ""
            },
            "type": "choropleth"
           }
          ],
          "contour": [
           {
            "colorbar": {
             "outlinewidth": 0,
             "ticks": ""
            },
            "colorscale": [
             [
              0,
              "#0d0887"
             ],
             [
              0.1111111111111111,
              "#46039f"
             ],
             [
              0.2222222222222222,
              "#7201a8"
             ],
             [
              0.3333333333333333,
              "#9c179e"
             ],
             [
              0.4444444444444444,
              "#bd3786"
             ],
             [
              0.5555555555555556,
              "#d8576b"
             ],
             [
              0.6666666666666666,
              "#ed7953"
             ],
             [
              0.7777777777777778,
              "#fb9f3a"
             ],
             [
              0.8888888888888888,
              "#fdca26"
             ],
             [
              1,
              "#f0f921"
             ]
            ],
            "type": "contour"
           }
          ],
          "contourcarpet": [
           {
            "colorbar": {
             "outlinewidth": 0,
             "ticks": ""
            },
            "type": "contourcarpet"
           }
          ],
          "heatmap": [
           {
            "colorbar": {
             "outlinewidth": 0,
             "ticks": ""
            },
            "colorscale": [
             [
              0,
              "#0d0887"
             ],
             [
              0.1111111111111111,
              "#46039f"
             ],
             [
              0.2222222222222222,
              "#7201a8"
             ],
             [
              0.3333333333333333,
              "#9c179e"
             ],
             [
              0.4444444444444444,
              "#bd3786"
             ],
             [
              0.5555555555555556,
              "#d8576b"
             ],
             [
              0.6666666666666666,
              "#ed7953"
             ],
             [
              0.7777777777777778,
              "#fb9f3a"
             ],
             [
              0.8888888888888888,
              "#fdca26"
             ],
             [
              1,
              "#f0f921"
             ]
            ],
            "type": "heatmap"
           }
          ],
          "histogram": [
           {
            "marker": {
             "pattern": {
              "fillmode": "overlay",
              "size": 10,
              "solidity": 0.2
             }
            },
            "type": "histogram"
           }
          ],
          "histogram2d": [
           {
            "colorbar": {
             "outlinewidth": 0,
             "ticks": ""
            },
            "colorscale": [
             [
              0,
              "#0d0887"
             ],
             [
              0.1111111111111111,
              "#46039f"
             ],
             [
              0.2222222222222222,
              "#7201a8"
             ],
             [
              0.3333333333333333,
              "#9c179e"
             ],
             [
              0.4444444444444444,
              "#bd3786"
             ],
             [
              0.5555555555555556,
              "#d8576b"
             ],
             [
              0.6666666666666666,
              "#ed7953"
             ],
             [
              0.7777777777777778,
              "#fb9f3a"
             ],
             [
              0.8888888888888888,
              "#fdca26"
             ],
             [
              1,
              "#f0f921"
             ]
            ],
            "type": "histogram2d"
           }
          ],
          "histogram2dcontour": [
           {
            "colorbar": {
             "outlinewidth": 0,
             "ticks": ""
            },
            "colorscale": [
             [
              0,
              "#0d0887"
             ],
             [
              0.1111111111111111,
              "#46039f"
             ],
             [
              0.2222222222222222,
              "#7201a8"
             ],
             [
              0.3333333333333333,
              "#9c179e"
             ],
             [
              0.4444444444444444,
              "#bd3786"
             ],
             [
              0.5555555555555556,
              "#d8576b"
             ],
             [
              0.6666666666666666,
              "#ed7953"
             ],
             [
              0.7777777777777778,
              "#fb9f3a"
             ],
             [
              0.8888888888888888,
              "#fdca26"
             ],
             [
              1,
              "#f0f921"
             ]
            ],
            "type": "histogram2dcontour"
           }
          ],
          "mesh3d": [
           {
            "colorbar": {
             "outlinewidth": 0,
             "ticks": ""
            },
            "type": "mesh3d"
           }
          ],
          "parcoords": [
           {
            "line": {
             "colorbar": {
              "outlinewidth": 0,
              "ticks": ""
             }
            },
            "type": "parcoords"
           }
          ],
          "pie": [
           {
            "automargin": true,
            "type": "pie"
           }
          ],
          "scatter": [
           {
            "fillpattern": {
             "fillmode": "overlay",
             "size": 10,
             "solidity": 0.2
            },
            "type": "scatter"
           }
          ],
          "scatter3d": [
           {
            "line": {
             "colorbar": {
              "outlinewidth": 0,
              "ticks": ""
             }
            },
            "marker": {
             "colorbar": {
              "outlinewidth": 0,
              "ticks": ""
             }
            },
            "type": "scatter3d"
           }
          ],
          "scattercarpet": [
           {
            "marker": {
             "colorbar": {
              "outlinewidth": 0,
              "ticks": ""
             }
            },
            "type": "scattercarpet"
           }
          ],
          "scattergeo": [
           {
            "marker": {
             "colorbar": {
              "outlinewidth": 0,
              "ticks": ""
             }
            },
            "type": "scattergeo"
           }
          ],
          "scattergl": [
           {
            "marker": {
             "colorbar": {
              "outlinewidth": 0,
              "ticks": ""
             }
            },
            "type": "scattergl"
           }
          ],
          "scattermap": [
           {
            "marker": {
             "colorbar": {
              "outlinewidth": 0,
              "ticks": ""
             }
            },
            "type": "scattermap"
           }
          ],
          "scattermapbox": [
           {
            "marker": {
             "colorbar": {
              "outlinewidth": 0,
              "ticks": ""
             }
            },
            "type": "scattermapbox"
           }
          ],
          "scatterpolar": [
           {
            "marker": {
             "colorbar": {
              "outlinewidth": 0,
              "ticks": ""
             }
            },
            "type": "scatterpolar"
           }
          ],
          "scatterpolargl": [
           {
            "marker": {
             "colorbar": {
              "outlinewidth": 0,
              "ticks": ""
             }
            },
            "type": "scatterpolargl"
           }
          ],
          "scatterternary": [
           {
            "marker": {
             "colorbar": {
              "outlinewidth": 0,
              "ticks": ""
             }
            },
            "type": "scatterternary"
           }
          ],
          "surface": [
           {
            "colorbar": {
             "outlinewidth": 0,
             "ticks": ""
            },
            "colorscale": [
             [
              0,
              "#0d0887"
             ],
             [
              0.1111111111111111,
              "#46039f"
             ],
             [
              0.2222222222222222,
              "#7201a8"
             ],
             [
              0.3333333333333333,
              "#9c179e"
             ],
             [
              0.4444444444444444,
              "#bd3786"
             ],
             [
              0.5555555555555556,
              "#d8576b"
             ],
             [
              0.6666666666666666,
              "#ed7953"
             ],
             [
              0.7777777777777778,
              "#fb9f3a"
             ],
             [
              0.8888888888888888,
              "#fdca26"
             ],
             [
              1,
              "#f0f921"
             ]
            ],
            "type": "surface"
           }
          ],
          "table": [
           {
            "cells": {
             "fill": {
              "color": "#EBF0F8"
             },
             "line": {
              "color": "white"
             }
            },
            "header": {
             "fill": {
              "color": "#C8D4E3"
             },
             "line": {
              "color": "white"
             }
            },
            "type": "table"
           }
          ]
         },
         "layout": {
          "annotationdefaults": {
           "arrowcolor": "#2a3f5f",
           "arrowhead": 0,
           "arrowwidth": 1
          },
          "autotypenumbers": "strict",
          "coloraxis": {
           "colorbar": {
            "outlinewidth": 0,
            "ticks": ""
           }
          },
          "colorscale": {
           "diverging": [
            [
             0,
             "#8e0152"
            ],
            [
             0.1,
             "#c51b7d"
            ],
            [
             0.2,
             "#de77ae"
            ],
            [
             0.3,
             "#f1b6da"
            ],
            [
             0.4,
             "#fde0ef"
            ],
            [
             0.5,
             "#f7f7f7"
            ],
            [
             0.6,
             "#e6f5d0"
            ],
            [
             0.7,
             "#b8e186"
            ],
            [
             0.8,
             "#7fbc41"
            ],
            [
             0.9,
             "#4d9221"
            ],
            [
             1,
             "#276419"
            ]
           ],
           "sequential": [
            [
             0,
             "#0d0887"
            ],
            [
             0.1111111111111111,
             "#46039f"
            ],
            [
             0.2222222222222222,
             "#7201a8"
            ],
            [
             0.3333333333333333,
             "#9c179e"
            ],
            [
             0.4444444444444444,
             "#bd3786"
            ],
            [
             0.5555555555555556,
             "#d8576b"
            ],
            [
             0.6666666666666666,
             "#ed7953"
            ],
            [
             0.7777777777777778,
             "#fb9f3a"
            ],
            [
             0.8888888888888888,
             "#fdca26"
            ],
            [
             1,
             "#f0f921"
            ]
           ],
           "sequentialminus": [
            [
             0,
             "#0d0887"
            ],
            [
             0.1111111111111111,
             "#46039f"
            ],
            [
             0.2222222222222222,
             "#7201a8"
            ],
            [
             0.3333333333333333,
             "#9c179e"
            ],
            [
             0.4444444444444444,
             "#bd3786"
            ],
            [
             0.5555555555555556,
             "#d8576b"
            ],
            [
             0.6666666666666666,
             "#ed7953"
            ],
            [
             0.7777777777777778,
             "#fb9f3a"
            ],
            [
             0.8888888888888888,
             "#fdca26"
            ],
            [
             1,
             "#f0f921"
            ]
           ]
          },
          "colorway": [
           "#636efa",
           "#EF553B",
           "#00cc96",
           "#ab63fa",
           "#FFA15A",
           "#19d3f3",
           "#FF6692",
           "#B6E880",
           "#FF97FF",
           "#FECB52"
          ],
          "font": {
           "color": "#2a3f5f"
          },
          "geo": {
           "bgcolor": "white",
           "lakecolor": "white",
           "landcolor": "#E5ECF6",
           "showlakes": true,
           "showland": true,
           "subunitcolor": "white"
          },
          "hoverlabel": {
           "align": "left"
          },
          "hovermode": "closest",
          "mapbox": {
           "style": "light"
          },
          "paper_bgcolor": "white",
          "plot_bgcolor": "#E5ECF6",
          "polar": {
           "angularaxis": {
            "gridcolor": "white",
            "linecolor": "white",
            "ticks": ""
           },
           "bgcolor": "#E5ECF6",
           "radialaxis": {
            "gridcolor": "white",
            "linecolor": "white",
            "ticks": ""
           }
          },
          "scene": {
           "xaxis": {
            "backgroundcolor": "#E5ECF6",
            "gridcolor": "white",
            "gridwidth": 2,
            "linecolor": "white",
            "showbackground": true,
            "ticks": "",
            "zerolinecolor": "white"
           },
           "yaxis": {
            "backgroundcolor": "#E5ECF6",
            "gridcolor": "white",
            "gridwidth": 2,
            "linecolor": "white",
            "showbackground": true,
            "ticks": "",
            "zerolinecolor": "white"
           },
           "zaxis": {
            "backgroundcolor": "#E5ECF6",
            "gridcolor": "white",
            "gridwidth": 2,
            "linecolor": "white",
            "showbackground": true,
            "ticks": "",
            "zerolinecolor": "white"
           }
          },
          "shapedefaults": {
           "line": {
            "color": "#2a3f5f"
           }
          },
          "ternary": {
           "aaxis": {
            "gridcolor": "white",
            "linecolor": "white",
            "ticks": ""
           },
           "baxis": {
            "gridcolor": "white",
            "linecolor": "white",
            "ticks": ""
           },
           "bgcolor": "#E5ECF6",
           "caxis": {
            "gridcolor": "white",
            "linecolor": "white",
            "ticks": ""
           }
          },
          "title": {
           "x": 0.05
          },
          "xaxis": {
           "automargin": true,
           "gridcolor": "white",
           "linecolor": "white",
           "ticks": "",
           "title": {
            "standoff": 15
           },
           "zerolinecolor": "white",
           "zerolinewidth": 2
          },
          "yaxis": {
           "automargin": true,
           "gridcolor": "white",
           "linecolor": "white",
           "ticks": "",
           "title": {
            "standoff": 15
           },
           "zerolinecolor": "white",
           "zerolinewidth": 2
          }
         }
        },
        "title": {
         "text": "Top 70 Feature Frequencies (Including features from input tokens)"
        },
        "xaxis": {
         "anchor": "y",
         "domain": [
          0,
          1
         ],
         "tickangle": -90,
         "title": {
          "text": "Feature Index"
         }
        },
        "yaxis": {
         "anchor": "x",
         "domain": [
          0,
          1
         ],
         "title": {
          "text": "Frequency"
         },
         "type": "log"
        }
       }
      }
     },
     "metadata": {},
     "output_type": "display_data"
    }
   ],
   "source": [
    "plot_feature_freqs(top_k_all_acts_feature_freq, title=f'Top {TOP_K_ENCODER_OUT_FEATURE_FREQ} Feature Frequencies (Including features from input tokens)')"
   ]
  },
  {
   "cell_type": "code",
   "execution_count": 501,
   "metadata": {},
   "outputs": [
    {
     "data": {
      "application/vnd.plotly.v1+json": {
       "config": {
        "plotlyServerURL": "https://plot.ly"
       },
       "data": [
        {
         "hovertemplate": "Feature Index=%{x}<br>Frequency=%{y}<extra></extra>",
         "legendgroup": "",
         "marker": {
          "color": "#636efa",
          "pattern": {
           "shape": ""
          }
         },
         "name": "",
         "orientation": "v",
         "showlegend": false,
         "textposition": "auto",
         "type": "bar",
         "x": [
          "1038",
          "43345",
          "57797",
          "39922",
          "48574",
          "5012",
          "7858",
          "49887",
          "26532",
          "2920",
          "60542",
          "3914",
          "39815",
          "12694",
          "16435",
          "6053",
          "18635",
          "1361",
          "44062",
          "58023",
          "60204",
          "16966",
          "27486",
          "7341",
          "52706",
          "62970",
          "65200",
          "64889",
          "55975",
          "17896",
          "30769",
          "58202",
          "63050",
          "63665",
          "26635",
          "53780",
          "60643",
          "630",
          "8205",
          "42463",
          "53063",
          "4742",
          "5400",
          "27923",
          "38352",
          "56651",
          "58296",
          "5829",
          "23055",
          "47573",
          "57049",
          "17579",
          "19999",
          "25624",
          "40394",
          "40573",
          "49861",
          "9539",
          "18001",
          "19881",
          "20222",
          "24656",
          "42020",
          "47868",
          "39442",
          "40801",
          "61894",
          "3248",
          "14046",
          "17404"
         ],
         "xaxis": "x",
         "y": {
          "bdata": "hgFoAFcARAA+ADkAOAAyADAALgAsACoAKgAnACUAJAAkACMAIQAhACEAIAAgAB8AHwAfAB4AHQAcABsAGwAbABsAGwAaABoAGgAYABgAGAAYABcAFwAXABcAFwAXABYAFgAWABYAFQAVABUAFQAVABUAFAAUABQAFAAUABQAFAATABMAEwASABIAEgA=",
          "dtype": "i2"
         },
         "yaxis": "y"
        }
       ],
       "layout": {
        "barmode": "relative",
        "legend": {
         "tracegroupgap": 0
        },
        "template": {
         "data": {
          "bar": [
           {
            "error_x": {
             "color": "#2a3f5f"
            },
            "error_y": {
             "color": "#2a3f5f"
            },
            "marker": {
             "line": {
              "color": "#E5ECF6",
              "width": 0.5
             },
             "pattern": {
              "fillmode": "overlay",
              "size": 10,
              "solidity": 0.2
             }
            },
            "type": "bar"
           }
          ],
          "barpolar": [
           {
            "marker": {
             "line": {
              "color": "#E5ECF6",
              "width": 0.5
             },
             "pattern": {
              "fillmode": "overlay",
              "size": 10,
              "solidity": 0.2
             }
            },
            "type": "barpolar"
           }
          ],
          "carpet": [
           {
            "aaxis": {
             "endlinecolor": "#2a3f5f",
             "gridcolor": "white",
             "linecolor": "white",
             "minorgridcolor": "white",
             "startlinecolor": "#2a3f5f"
            },
            "baxis": {
             "endlinecolor": "#2a3f5f",
             "gridcolor": "white",
             "linecolor": "white",
             "minorgridcolor": "white",
             "startlinecolor": "#2a3f5f"
            },
            "type": "carpet"
           }
          ],
          "choropleth": [
           {
            "colorbar": {
             "outlinewidth": 0,
             "ticks": ""
            },
            "type": "choropleth"
           }
          ],
          "contour": [
           {
            "colorbar": {
             "outlinewidth": 0,
             "ticks": ""
            },
            "colorscale": [
             [
              0,
              "#0d0887"
             ],
             [
              0.1111111111111111,
              "#46039f"
             ],
             [
              0.2222222222222222,
              "#7201a8"
             ],
             [
              0.3333333333333333,
              "#9c179e"
             ],
             [
              0.4444444444444444,
              "#bd3786"
             ],
             [
              0.5555555555555556,
              "#d8576b"
             ],
             [
              0.6666666666666666,
              "#ed7953"
             ],
             [
              0.7777777777777778,
              "#fb9f3a"
             ],
             [
              0.8888888888888888,
              "#fdca26"
             ],
             [
              1,
              "#f0f921"
             ]
            ],
            "type": "contour"
           }
          ],
          "contourcarpet": [
           {
            "colorbar": {
             "outlinewidth": 0,
             "ticks": ""
            },
            "type": "contourcarpet"
           }
          ],
          "heatmap": [
           {
            "colorbar": {
             "outlinewidth": 0,
             "ticks": ""
            },
            "colorscale": [
             [
              0,
              "#0d0887"
             ],
             [
              0.1111111111111111,
              "#46039f"
             ],
             [
              0.2222222222222222,
              "#7201a8"
             ],
             [
              0.3333333333333333,
              "#9c179e"
             ],
             [
              0.4444444444444444,
              "#bd3786"
             ],
             [
              0.5555555555555556,
              "#d8576b"
             ],
             [
              0.6666666666666666,
              "#ed7953"
             ],
             [
              0.7777777777777778,
              "#fb9f3a"
             ],
             [
              0.8888888888888888,
              "#fdca26"
             ],
             [
              1,
              "#f0f921"
             ]
            ],
            "type": "heatmap"
           }
          ],
          "histogram": [
           {
            "marker": {
             "pattern": {
              "fillmode": "overlay",
              "size": 10,
              "solidity": 0.2
             }
            },
            "type": "histogram"
           }
          ],
          "histogram2d": [
           {
            "colorbar": {
             "outlinewidth": 0,
             "ticks": ""
            },
            "colorscale": [
             [
              0,
              "#0d0887"
             ],
             [
              0.1111111111111111,
              "#46039f"
             ],
             [
              0.2222222222222222,
              "#7201a8"
             ],
             [
              0.3333333333333333,
              "#9c179e"
             ],
             [
              0.4444444444444444,
              "#bd3786"
             ],
             [
              0.5555555555555556,
              "#d8576b"
             ],
             [
              0.6666666666666666,
              "#ed7953"
             ],
             [
              0.7777777777777778,
              "#fb9f3a"
             ],
             [
              0.8888888888888888,
              "#fdca26"
             ],
             [
              1,
              "#f0f921"
             ]
            ],
            "type": "histogram2d"
           }
          ],
          "histogram2dcontour": [
           {
            "colorbar": {
             "outlinewidth": 0,
             "ticks": ""
            },
            "colorscale": [
             [
              0,
              "#0d0887"
             ],
             [
              0.1111111111111111,
              "#46039f"
             ],
             [
              0.2222222222222222,
              "#7201a8"
             ],
             [
              0.3333333333333333,
              "#9c179e"
             ],
             [
              0.4444444444444444,
              "#bd3786"
             ],
             [
              0.5555555555555556,
              "#d8576b"
             ],
             [
              0.6666666666666666,
              "#ed7953"
             ],
             [
              0.7777777777777778,
              "#fb9f3a"
             ],
             [
              0.8888888888888888,
              "#fdca26"
             ],
             [
              1,
              "#f0f921"
             ]
            ],
            "type": "histogram2dcontour"
           }
          ],
          "mesh3d": [
           {
            "colorbar": {
             "outlinewidth": 0,
             "ticks": ""
            },
            "type": "mesh3d"
           }
          ],
          "parcoords": [
           {
            "line": {
             "colorbar": {
              "outlinewidth": 0,
              "ticks": ""
             }
            },
            "type": "parcoords"
           }
          ],
          "pie": [
           {
            "automargin": true,
            "type": "pie"
           }
          ],
          "scatter": [
           {
            "fillpattern": {
             "fillmode": "overlay",
             "size": 10,
             "solidity": 0.2
            },
            "type": "scatter"
           }
          ],
          "scatter3d": [
           {
            "line": {
             "colorbar": {
              "outlinewidth": 0,
              "ticks": ""
             }
            },
            "marker": {
             "colorbar": {
              "outlinewidth": 0,
              "ticks": ""
             }
            },
            "type": "scatter3d"
           }
          ],
          "scattercarpet": [
           {
            "marker": {
             "colorbar": {
              "outlinewidth": 0,
              "ticks": ""
             }
            },
            "type": "scattercarpet"
           }
          ],
          "scattergeo": [
           {
            "marker": {
             "colorbar": {
              "outlinewidth": 0,
              "ticks": ""
             }
            },
            "type": "scattergeo"
           }
          ],
          "scattergl": [
           {
            "marker": {
             "colorbar": {
              "outlinewidth": 0,
              "ticks": ""
             }
            },
            "type": "scattergl"
           }
          ],
          "scattermap": [
           {
            "marker": {
             "colorbar": {
              "outlinewidth": 0,
              "ticks": ""
             }
            },
            "type": "scattermap"
           }
          ],
          "scattermapbox": [
           {
            "marker": {
             "colorbar": {
              "outlinewidth": 0,
              "ticks": ""
             }
            },
            "type": "scattermapbox"
           }
          ],
          "scatterpolar": [
           {
            "marker": {
             "colorbar": {
              "outlinewidth": 0,
              "ticks": ""
             }
            },
            "type": "scatterpolar"
           }
          ],
          "scatterpolargl": [
           {
            "marker": {
             "colorbar": {
              "outlinewidth": 0,
              "ticks": ""
             }
            },
            "type": "scatterpolargl"
           }
          ],
          "scatterternary": [
           {
            "marker": {
             "colorbar": {
              "outlinewidth": 0,
              "ticks": ""
             }
            },
            "type": "scatterternary"
           }
          ],
          "surface": [
           {
            "colorbar": {
             "outlinewidth": 0,
             "ticks": ""
            },
            "colorscale": [
             [
              0,
              "#0d0887"
             ],
             [
              0.1111111111111111,
              "#46039f"
             ],
             [
              0.2222222222222222,
              "#7201a8"
             ],
             [
              0.3333333333333333,
              "#9c179e"
             ],
             [
              0.4444444444444444,
              "#bd3786"
             ],
             [
              0.5555555555555556,
              "#d8576b"
             ],
             [
              0.6666666666666666,
              "#ed7953"
             ],
             [
              0.7777777777777778,
              "#fb9f3a"
             ],
             [
              0.8888888888888888,
              "#fdca26"
             ],
             [
              1,
              "#f0f921"
             ]
            ],
            "type": "surface"
           }
          ],
          "table": [
           {
            "cells": {
             "fill": {
              "color": "#EBF0F8"
             },
             "line": {
              "color": "white"
             }
            },
            "header": {
             "fill": {
              "color": "#C8D4E3"
             },
             "line": {
              "color": "white"
             }
            },
            "type": "table"
           }
          ]
         },
         "layout": {
          "annotationdefaults": {
           "arrowcolor": "#2a3f5f",
           "arrowhead": 0,
           "arrowwidth": 1
          },
          "autotypenumbers": "strict",
          "coloraxis": {
           "colorbar": {
            "outlinewidth": 0,
            "ticks": ""
           }
          },
          "colorscale": {
           "diverging": [
            [
             0,
             "#8e0152"
            ],
            [
             0.1,
             "#c51b7d"
            ],
            [
             0.2,
             "#de77ae"
            ],
            [
             0.3,
             "#f1b6da"
            ],
            [
             0.4,
             "#fde0ef"
            ],
            [
             0.5,
             "#f7f7f7"
            ],
            [
             0.6,
             "#e6f5d0"
            ],
            [
             0.7,
             "#b8e186"
            ],
            [
             0.8,
             "#7fbc41"
            ],
            [
             0.9,
             "#4d9221"
            ],
            [
             1,
             "#276419"
            ]
           ],
           "sequential": [
            [
             0,
             "#0d0887"
            ],
            [
             0.1111111111111111,
             "#46039f"
            ],
            [
             0.2222222222222222,
             "#7201a8"
            ],
            [
             0.3333333333333333,
             "#9c179e"
            ],
            [
             0.4444444444444444,
             "#bd3786"
            ],
            [
             0.5555555555555556,
             "#d8576b"
            ],
            [
             0.6666666666666666,
             "#ed7953"
            ],
            [
             0.7777777777777778,
             "#fb9f3a"
            ],
            [
             0.8888888888888888,
             "#fdca26"
            ],
            [
             1,
             "#f0f921"
            ]
           ],
           "sequentialminus": [
            [
             0,
             "#0d0887"
            ],
            [
             0.1111111111111111,
             "#46039f"
            ],
            [
             0.2222222222222222,
             "#7201a8"
            ],
            [
             0.3333333333333333,
             "#9c179e"
            ],
            [
             0.4444444444444444,
             "#bd3786"
            ],
            [
             0.5555555555555556,
             "#d8576b"
            ],
            [
             0.6666666666666666,
             "#ed7953"
            ],
            [
             0.7777777777777778,
             "#fb9f3a"
            ],
            [
             0.8888888888888888,
             "#fdca26"
            ],
            [
             1,
             "#f0f921"
            ]
           ]
          },
          "colorway": [
           "#636efa",
           "#EF553B",
           "#00cc96",
           "#ab63fa",
           "#FFA15A",
           "#19d3f3",
           "#FF6692",
           "#B6E880",
           "#FF97FF",
           "#FECB52"
          ],
          "font": {
           "color": "#2a3f5f"
          },
          "geo": {
           "bgcolor": "white",
           "lakecolor": "white",
           "landcolor": "#E5ECF6",
           "showlakes": true,
           "showland": true,
           "subunitcolor": "white"
          },
          "hoverlabel": {
           "align": "left"
          },
          "hovermode": "closest",
          "mapbox": {
           "style": "light"
          },
          "paper_bgcolor": "white",
          "plot_bgcolor": "#E5ECF6",
          "polar": {
           "angularaxis": {
            "gridcolor": "white",
            "linecolor": "white",
            "ticks": ""
           },
           "bgcolor": "#E5ECF6",
           "radialaxis": {
            "gridcolor": "white",
            "linecolor": "white",
            "ticks": ""
           }
          },
          "scene": {
           "xaxis": {
            "backgroundcolor": "#E5ECF6",
            "gridcolor": "white",
            "gridwidth": 2,
            "linecolor": "white",
            "showbackground": true,
            "ticks": "",
            "zerolinecolor": "white"
           },
           "yaxis": {
            "backgroundcolor": "#E5ECF6",
            "gridcolor": "white",
            "gridwidth": 2,
            "linecolor": "white",
            "showbackground": true,
            "ticks": "",
            "zerolinecolor": "white"
           },
           "zaxis": {
            "backgroundcolor": "#E5ECF6",
            "gridcolor": "white",
            "gridwidth": 2,
            "linecolor": "white",
            "showbackground": true,
            "ticks": "",
            "zerolinecolor": "white"
           }
          },
          "shapedefaults": {
           "line": {
            "color": "#2a3f5f"
           }
          },
          "ternary": {
           "aaxis": {
            "gridcolor": "white",
            "linecolor": "white",
            "ticks": ""
           },
           "baxis": {
            "gridcolor": "white",
            "linecolor": "white",
            "ticks": ""
           },
           "bgcolor": "#E5ECF6",
           "caxis": {
            "gridcolor": "white",
            "linecolor": "white",
            "ticks": ""
           }
          },
          "title": {
           "x": 0.05
          },
          "xaxis": {
           "automargin": true,
           "gridcolor": "white",
           "linecolor": "white",
           "ticks": "",
           "title": {
            "standoff": 15
           },
           "zerolinecolor": "white",
           "zerolinewidth": 2
          },
          "yaxis": {
           "automargin": true,
           "gridcolor": "white",
           "linecolor": "white",
           "ticks": "",
           "title": {
            "standoff": 15
           },
           "zerolinecolor": "white",
           "zerolinewidth": 2
          }
         }
        },
        "title": {
         "text": "Top 70 Feature Frequencies (Only features from generated tokens)"
        },
        "xaxis": {
         "anchor": "y",
         "domain": [
          0,
          1
         ],
         "tickangle": -90,
         "title": {
          "text": "Feature Index"
         }
        },
        "yaxis": {
         "anchor": "x",
         "domain": [
          0,
          1
         ],
         "title": {
          "text": "Frequency"
         },
         "type": "log"
        }
       }
      }
     },
     "metadata": {},
     "output_type": "display_data"
    }
   ],
   "source": [
    "plot_feature_freqs(top_k_generated_only_acts_feature_freq, title=f'Top {TOP_K_ENCODER_OUT_FEATURE_FREQ} Feature Frequencies (Only features from generated tokens)')"
   ]
  },
  {
   "cell_type": "code",
   "execution_count": 480,
   "metadata": {},
   "outputs": [
    {
     "data": {
      "application/vnd.plotly.v1+json": {
       "config": {
        "plotlyServerURL": "https://plot.ly"
       },
       "data": [
        {
         "bingroup": "x",
         "hovertemplate": "Activation=%{x}<br>count=%{y}<extra></extra>",
         "legendgroup": "",
         "marker": {
          "color": "#636efa",
          "pattern": {
           "shape": ""
          }
         },
         "name": "",
         "nbinsx": 50,
         "orientation": "v",
         "showlegend": false,
         "type": "histogram",
         "x": {
          "bdata": "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",
          "dtype": "f4"
         },
         "xaxis": "x",
         "yaxis": "y"
        }
       ],
       "layout": {
        "barmode": "relative",
        "legend": {
         "tracegroupgap": 0
        },
        "template": {
         "data": {
          "bar": [
           {
            "error_x": {
             "color": "#2a3f5f"
            },
            "error_y": {
             "color": "#2a3f5f"
            },
            "marker": {
             "line": {
              "color": "#E5ECF6",
              "width": 0.5
             },
             "pattern": {
              "fillmode": "overlay",
              "size": 10,
              "solidity": 0.2
             }
            },
            "type": "bar"
           }
          ],
          "barpolar": [
           {
            "marker": {
             "line": {
              "color": "#E5ECF6",
              "width": 0.5
             },
             "pattern": {
              "fillmode": "overlay",
              "size": 10,
              "solidity": 0.2
             }
            },
            "type": "barpolar"
           }
          ],
          "carpet": [
           {
            "aaxis": {
             "endlinecolor": "#2a3f5f",
             "gridcolor": "white",
             "linecolor": "white",
             "minorgridcolor": "white",
             "startlinecolor": "#2a3f5f"
            },
            "baxis": {
             "endlinecolor": "#2a3f5f",
             "gridcolor": "white",
             "linecolor": "white",
             "minorgridcolor": "white",
             "startlinecolor": "#2a3f5f"
            },
            "type": "carpet"
           }
          ],
          "choropleth": [
           {
            "colorbar": {
             "outlinewidth": 0,
             "ticks": ""
            },
            "type": "choropleth"
           }
          ],
          "contour": [
           {
            "colorbar": {
             "outlinewidth": 0,
             "ticks": ""
            },
            "colorscale": [
             [
              0,
              "#0d0887"
             ],
             [
              0.1111111111111111,
              "#46039f"
             ],
             [
              0.2222222222222222,
              "#7201a8"
             ],
             [
              0.3333333333333333,
              "#9c179e"
             ],
             [
              0.4444444444444444,
              "#bd3786"
             ],
             [
              0.5555555555555556,
              "#d8576b"
             ],
             [
              0.6666666666666666,
              "#ed7953"
             ],
             [
              0.7777777777777778,
              "#fb9f3a"
             ],
             [
              0.8888888888888888,
              "#fdca26"
             ],
             [
              1,
              "#f0f921"
             ]
            ],
            "type": "contour"
           }
          ],
          "contourcarpet": [
           {
            "colorbar": {
             "outlinewidth": 0,
             "ticks": ""
            },
            "type": "contourcarpet"
           }
          ],
          "heatmap": [
           {
            "colorbar": {
             "outlinewidth": 0,
             "ticks": ""
            },
            "colorscale": [
             [
              0,
              "#0d0887"
             ],
             [
              0.1111111111111111,
              "#46039f"
             ],
             [
              0.2222222222222222,
              "#7201a8"
             ],
             [
              0.3333333333333333,
              "#9c179e"
             ],
             [
              0.4444444444444444,
              "#bd3786"
             ],
             [
              0.5555555555555556,
              "#d8576b"
             ],
             [
              0.6666666666666666,
              "#ed7953"
             ],
             [
              0.7777777777777778,
              "#fb9f3a"
             ],
             [
              0.8888888888888888,
              "#fdca26"
             ],
             [
              1,
              "#f0f921"
             ]
            ],
            "type": "heatmap"
           }
          ],
          "histogram": [
           {
            "marker": {
             "pattern": {
              "fillmode": "overlay",
              "size": 10,
              "solidity": 0.2
             }
            },
            "type": "histogram"
           }
          ],
          "histogram2d": [
           {
            "colorbar": {
             "outlinewidth": 0,
             "ticks": ""
            },
            "colorscale": [
             [
              0,
              "#0d0887"
             ],
             [
              0.1111111111111111,
              "#46039f"
             ],
             [
              0.2222222222222222,
              "#7201a8"
             ],
             [
              0.3333333333333333,
              "#9c179e"
             ],
             [
              0.4444444444444444,
              "#bd3786"
             ],
             [
              0.5555555555555556,
              "#d8576b"
             ],
             [
              0.6666666666666666,
              "#ed7953"
             ],
             [
              0.7777777777777778,
              "#fb9f3a"
             ],
             [
              0.8888888888888888,
              "#fdca26"
             ],
             [
              1,
              "#f0f921"
             ]
            ],
            "type": "histogram2d"
           }
          ],
          "histogram2dcontour": [
           {
            "colorbar": {
             "outlinewidth": 0,
             "ticks": ""
            },
            "colorscale": [
             [
              0,
              "#0d0887"
             ],
             [
              0.1111111111111111,
              "#46039f"
             ],
             [
              0.2222222222222222,
              "#7201a8"
             ],
             [
              0.3333333333333333,
              "#9c179e"
             ],
             [
              0.4444444444444444,
              "#bd3786"
             ],
             [
              0.5555555555555556,
              "#d8576b"
             ],
             [
              0.6666666666666666,
              "#ed7953"
             ],
             [
              0.7777777777777778,
              "#fb9f3a"
             ],
             [
              0.8888888888888888,
              "#fdca26"
             ],
             [
              1,
              "#f0f921"
             ]
            ],
            "type": "histogram2dcontour"
           }
          ],
          "mesh3d": [
           {
            "colorbar": {
             "outlinewidth": 0,
             "ticks": ""
            },
            "type": "mesh3d"
           }
          ],
          "parcoords": [
           {
            "line": {
             "colorbar": {
              "outlinewidth": 0,
              "ticks": ""
             }
            },
            "type": "parcoords"
           }
          ],
          "pie": [
           {
            "automargin": true,
            "type": "pie"
           }
          ],
          "scatter": [
           {
            "fillpattern": {
             "fillmode": "overlay",
             "size": 10,
             "solidity": 0.2
            },
            "type": "scatter"
           }
          ],
          "scatter3d": [
           {
            "line": {
             "colorbar": {
              "outlinewidth": 0,
              "ticks": ""
             }
            },
            "marker": {
             "colorbar": {
              "outlinewidth": 0,
              "ticks": ""
             }
            },
            "type": "scatter3d"
           }
          ],
          "scattercarpet": [
           {
            "marker": {
             "colorbar": {
              "outlinewidth": 0,
              "ticks": ""
             }
            },
            "type": "scattercarpet"
           }
          ],
          "scattergeo": [
           {
            "marker": {
             "colorbar": {
              "outlinewidth": 0,
              "ticks": ""
             }
            },
            "type": "scattergeo"
           }
          ],
          "scattergl": [
           {
            "marker": {
             "colorbar": {
              "outlinewidth": 0,
              "ticks": ""
             }
            },
            "type": "scattergl"
           }
          ],
          "scattermap": [
           {
            "marker": {
             "colorbar": {
              "outlinewidth": 0,
              "ticks": ""
             }
            },
            "type": "scattermap"
           }
          ],
          "scattermapbox": [
           {
            "marker": {
             "colorbar": {
              "outlinewidth": 0,
              "ticks": ""
             }
            },
            "type": "scattermapbox"
           }
          ],
          "scatterpolar": [
           {
            "marker": {
             "colorbar": {
              "outlinewidth": 0,
              "ticks": ""
             }
            },
            "type": "scatterpolar"
           }
          ],
          "scatterpolargl": [
           {
            "marker": {
             "colorbar": {
              "outlinewidth": 0,
              "ticks": ""
             }
            },
            "type": "scatterpolargl"
           }
          ],
          "scatterternary": [
           {
            "marker": {
             "colorbar": {
              "outlinewidth": 0,
              "ticks": ""
             }
            },
            "type": "scatterternary"
           }
          ],
          "surface": [
           {
            "colorbar": {
             "outlinewidth": 0,
             "ticks": ""
            },
            "colorscale": [
             [
              0,
              "#0d0887"
             ],
             [
              0.1111111111111111,
              "#46039f"
             ],
             [
              0.2222222222222222,
              "#7201a8"
             ],
             [
              0.3333333333333333,
              "#9c179e"
             ],
             [
              0.4444444444444444,
              "#bd3786"
             ],
             [
              0.5555555555555556,
              "#d8576b"
             ],
             [
              0.6666666666666666,
              "#ed7953"
             ],
             [
              0.7777777777777778,
              "#fb9f3a"
             ],
             [
              0.8888888888888888,
              "#fdca26"
             ],
             [
              1,
              "#f0f921"
             ]
            ],
            "type": "surface"
           }
          ],
          "table": [
           {
            "cells": {
             "fill": {
              "color": "#EBF0F8"
             },
             "line": {
              "color": "white"
             }
            },
            "header": {
             "fill": {
              "color": "#C8D4E3"
             },
             "line": {
              "color": "white"
             }
            },
            "type": "table"
           }
          ]
         },
         "layout": {
          "annotationdefaults": {
           "arrowcolor": "#2a3f5f",
           "arrowhead": 0,
           "arrowwidth": 1
          },
          "autotypenumbers": "strict",
          "coloraxis": {
           "colorbar": {
            "outlinewidth": 0,
            "ticks": ""
           }
          },
          "colorscale": {
           "diverging": [
            [
             0,
             "#8e0152"
            ],
            [
             0.1,
             "#c51b7d"
            ],
            [
             0.2,
             "#de77ae"
            ],
            [
             0.3,
             "#f1b6da"
            ],
            [
             0.4,
             "#fde0ef"
            ],
            [
             0.5,
             "#f7f7f7"
            ],
            [
             0.6,
             "#e6f5d0"
            ],
            [
             0.7,
             "#b8e186"
            ],
            [
             0.8,
             "#7fbc41"
            ],
            [
             0.9,
             "#4d9221"
            ],
            [
             1,
             "#276419"
            ]
           ],
           "sequential": [
            [
             0,
             "#0d0887"
            ],
            [
             0.1111111111111111,
             "#46039f"
            ],
            [
             0.2222222222222222,
             "#7201a8"
            ],
            [
             0.3333333333333333,
             "#9c179e"
            ],
            [
             0.4444444444444444,
             "#bd3786"
            ],
            [
             0.5555555555555556,
             "#d8576b"
            ],
            [
             0.6666666666666666,
             "#ed7953"
            ],
            [
             0.7777777777777778,
             "#fb9f3a"
            ],
            [
             0.8888888888888888,
             "#fdca26"
            ],
            [
             1,
             "#f0f921"
            ]
           ],
           "sequentialminus": [
            [
             0,
             "#0d0887"
            ],
            [
             0.1111111111111111,
             "#46039f"
            ],
            [
             0.2222222222222222,
             "#7201a8"
            ],
            [
             0.3333333333333333,
             "#9c179e"
            ],
            [
             0.4444444444444444,
             "#bd3786"
            ],
            [
             0.5555555555555556,
             "#d8576b"
            ],
            [
             0.6666666666666666,
             "#ed7953"
            ],
            [
             0.7777777777777778,
             "#fb9f3a"
            ],
            [
             0.8888888888888888,
             "#fdca26"
            ],
            [
             1,
             "#f0f921"
            ]
           ]
          },
          "colorway": [
           "#636efa",
           "#EF553B",
           "#00cc96",
           "#ab63fa",
           "#FFA15A",
           "#19d3f3",
           "#FF6692",
           "#B6E880",
           "#FF97FF",
           "#FECB52"
          ],
          "font": {
           "color": "#2a3f5f"
          },
          "geo": {
           "bgcolor": "white",
           "lakecolor": "white",
           "landcolor": "#E5ECF6",
           "showlakes": true,
           "showland": true,
           "subunitcolor": "white"
          },
          "hoverlabel": {
           "align": "left"
          },
          "hovermode": "closest",
          "mapbox": {
           "style": "light"
          },
          "paper_bgcolor": "white",
          "plot_bgcolor": "#E5ECF6",
          "polar": {
           "angularaxis": {
            "gridcolor": "white",
            "linecolor": "white",
            "ticks": ""
           },
           "bgcolor": "#E5ECF6",
           "radialaxis": {
            "gridcolor": "white",
            "linecolor": "white",
            "ticks": ""
           }
          },
          "scene": {
           "xaxis": {
            "backgroundcolor": "#E5ECF6",
            "gridcolor": "white",
            "gridwidth": 2,
            "linecolor": "white",
            "showbackground": true,
            "ticks": "",
            "zerolinecolor": "white"
           },
           "yaxis": {
            "backgroundcolor": "#E5ECF6",
            "gridcolor": "white",
            "gridwidth": 2,
            "linecolor": "white",
            "showbackground": true,
            "ticks": "",
            "zerolinecolor": "white"
           },
           "zaxis": {
            "backgroundcolor": "#E5ECF6",
            "gridcolor": "white",
            "gridwidth": 2,
            "linecolor": "white",
            "showbackground": true,
            "ticks": "",
            "zerolinecolor": "white"
           }
          },
          "shapedefaults": {
           "line": {
            "color": "#2a3f5f"
           }
          },
          "ternary": {
           "aaxis": {
            "gridcolor": "white",
            "linecolor": "white",
            "ticks": ""
           },
           "baxis": {
            "gridcolor": "white",
            "linecolor": "white",
            "ticks": ""
           },
           "bgcolor": "#E5ECF6",
           "caxis": {
            "gridcolor": "white",
            "linecolor": "white",
            "ticks": ""
           }
          },
          "title": {
           "x": 0.05
          },
          "xaxis": {
           "automargin": true,
           "gridcolor": "white",
           "linecolor": "white",
           "ticks": "",
           "title": {
            "standoff": 15
           },
           "zerolinecolor": "white",
           "zerolinewidth": 2
          },
          "yaxis": {
           "automargin": true,
           "gridcolor": "white",
           "linecolor": "white",
           "ticks": "",
           "title": {
            "standoff": 15
           },
           "zerolinecolor": "white",
           "zerolinewidth": 2
          }
         }
        },
        "title": {
         "text": "Activations Frequency (Including activations from input tokens)"
        },
        "xaxis": {
         "anchor": "y",
         "domain": [
          0,
          1
         ],
         "title": {
          "text": "Activation"
         }
        },
        "yaxis": {
         "anchor": "x",
         "domain": [
          0,
          1
         ],
         "title": {
          "text": "count"
         },
         "type": "log"
        }
       }
      }
     },
     "metadata": {},
     "output_type": "display_data"
    }
   ],
   "source": [
    "plot_acts_histogram(all_acts_encoder_out, title='Activations Frequency (Including activations from input tokens)')"
   ]
  },
  {
   "cell_type": "code",
   "execution_count": 481,
   "metadata": {},
   "outputs": [
    {
     "data": {
      "application/vnd.plotly.v1+json": {
       "config": {
        "plotlyServerURL": "https://plot.ly"
       },
       "data": [
        {
         "bingroup": "x",
         "hovertemplate": "Activation=%{x}<br>count=%{y}<extra></extra>",
         "legendgroup": "",
         "marker": {
          "color": "#636efa",
          "pattern": {
           "shape": ""
          }
         },
         "name": "",
         "nbinsx": 20,
         "orientation": "v",
         "showlegend": false,
         "type": "histogram",
         "x": {
          "bdata": "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",
          "dtype": "f4"
         },
         "xaxis": "x",
         "yaxis": "y"
        }
       ],
       "layout": {
        "barmode": "relative",
        "legend": {
         "tracegroupgap": 0
        },
        "template": {
         "data": {
          "bar": [
           {
            "error_x": {
             "color": "#2a3f5f"
            },
            "error_y": {
             "color": "#2a3f5f"
            },
            "marker": {
             "line": {
              "color": "#E5ECF6",
              "width": 0.5
             },
             "pattern": {
              "fillmode": "overlay",
              "size": 10,
              "solidity": 0.2
             }
            },
            "type": "bar"
           }
          ],
          "barpolar": [
           {
            "marker": {
             "line": {
              "color": "#E5ECF6",
              "width": 0.5
             },
             "pattern": {
              "fillmode": "overlay",
              "size": 10,
              "solidity": 0.2
             }
            },
            "type": "barpolar"
           }
          ],
          "carpet": [
           {
            "aaxis": {
             "endlinecolor": "#2a3f5f",
             "gridcolor": "white",
             "linecolor": "white",
             "minorgridcolor": "white",
             "startlinecolor": "#2a3f5f"
            },
            "baxis": {
             "endlinecolor": "#2a3f5f",
             "gridcolor": "white",
             "linecolor": "white",
             "minorgridcolor": "white",
             "startlinecolor": "#2a3f5f"
            },
            "type": "carpet"
           }
          ],
          "choropleth": [
           {
            "colorbar": {
             "outlinewidth": 0,
             "ticks": ""
            },
            "type": "choropleth"
           }
          ],
          "contour": [
           {
            "colorbar": {
             "outlinewidth": 0,
             "ticks": ""
            },
            "colorscale": [
             [
              0,
              "#0d0887"
             ],
             [
              0.1111111111111111,
              "#46039f"
             ],
             [
              0.2222222222222222,
              "#7201a8"
             ],
             [
              0.3333333333333333,
              "#9c179e"
             ],
             [
              0.4444444444444444,
              "#bd3786"
             ],
             [
              0.5555555555555556,
              "#d8576b"
             ],
             [
              0.6666666666666666,
              "#ed7953"
             ],
             [
              0.7777777777777778,
              "#fb9f3a"
             ],
             [
              0.8888888888888888,
              "#fdca26"
             ],
             [
              1,
              "#f0f921"
             ]
            ],
            "type": "contour"
           }
          ],
          "contourcarpet": [
           {
            "colorbar": {
             "outlinewidth": 0,
             "ticks": ""
            },
            "type": "contourcarpet"
           }
          ],
          "heatmap": [
           {
            "colorbar": {
             "outlinewidth": 0,
             "ticks": ""
            },
            "colorscale": [
             [
              0,
              "#0d0887"
             ],
             [
              0.1111111111111111,
              "#46039f"
             ],
             [
              0.2222222222222222,
              "#7201a8"
             ],
             [
              0.3333333333333333,
              "#9c179e"
             ],
             [
              0.4444444444444444,
              "#bd3786"
             ],
             [
              0.5555555555555556,
              "#d8576b"
             ],
             [
              0.6666666666666666,
              "#ed7953"
             ],
             [
              0.7777777777777778,
              "#fb9f3a"
             ],
             [
              0.8888888888888888,
              "#fdca26"
             ],
             [
              1,
              "#f0f921"
             ]
            ],
            "type": "heatmap"
           }
          ],
          "histogram": [
           {
            "marker": {
             "pattern": {
              "fillmode": "overlay",
              "size": 10,
              "solidity": 0.2
             }
            },
            "type": "histogram"
           }
          ],
          "histogram2d": [
           {
            "colorbar": {
             "outlinewidth": 0,
             "ticks": ""
            },
            "colorscale": [
             [
              0,
              "#0d0887"
             ],
             [
              0.1111111111111111,
              "#46039f"
             ],
             [
              0.2222222222222222,
              "#7201a8"
             ],
             [
              0.3333333333333333,
              "#9c179e"
             ],
             [
              0.4444444444444444,
              "#bd3786"
             ],
             [
              0.5555555555555556,
              "#d8576b"
             ],
             [
              0.6666666666666666,
              "#ed7953"
             ],
             [
              0.7777777777777778,
              "#fb9f3a"
             ],
             [
              0.8888888888888888,
              "#fdca26"
             ],
             [
              1,
              "#f0f921"
             ]
            ],
            "type": "histogram2d"
           }
          ],
          "histogram2dcontour": [
           {
            "colorbar": {
             "outlinewidth": 0,
             "ticks": ""
            },
            "colorscale": [
             [
              0,
              "#0d0887"
             ],
             [
              0.1111111111111111,
              "#46039f"
             ],
             [
              0.2222222222222222,
              "#7201a8"
             ],
             [
              0.3333333333333333,
              "#9c179e"
             ],
             [
              0.4444444444444444,
              "#bd3786"
             ],
             [
              0.5555555555555556,
              "#d8576b"
             ],
             [
              0.6666666666666666,
              "#ed7953"
             ],
             [
              0.7777777777777778,
              "#fb9f3a"
             ],
             [
              0.8888888888888888,
              "#fdca26"
             ],
             [
              1,
              "#f0f921"
             ]
            ],
            "type": "histogram2dcontour"
           }
          ],
          "mesh3d": [
           {
            "colorbar": {
             "outlinewidth": 0,
             "ticks": ""
            },
            "type": "mesh3d"
           }
          ],
          "parcoords": [
           {
            "line": {
             "colorbar": {
              "outlinewidth": 0,
              "ticks": ""
             }
            },
            "type": "parcoords"
           }
          ],
          "pie": [
           {
            "automargin": true,
            "type": "pie"
           }
          ],
          "scatter": [
           {
            "fillpattern": {
             "fillmode": "overlay",
             "size": 10,
             "solidity": 0.2
            },
            "type": "scatter"
           }
          ],
          "scatter3d": [
           {
            "line": {
             "colorbar": {
              "outlinewidth": 0,
              "ticks": ""
             }
            },
            "marker": {
             "colorbar": {
              "outlinewidth": 0,
              "ticks": ""
             }
            },
            "type": "scatter3d"
           }
          ],
          "scattercarpet": [
           {
            "marker": {
             "colorbar": {
              "outlinewidth": 0,
              "ticks": ""
             }
            },
            "type": "scattercarpet"
           }
          ],
          "scattergeo": [
           {
            "marker": {
             "colorbar": {
              "outlinewidth": 0,
              "ticks": ""
             }
            },
            "type": "scattergeo"
           }
          ],
          "scattergl": [
           {
            "marker": {
             "colorbar": {
              "outlinewidth": 0,
              "ticks": ""
             }
            },
            "type": "scattergl"
           }
          ],
          "scattermap": [
           {
            "marker": {
             "colorbar": {
              "outlinewidth": 0,
              "ticks": ""
             }
            },
            "type": "scattermap"
           }
          ],
          "scattermapbox": [
           {
            "marker": {
             "colorbar": {
              "outlinewidth": 0,
              "ticks": ""
             }
            },
            "type": "scattermapbox"
           }
          ],
          "scatterpolar": [
           {
            "marker": {
             "colorbar": {
              "outlinewidth": 0,
              "ticks": ""
             }
            },
            "type": "scatterpolar"
           }
          ],
          "scatterpolargl": [
           {
            "marker": {
             "colorbar": {
              "outlinewidth": 0,
              "ticks": ""
             }
            },
            "type": "scatterpolargl"
           }
          ],
          "scatterternary": [
           {
            "marker": {
             "colorbar": {
              "outlinewidth": 0,
              "ticks": ""
             }
            },
            "type": "scatterternary"
           }
          ],
          "surface": [
           {
            "colorbar": {
             "outlinewidth": 0,
             "ticks": ""
            },
            "colorscale": [
             [
              0,
              "#0d0887"
             ],
             [
              0.1111111111111111,
              "#46039f"
             ],
             [
              0.2222222222222222,
              "#7201a8"
             ],
             [
              0.3333333333333333,
              "#9c179e"
             ],
             [
              0.4444444444444444,
              "#bd3786"
             ],
             [
              0.5555555555555556,
              "#d8576b"
             ],
             [
              0.6666666666666666,
              "#ed7953"
             ],
             [
              0.7777777777777778,
              "#fb9f3a"
             ],
             [
              0.8888888888888888,
              "#fdca26"
             ],
             [
              1,
              "#f0f921"
             ]
            ],
            "type": "surface"
           }
          ],
          "table": [
           {
            "cells": {
             "fill": {
              "color": "#EBF0F8"
             },
             "line": {
              "color": "white"
             }
            },
            "header": {
             "fill": {
              "color": "#C8D4E3"
             },
             "line": {
              "color": "white"
             }
            },
            "type": "table"
           }
          ]
         },
         "layout": {
          "annotationdefaults": {
           "arrowcolor": "#2a3f5f",
           "arrowhead": 0,
           "arrowwidth": 1
          },
          "autotypenumbers": "strict",
          "coloraxis": {
           "colorbar": {
            "outlinewidth": 0,
            "ticks": ""
           }
          },
          "colorscale": {
           "diverging": [
            [
             0,
             "#8e0152"
            ],
            [
             0.1,
             "#c51b7d"
            ],
            [
             0.2,
             "#de77ae"
            ],
            [
             0.3,
             "#f1b6da"
            ],
            [
             0.4,
             "#fde0ef"
            ],
            [
             0.5,
             "#f7f7f7"
            ],
            [
             0.6,
             "#e6f5d0"
            ],
            [
             0.7,
             "#b8e186"
            ],
            [
             0.8,
             "#7fbc41"
            ],
            [
             0.9,
             "#4d9221"
            ],
            [
             1,
             "#276419"
            ]
           ],
           "sequential": [
            [
             0,
             "#0d0887"
            ],
            [
             0.1111111111111111,
             "#46039f"
            ],
            [
             0.2222222222222222,
             "#7201a8"
            ],
            [
             0.3333333333333333,
             "#9c179e"
            ],
            [
             0.4444444444444444,
             "#bd3786"
            ],
            [
             0.5555555555555556,
             "#d8576b"
            ],
            [
             0.6666666666666666,
             "#ed7953"
            ],
            [
             0.7777777777777778,
             "#fb9f3a"
            ],
            [
             0.8888888888888888,
             "#fdca26"
            ],
            [
             1,
             "#f0f921"
            ]
           ],
           "sequentialminus": [
            [
             0,
             "#0d0887"
            ],
            [
             0.1111111111111111,
             "#46039f"
            ],
            [
             0.2222222222222222,
             "#7201a8"
            ],
            [
             0.3333333333333333,
             "#9c179e"
            ],
            [
             0.4444444444444444,
             "#bd3786"
            ],
            [
             0.5555555555555556,
             "#d8576b"
            ],
            [
             0.6666666666666666,
             "#ed7953"
            ],
            [
             0.7777777777777778,
             "#fb9f3a"
            ],
            [
             0.8888888888888888,
             "#fdca26"
            ],
            [
             1,
             "#f0f921"
            ]
           ]
          },
          "colorway": [
           "#636efa",
           "#EF553B",
           "#00cc96",
           "#ab63fa",
           "#FFA15A",
           "#19d3f3",
           "#FF6692",
           "#B6E880",
           "#FF97FF",
           "#FECB52"
          ],
          "font": {
           "color": "#2a3f5f"
          },
          "geo": {
           "bgcolor": "white",
           "lakecolor": "white",
           "landcolor": "#E5ECF6",
           "showlakes": true,
           "showland": true,
           "subunitcolor": "white"
          },
          "hoverlabel": {
           "align": "left"
          },
          "hovermode": "closest",
          "mapbox": {
           "style": "light"
          },
          "paper_bgcolor": "white",
          "plot_bgcolor": "#E5ECF6",
          "polar": {
           "angularaxis": {
            "gridcolor": "white",
            "linecolor": "white",
            "ticks": ""
           },
           "bgcolor": "#E5ECF6",
           "radialaxis": {
            "gridcolor": "white",
            "linecolor": "white",
            "ticks": ""
           }
          },
          "scene": {
           "xaxis": {
            "backgroundcolor": "#E5ECF6",
            "gridcolor": "white",
            "gridwidth": 2,
            "linecolor": "white",
            "showbackground": true,
            "ticks": "",
            "zerolinecolor": "white"
           },
           "yaxis": {
            "backgroundcolor": "#E5ECF6",
            "gridcolor": "white",
            "gridwidth": 2,
            "linecolor": "white",
            "showbackground": true,
            "ticks": "",
            "zerolinecolor": "white"
           },
           "zaxis": {
            "backgroundcolor": "#E5ECF6",
            "gridcolor": "white",
            "gridwidth": 2,
            "linecolor": "white",
            "showbackground": true,
            "ticks": "",
            "zerolinecolor": "white"
           }
          },
          "shapedefaults": {
           "line": {
            "color": "#2a3f5f"
           }
          },
          "ternary": {
           "aaxis": {
            "gridcolor": "white",
            "linecolor": "white",
            "ticks": ""
           },
           "baxis": {
            "gridcolor": "white",
            "linecolor": "white",
            "ticks": ""
           },
           "bgcolor": "#E5ECF6",
           "caxis": {
            "gridcolor": "white",
            "linecolor": "white",
            "ticks": ""
           }
          },
          "title": {
           "x": 0.05
          },
          "xaxis": {
           "automargin": true,
           "gridcolor": "white",
           "linecolor": "white",
           "ticks": "",
           "title": {
            "standoff": 15
           },
           "zerolinecolor": "white",
           "zerolinewidth": 2
          },
          "yaxis": {
           "automargin": true,
           "gridcolor": "white",
           "linecolor": "white",
           "ticks": "",
           "title": {
            "standoff": 15
           },
           "zerolinecolor": "white",
           "zerolinewidth": 2
          }
         }
        },
        "title": {
         "text": "Activations Frequency (Only activation from generated tokens)"
        },
        "xaxis": {
         "anchor": "y",
         "domain": [
          0,
          1
         ],
         "title": {
          "text": "Activation"
         }
        },
        "yaxis": {
         "anchor": "x",
         "domain": [
          0,
          1
         ],
         "title": {
          "text": "count"
         },
         "type": "log"
        }
       }
      }
     },
     "metadata": {},
     "output_type": "display_data"
    }
   ],
   "source": [
    "plot_acts_histogram(generated_only_acts_encoder_out, title='Activations Frequency (Only activation from generated tokens)', nbins=20)"
   ]
  },
  {
   "cell_type": "code",
   "execution_count": 482,
   "metadata": {},
   "outputs": [],
   "source": [
    "prominent_feature_idx = 1038\n",
    "TOKEN_ACTS_RELATION_TOP_K = 70\n",
    "\n",
    "all_acts_token_acts_relation = relate_feature_acts_to_tokens(\n",
    "    all_acts_encoder_out,\n",
    "    feature_idx=prominent_feature_idx,\n",
    "    sample_tokens=model_outs_for_sae.sequences.squeeze(),\n",
    "    no_token_repetition=True\n",
    ")\n",
    "\n",
    "all_acts_token_acts_relation_top_k = relate_feature_acts_to_tokens(\n",
    "    all_acts_encoder_out,\n",
    "    feature_idx=prominent_feature_idx,\n",
    "    sample_tokens=model_outs_for_sae.sequences.squeeze(),\n",
    "    top_k=TOKEN_ACTS_RELATION_TOP_K,\n",
    "    no_token_repetition=True\n",
    ")"
   ]
  },
  {
   "cell_type": "code",
   "execution_count": 483,
   "metadata": {},
   "outputs": [
    {
     "data": {
      "application/vnd.plotly.v1+json": {
       "config": {
        "plotlyServerURL": "https://plot.ly"
       },
       "data": [
        {
         "hovertemplate": "Token ID=%{x}<br>Top Activations=%{y}<extra></extra>",
         "legendgroup": "",
         "marker": {
          "color": "#636efa",
          "opacity": 0.7,
          "size": 12,
          "symbol": "circle"
         },
         "mode": "markers",
         "name": "",
         "orientation": "v",
         "showlegend": false,
         "type": "scatter",
         "x": {
          "bdata": "XlACAFxQAgApAgAANgAAAGQEAAC5AgAACAEAAGBQAgANAAAAHgAAAH4BAAALAAAAdgEAAMYAAACQAQAAhggAAA8AAABkBQAANwEAABkKAADcAAAA8AIAAKcFAABEEQAAEQAAAFgDAADLCwAAPBkAAEMBAABdUAIADwEAADwFAABzGgAAFAAAABMQAAAVAAAAowEAADl+AABmAQAAhgIAAC4MAAAnKwAAjwMAABwBAACUDAAAhQEAAMc7AABfBAAAgwEAACMEAAC8AgAABQMAAJ8KAAB9UgAArQEAAMUFAAAXAQAAuCsAANtLAAA7AQAAEAAAAA/5AAAwAQAAGxEAABIAAAAOAAAAcgMAAAMcAACBXAAA0wEAACgAAABAAQAAxgwAAJ0BAAAHCAAAIw0AANAGAAAoBgAA2jkAANcFAACaFQAAzwMAAIcMAABqHQAAGgAAAN4HAAAIAAAAxw4AAKAEAAAyAAAAcQEAANkGAAAVBAAAcwAAADoLAACaHwAA3gMAACcZAABlCgAA7wwAALYQAABAHAAAeQYAAPEEAAAXAAAA0xcAAHNFAABNJwAAxAcAAMpbAAA6AwAAkwYAAIMzAABSBgAARg4AAHwDAAB+WAEA3gQAAPVUAADBAgAAACIAAOM0AQBlFAAAuoEAANoUAACCEAAAhgUAALcTAQB2HAAAxQQAAIQVAABDBAAAAQUAAKUBAADKAQAAnxsAAFkUAABxGAAAjw8AAHoLAABWHgAAMQMAAHNDAADvGAAAGQcAADYGAACwAwAAlBAAAOICAAA2BwAA8QUAAH8bAACpBQAAzgwAALAJAAAltgAAfgoAAAAYAAA+CwAAlAQAAA==",
          "dtype": "i4"
         },
         "xaxis": "x",
         "y": {
          "bdata": "c7eQRSMhj0UHX/BCzHrNQo3pxUK0xIdC3AB4QvI4X0JhrzhCLAIyQse1KUIAKylCQKkmQudBI0KwlSFCVhogQlMjHEIvuRVCKRgVQjI8E0I6nRJCpZ4RQl4aEUKddRBC7hkQQvZaDkJHeQ1Cdk8NQn5ADUJ7/QlCVKIHQpMIB0JblQZCdB0GQoSWBUJ5IwVCfh0DQiRlAkLfzABCCaEAQkqbAEKevf9BDQj9QZoE/UG0/vxBmPX6QfgH+kG15vZBxh/1QT159EEFU/RBOij0QfLy8kE57PFBjLXxQcIA8UEH1fBBArzwQQ9b70E8PO1BcrvsQcEL7EFaxelB0RDnQcW25kF+iORBL3HhQcJJ4EHzu95BTPrZQZjR10HGTtNB8EHSQe4Kz0FvGM1BOhjLQak1ykHEIcpBssTGQT+MxkFAd8ZBtYnEQXrUw0EJN8NBfKTCQe7dwUEWu8FBSpHBQdoqwUFq38BBUH/AQUipvkH3PL5B4re9Qen5u0HuoLtBS8y5QeSIuUELablB/f24QTJutkGUCrNBAcCyQcW1sUEmd7FBmjSxQefCrUEoa61Boq6sQRl3qkHw5KhBBNinQalgp0Hv/6ZBUsegQSoaoEEUvZ9BeXucQcJtnEH35phB9t2VQQxalUFYepRBcvGTQWi0k0ErLZNBo7OMQRp9i0F3cYhBMEmIQYDJh0FgWYZB0T+EQXExhEEXBoNBkp2CQTirgUG0hIFBed98QeCCekFJHXVBrpJtQbpNa0GlY2BBc6ZaQV8FVUF8PlJBvgFRQV3jRUGe9EFBNC5AQYFpPEElXzdBftIxQdkDJkGdHRJBfwQDQbJE50DRFcxAtSDEQA==",
          "dtype": "f4"
         },
         "yaxis": "y"
        }
       ],
       "layout": {
        "legend": {
         "tracegroupgap": 0
        },
        "template": {
         "data": {
          "bar": [
           {
            "error_x": {
             "color": "#2a3f5f"
            },
            "error_y": {
             "color": "#2a3f5f"
            },
            "marker": {
             "line": {
              "color": "#E5ECF6",
              "width": 0.5
             },
             "pattern": {
              "fillmode": "overlay",
              "size": 10,
              "solidity": 0.2
             }
            },
            "type": "bar"
           }
          ],
          "barpolar": [
           {
            "marker": {
             "line": {
              "color": "#E5ECF6",
              "width": 0.5
             },
             "pattern": {
              "fillmode": "overlay",
              "size": 10,
              "solidity": 0.2
             }
            },
            "type": "barpolar"
           }
          ],
          "carpet": [
           {
            "aaxis": {
             "endlinecolor": "#2a3f5f",
             "gridcolor": "white",
             "linecolor": "white",
             "minorgridcolor": "white",
             "startlinecolor": "#2a3f5f"
            },
            "baxis": {
             "endlinecolor": "#2a3f5f",
             "gridcolor": "white",
             "linecolor": "white",
             "minorgridcolor": "white",
             "startlinecolor": "#2a3f5f"
            },
            "type": "carpet"
           }
          ],
          "choropleth": [
           {
            "colorbar": {
             "outlinewidth": 0,
             "ticks": ""
            },
            "type": "choropleth"
           }
          ],
          "contour": [
           {
            "colorbar": {
             "outlinewidth": 0,
             "ticks": ""
            },
            "colorscale": [
             [
              0,
              "#0d0887"
             ],
             [
              0.1111111111111111,
              "#46039f"
             ],
             [
              0.2222222222222222,
              "#7201a8"
             ],
             [
              0.3333333333333333,
              "#9c179e"
             ],
             [
              0.4444444444444444,
              "#bd3786"
             ],
             [
              0.5555555555555556,
              "#d8576b"
             ],
             [
              0.6666666666666666,
              "#ed7953"
             ],
             [
              0.7777777777777778,
              "#fb9f3a"
             ],
             [
              0.8888888888888888,
              "#fdca26"
             ],
             [
              1,
              "#f0f921"
             ]
            ],
            "type": "contour"
           }
          ],
          "contourcarpet": [
           {
            "colorbar": {
             "outlinewidth": 0,
             "ticks": ""
            },
            "type": "contourcarpet"
           }
          ],
          "heatmap": [
           {
            "colorbar": {
             "outlinewidth": 0,
             "ticks": ""
            },
            "colorscale": [
             [
              0,
              "#0d0887"
             ],
             [
              0.1111111111111111,
              "#46039f"
             ],
             [
              0.2222222222222222,
              "#7201a8"
             ],
             [
              0.3333333333333333,
              "#9c179e"
             ],
             [
              0.4444444444444444,
              "#bd3786"
             ],
             [
              0.5555555555555556,
              "#d8576b"
             ],
             [
              0.6666666666666666,
              "#ed7953"
             ],
             [
              0.7777777777777778,
              "#fb9f3a"
             ],
             [
              0.8888888888888888,
              "#fdca26"
             ],
             [
              1,
              "#f0f921"
             ]
            ],
            "type": "heatmap"
           }
          ],
          "histogram": [
           {
            "marker": {
             "pattern": {
              "fillmode": "overlay",
              "size": 10,
              "solidity": 0.2
             }
            },
            "type": "histogram"
           }
          ],
          "histogram2d": [
           {
            "colorbar": {
             "outlinewidth": 0,
             "ticks": ""
            },
            "colorscale": [
             [
              0,
              "#0d0887"
             ],
             [
              0.1111111111111111,
              "#46039f"
             ],
             [
              0.2222222222222222,
              "#7201a8"
             ],
             [
              0.3333333333333333,
              "#9c179e"
             ],
             [
              0.4444444444444444,
              "#bd3786"
             ],
             [
              0.5555555555555556,
              "#d8576b"
             ],
             [
              0.6666666666666666,
              "#ed7953"
             ],
             [
              0.7777777777777778,
              "#fb9f3a"
             ],
             [
              0.8888888888888888,
              "#fdca26"
             ],
             [
              1,
              "#f0f921"
             ]
            ],
            "type": "histogram2d"
           }
          ],
          "histogram2dcontour": [
           {
            "colorbar": {
             "outlinewidth": 0,
             "ticks": ""
            },
            "colorscale": [
             [
              0,
              "#0d0887"
             ],
             [
              0.1111111111111111,
              "#46039f"
             ],
             [
              0.2222222222222222,
              "#7201a8"
             ],
             [
              0.3333333333333333,
              "#9c179e"
             ],
             [
              0.4444444444444444,
              "#bd3786"
             ],
             [
              0.5555555555555556,
              "#d8576b"
             ],
             [
              0.6666666666666666,
              "#ed7953"
             ],
             [
              0.7777777777777778,
              "#fb9f3a"
             ],
             [
              0.8888888888888888,
              "#fdca26"
             ],
             [
              1,
              "#f0f921"
             ]
            ],
            "type": "histogram2dcontour"
           }
          ],
          "mesh3d": [
           {
            "colorbar": {
             "outlinewidth": 0,
             "ticks": ""
            },
            "type": "mesh3d"
           }
          ],
          "parcoords": [
           {
            "line": {
             "colorbar": {
              "outlinewidth": 0,
              "ticks": ""
             }
            },
            "type": "parcoords"
           }
          ],
          "pie": [
           {
            "automargin": true,
            "type": "pie"
           }
          ],
          "scatter": [
           {
            "fillpattern": {
             "fillmode": "overlay",
             "size": 10,
             "solidity": 0.2
            },
            "type": "scatter"
           }
          ],
          "scatter3d": [
           {
            "line": {
             "colorbar": {
              "outlinewidth": 0,
              "ticks": ""
             }
            },
            "marker": {
             "colorbar": {
              "outlinewidth": 0,
              "ticks": ""
             }
            },
            "type": "scatter3d"
           }
          ],
          "scattercarpet": [
           {
            "marker": {
             "colorbar": {
              "outlinewidth": 0,
              "ticks": ""
             }
            },
            "type": "scattercarpet"
           }
          ],
          "scattergeo": [
           {
            "marker": {
             "colorbar": {
              "outlinewidth": 0,
              "ticks": ""
             }
            },
            "type": "scattergeo"
           }
          ],
          "scattergl": [
           {
            "marker": {
             "colorbar": {
              "outlinewidth": 0,
              "ticks": ""
             }
            },
            "type": "scattergl"
           }
          ],
          "scattermap": [
           {
            "marker": {
             "colorbar": {
              "outlinewidth": 0,
              "ticks": ""
             }
            },
            "type": "scattermap"
           }
          ],
          "scattermapbox": [
           {
            "marker": {
             "colorbar": {
              "outlinewidth": 0,
              "ticks": ""
             }
            },
            "type": "scattermapbox"
           }
          ],
          "scatterpolar": [
           {
            "marker": {
             "colorbar": {
              "outlinewidth": 0,
              "ticks": ""
             }
            },
            "type": "scatterpolar"
           }
          ],
          "scatterpolargl": [
           {
            "marker": {
             "colorbar": {
              "outlinewidth": 0,
              "ticks": ""
             }
            },
            "type": "scatterpolargl"
           }
          ],
          "scatterternary": [
           {
            "marker": {
             "colorbar": {
              "outlinewidth": 0,
              "ticks": ""
             }
            },
            "type": "scatterternary"
           }
          ],
          "surface": [
           {
            "colorbar": {
             "outlinewidth": 0,
             "ticks": ""
            },
            "colorscale": [
             [
              0,
              "#0d0887"
             ],
             [
              0.1111111111111111,
              "#46039f"
             ],
             [
              0.2222222222222222,
              "#7201a8"
             ],
             [
              0.3333333333333333,
              "#9c179e"
             ],
             [
              0.4444444444444444,
              "#bd3786"
             ],
             [
              0.5555555555555556,
              "#d8576b"
             ],
             [
              0.6666666666666666,
              "#ed7953"
             ],
             [
              0.7777777777777778,
              "#fb9f3a"
             ],
             [
              0.8888888888888888,
              "#fdca26"
             ],
             [
              1,
              "#f0f921"
             ]
            ],
            "type": "surface"
           }
          ],
          "table": [
           {
            "cells": {
             "fill": {
              "color": "#EBF0F8"
             },
             "line": {
              "color": "white"
             }
            },
            "header": {
             "fill": {
              "color": "#C8D4E3"
             },
             "line": {
              "color": "white"
             }
            },
            "type": "table"
           }
          ]
         },
         "layout": {
          "annotationdefaults": {
           "arrowcolor": "#2a3f5f",
           "arrowhead": 0,
           "arrowwidth": 1
          },
          "autotypenumbers": "strict",
          "coloraxis": {
           "colorbar": {
            "outlinewidth": 0,
            "ticks": ""
           }
          },
          "colorscale": {
           "diverging": [
            [
             0,
             "#8e0152"
            ],
            [
             0.1,
             "#c51b7d"
            ],
            [
             0.2,
             "#de77ae"
            ],
            [
             0.3,
             "#f1b6da"
            ],
            [
             0.4,
             "#fde0ef"
            ],
            [
             0.5,
             "#f7f7f7"
            ],
            [
             0.6,
             "#e6f5d0"
            ],
            [
             0.7,
             "#b8e186"
            ],
            [
             0.8,
             "#7fbc41"
            ],
            [
             0.9,
             "#4d9221"
            ],
            [
             1,
             "#276419"
            ]
           ],
           "sequential": [
            [
             0,
             "#0d0887"
            ],
            [
             0.1111111111111111,
             "#46039f"
            ],
            [
             0.2222222222222222,
             "#7201a8"
            ],
            [
             0.3333333333333333,
             "#9c179e"
            ],
            [
             0.4444444444444444,
             "#bd3786"
            ],
            [
             0.5555555555555556,
             "#d8576b"
            ],
            [
             0.6666666666666666,
             "#ed7953"
            ],
            [
             0.7777777777777778,
             "#fb9f3a"
            ],
            [
             0.8888888888888888,
             "#fdca26"
            ],
            [
             1,
             "#f0f921"
            ]
           ],
           "sequentialminus": [
            [
             0,
             "#0d0887"
            ],
            [
             0.1111111111111111,
             "#46039f"
            ],
            [
             0.2222222222222222,
             "#7201a8"
            ],
            [
             0.3333333333333333,
             "#9c179e"
            ],
            [
             0.4444444444444444,
             "#bd3786"
            ],
            [
             0.5555555555555556,
             "#d8576b"
            ],
            [
             0.6666666666666666,
             "#ed7953"
            ],
            [
             0.7777777777777778,
             "#fb9f3a"
            ],
            [
             0.8888888888888888,
             "#fdca26"
            ],
            [
             1,
             "#f0f921"
            ]
           ]
          },
          "colorway": [
           "#636efa",
           "#EF553B",
           "#00cc96",
           "#ab63fa",
           "#FFA15A",
           "#19d3f3",
           "#FF6692",
           "#B6E880",
           "#FF97FF",
           "#FECB52"
          ],
          "font": {
           "color": "#2a3f5f"
          },
          "geo": {
           "bgcolor": "white",
           "lakecolor": "white",
           "landcolor": "#E5ECF6",
           "showlakes": true,
           "showland": true,
           "subunitcolor": "white"
          },
          "hoverlabel": {
           "align": "left"
          },
          "hovermode": "closest",
          "mapbox": {
           "style": "light"
          },
          "paper_bgcolor": "white",
          "plot_bgcolor": "#E5ECF6",
          "polar": {
           "angularaxis": {
            "gridcolor": "white",
            "linecolor": "white",
            "ticks": ""
           },
           "bgcolor": "#E5ECF6",
           "radialaxis": {
            "gridcolor": "white",
            "linecolor": "white",
            "ticks": ""
           }
          },
          "scene": {
           "xaxis": {
            "backgroundcolor": "#E5ECF6",
            "gridcolor": "white",
            "gridwidth": 2,
            "linecolor": "white",
            "showbackground": true,
            "ticks": "",
            "zerolinecolor": "white"
           },
           "yaxis": {
            "backgroundcolor": "#E5ECF6",
            "gridcolor": "white",
            "gridwidth": 2,
            "linecolor": "white",
            "showbackground": true,
            "ticks": "",
            "zerolinecolor": "white"
           },
           "zaxis": {
            "backgroundcolor": "#E5ECF6",
            "gridcolor": "white",
            "gridwidth": 2,
            "linecolor": "white",
            "showbackground": true,
            "ticks": "",
            "zerolinecolor": "white"
           }
          },
          "shapedefaults": {
           "line": {
            "color": "#2a3f5f"
           }
          },
          "ternary": {
           "aaxis": {
            "gridcolor": "white",
            "linecolor": "white",
            "ticks": ""
           },
           "baxis": {
            "gridcolor": "white",
            "linecolor": "white",
            "ticks": ""
           },
           "bgcolor": "#E5ECF6",
           "caxis": {
            "gridcolor": "white",
            "linecolor": "white",
            "ticks": ""
           }
          },
          "title": {
           "x": 0.05
          },
          "xaxis": {
           "automargin": true,
           "gridcolor": "white",
           "linecolor": "white",
           "ticks": "",
           "title": {
            "standoff": 15
           },
           "zerolinecolor": "white",
           "zerolinewidth": 2
          },
          "yaxis": {
           "automargin": true,
           "gridcolor": "white",
           "linecolor": "white",
           "ticks": "",
           "title": {
            "standoff": 15
           },
           "zerolinecolor": "white",
           "zerolinewidth": 2
          }
         }
        },
        "title": {
         "text": "Activating Tokens for Feature with index 1038"
        },
        "xaxis": {
         "anchor": "y",
         "domain": [
          0,
          1
         ],
         "title": {
          "text": "Token ID"
         }
        },
        "yaxis": {
         "anchor": "x",
         "domain": [
          0,
          1
         ],
         "title": {
          "text": "Top Activations"
         }
        }
       }
      }
     },
     "metadata": {},
     "output_type": "display_data"
    }
   ],
   "source": [
    "plot_acts_and_tokens_relation_scatter(\n",
    "    all_acts_token_acts_relation,\n",
    "    title=f'Activating Tokens for Feature with index {prominent_feature_idx}'\n",
    ")"
   ]
  },
  {
   "cell_type": "code",
   "execution_count": 531,
   "metadata": {},
   "outputs": [
    {
     "data": {
      "application/vnd.plotly.v1+json": {
       "config": {
        "plotlyServerURL": "https://plot.ly"
       },
       "data": [
        {
         "hovertemplate": "Top Activation=%{x}<br>Token=%{y}<extra></extra>",
         "legendgroup": "",
         "marker": {
          "color": "#636efa",
          "pattern": {
           "shape": ""
          }
         },
         "name": "",
         "orientation": "h",
         "showlegend": false,
         "textposition": "auto",
         "type": "bar",
         "x": {
          "bdata": "c7eQRSMhj0UHX/BCzHrNQo3pxUK0xIdC3AB4QvI4X0JhrzhCLAIyQse1KUIAKylCQKkmQudBI0KwlSFCVhogQlMjHEIvuRVCKRgVQjI8E0I6nRJCpZ4RQl4aEUKddRBC7hkQQvZaDkJHeQ1Cdk8NQn5ADUJ7/QlCVKIHQpMIB0JblQZCdB0GQoSWBUJ5IwVCfh0DQiRlAkLfzABCCaEAQkqbAEKevf9BDQj9QZoE/UG0/vxBmPX6QfgH+kG15vZBxh/1QT159EEFU/RBOij0QfLy8kE57PFBjLXxQcIA8UEH1fBBArzwQQ9b70E8PO1BcrvsQcEL7EFaxelB0RDnQcW25kF+iORBL3HhQcJJ4EHzu95BTPrZQQ==",
          "dtype": "f4"
         },
         "xaxis": "x",
         "y": [
          "<｜begin▁of▁sentence｜>:151646",
          "<｜User｜>:151644",
          " by:553",
          "W:54",
          " \\:1124",
          " your:697",
          " a:264",
          "<think>:151648",
          ".:13",
          "?:30",
          ".\n\n:382",
          ",:11",
          " is:374",
          "\n:198",
          " $:400",
          " put:2182",
          "0:15",
          " where:1380",
          " to:311",
          " How:2585",
          "<space>:220",
          " me:752",
          ":\n\n:1447",
          " minutes:4420",
          "2:17",
          " x:856",
          " step:3019",
          " hour:6460",
          " and:323",
          "<｜Assistant｜>:151645",
          "\n\n:271",
          " she:1340",
          " Let:6771",
          "5:20",
          " hours:4115",
          "6:21",
          " this:419",
          "Okay:32313",
          " I:358",
          " can:646",
          " based:3118",
          " calculate:11047",
          " about:911",
          " =:284",
          " money:3220",
          " on:389",
          " earned:15303",
          " into:1119",
          " be:387",
          " her:1059",
          " out:700",
          " so:773",
          "ality:2719",
          " proportion:21117",
          " that:429",
          " find:1477",
          " the:279",
          " dollars:11192",
          " fraction:19419",
          " of:315",
          "1:16",
          " earns:63759",
          " in:304",
          " rate:4379",
          "3:18",
          "/:14",
          " time:882",
          " paid:7171",
          " earnings:23681",
          " W:467"
         ],
         "yaxis": "y"
        }
       ],
       "layout": {
        "barmode": "relative",
        "font": {
         "size": 10
        },
        "height": 1050,
        "legend": {
         "tracegroupgap": 0
        },
        "margin": {
         "l": 200
        },
        "template": {
         "data": {
          "bar": [
           {
            "error_x": {
             "color": "#2a3f5f"
            },
            "error_y": {
             "color": "#2a3f5f"
            },
            "marker": {
             "line": {
              "color": "#E5ECF6",
              "width": 0.5
             },
             "pattern": {
              "fillmode": "overlay",
              "size": 10,
              "solidity": 0.2
             }
            },
            "type": "bar"
           }
          ],
          "barpolar": [
           {
            "marker": {
             "line": {
              "color": "#E5ECF6",
              "width": 0.5
             },
             "pattern": {
              "fillmode": "overlay",
              "size": 10,
              "solidity": 0.2
             }
            },
            "type": "barpolar"
           }
          ],
          "carpet": [
           {
            "aaxis": {
             "endlinecolor": "#2a3f5f",
             "gridcolor": "white",
             "linecolor": "white",
             "minorgridcolor": "white",
             "startlinecolor": "#2a3f5f"
            },
            "baxis": {
             "endlinecolor": "#2a3f5f",
             "gridcolor": "white",
             "linecolor": "white",
             "minorgridcolor": "white",
             "startlinecolor": "#2a3f5f"
            },
            "type": "carpet"
           }
          ],
          "choropleth": [
           {
            "colorbar": {
             "outlinewidth": 0,
             "ticks": ""
            },
            "type": "choropleth"
           }
          ],
          "contour": [
           {
            "colorbar": {
             "outlinewidth": 0,
             "ticks": ""
            },
            "colorscale": [
             [
              0,
              "#0d0887"
             ],
             [
              0.1111111111111111,
              "#46039f"
             ],
             [
              0.2222222222222222,
              "#7201a8"
             ],
             [
              0.3333333333333333,
              "#9c179e"
             ],
             [
              0.4444444444444444,
              "#bd3786"
             ],
             [
              0.5555555555555556,
              "#d8576b"
             ],
             [
              0.6666666666666666,
              "#ed7953"
             ],
             [
              0.7777777777777778,
              "#fb9f3a"
             ],
             [
              0.8888888888888888,
              "#fdca26"
             ],
             [
              1,
              "#f0f921"
             ]
            ],
            "type": "contour"
           }
          ],
          "contourcarpet": [
           {
            "colorbar": {
             "outlinewidth": 0,
             "ticks": ""
            },
            "type": "contourcarpet"
           }
          ],
          "heatmap": [
           {
            "colorbar": {
             "outlinewidth": 0,
             "ticks": ""
            },
            "colorscale": [
             [
              0,
              "#0d0887"
             ],
             [
              0.1111111111111111,
              "#46039f"
             ],
             [
              0.2222222222222222,
              "#7201a8"
             ],
             [
              0.3333333333333333,
              "#9c179e"
             ],
             [
              0.4444444444444444,
              "#bd3786"
             ],
             [
              0.5555555555555556,
              "#d8576b"
             ],
             [
              0.6666666666666666,
              "#ed7953"
             ],
             [
              0.7777777777777778,
              "#fb9f3a"
             ],
             [
              0.8888888888888888,
              "#fdca26"
             ],
             [
              1,
              "#f0f921"
             ]
            ],
            "type": "heatmap"
           }
          ],
          "histogram": [
           {
            "marker": {
             "pattern": {
              "fillmode": "overlay",
              "size": 10,
              "solidity": 0.2
             }
            },
            "type": "histogram"
           }
          ],
          "histogram2d": [
           {
            "colorbar": {
             "outlinewidth": 0,
             "ticks": ""
            },
            "colorscale": [
             [
              0,
              "#0d0887"
             ],
             [
              0.1111111111111111,
              "#46039f"
             ],
             [
              0.2222222222222222,
              "#7201a8"
             ],
             [
              0.3333333333333333,
              "#9c179e"
             ],
             [
              0.4444444444444444,
              "#bd3786"
             ],
             [
              0.5555555555555556,
              "#d8576b"
             ],
             [
              0.6666666666666666,
              "#ed7953"
             ],
             [
              0.7777777777777778,
              "#fb9f3a"
             ],
             [
              0.8888888888888888,
              "#fdca26"
             ],
             [
              1,
              "#f0f921"
             ]
            ],
            "type": "histogram2d"
           }
          ],
          "histogram2dcontour": [
           {
            "colorbar": {
             "outlinewidth": 0,
             "ticks": ""
            },
            "colorscale": [
             [
              0,
              "#0d0887"
             ],
             [
              0.1111111111111111,
              "#46039f"
             ],
             [
              0.2222222222222222,
              "#7201a8"
             ],
             [
              0.3333333333333333,
              "#9c179e"
             ],
             [
              0.4444444444444444,
              "#bd3786"
             ],
             [
              0.5555555555555556,
              "#d8576b"
             ],
             [
              0.6666666666666666,
              "#ed7953"
             ],
             [
              0.7777777777777778,
              "#fb9f3a"
             ],
             [
              0.8888888888888888,
              "#fdca26"
             ],
             [
              1,
              "#f0f921"
             ]
            ],
            "type": "histogram2dcontour"
           }
          ],
          "mesh3d": [
           {
            "colorbar": {
             "outlinewidth": 0,
             "ticks": ""
            },
            "type": "mesh3d"
           }
          ],
          "parcoords": [
           {
            "line": {
             "colorbar": {
              "outlinewidth": 0,
              "ticks": ""
             }
            },
            "type": "parcoords"
           }
          ],
          "pie": [
           {
            "automargin": true,
            "type": "pie"
           }
          ],
          "scatter": [
           {
            "fillpattern": {
             "fillmode": "overlay",
             "size": 10,
             "solidity": 0.2
            },
            "type": "scatter"
           }
          ],
          "scatter3d": [
           {
            "line": {
             "colorbar": {
              "outlinewidth": 0,
              "ticks": ""
             }
            },
            "marker": {
             "colorbar": {
              "outlinewidth": 0,
              "ticks": ""
             }
            },
            "type": "scatter3d"
           }
          ],
          "scattercarpet": [
           {
            "marker": {
             "colorbar": {
              "outlinewidth": 0,
              "ticks": ""
             }
            },
            "type": "scattercarpet"
           }
          ],
          "scattergeo": [
           {
            "marker": {
             "colorbar": {
              "outlinewidth": 0,
              "ticks": ""
             }
            },
            "type": "scattergeo"
           }
          ],
          "scattergl": [
           {
            "marker": {
             "colorbar": {
              "outlinewidth": 0,
              "ticks": ""
             }
            },
            "type": "scattergl"
           }
          ],
          "scattermap": [
           {
            "marker": {
             "colorbar": {
              "outlinewidth": 0,
              "ticks": ""
             }
            },
            "type": "scattermap"
           }
          ],
          "scattermapbox": [
           {
            "marker": {
             "colorbar": {
              "outlinewidth": 0,
              "ticks": ""
             }
            },
            "type": "scattermapbox"
           }
          ],
          "scatterpolar": [
           {
            "marker": {
             "colorbar": {
              "outlinewidth": 0,
              "ticks": ""
             }
            },
            "type": "scatterpolar"
           }
          ],
          "scatterpolargl": [
           {
            "marker": {
             "colorbar": {
              "outlinewidth": 0,
              "ticks": ""
             }
            },
            "type": "scatterpolargl"
           }
          ],
          "scatterternary": [
           {
            "marker": {
             "colorbar": {
              "outlinewidth": 0,
              "ticks": ""
             }
            },
            "type": "scatterternary"
           }
          ],
          "surface": [
           {
            "colorbar": {
             "outlinewidth": 0,
             "ticks": ""
            },
            "colorscale": [
             [
              0,
              "#0d0887"
             ],
             [
              0.1111111111111111,
              "#46039f"
             ],
             [
              0.2222222222222222,
              "#7201a8"
             ],
             [
              0.3333333333333333,
              "#9c179e"
             ],
             [
              0.4444444444444444,
              "#bd3786"
             ],
             [
              0.5555555555555556,
              "#d8576b"
             ],
             [
              0.6666666666666666,
              "#ed7953"
             ],
             [
              0.7777777777777778,
              "#fb9f3a"
             ],
             [
              0.8888888888888888,
              "#fdca26"
             ],
             [
              1,
              "#f0f921"
             ]
            ],
            "type": "surface"
           }
          ],
          "table": [
           {
            "cells": {
             "fill": {
              "color": "#EBF0F8"
             },
             "line": {
              "color": "white"
             }
            },
            "header": {
             "fill": {
              "color": "#C8D4E3"
             },
             "line": {
              "color": "white"
             }
            },
            "type": "table"
           }
          ]
         },
         "layout": {
          "annotationdefaults": {
           "arrowcolor": "#2a3f5f",
           "arrowhead": 0,
           "arrowwidth": 1
          },
          "autotypenumbers": "strict",
          "coloraxis": {
           "colorbar": {
            "outlinewidth": 0,
            "ticks": ""
           }
          },
          "colorscale": {
           "diverging": [
            [
             0,
             "#8e0152"
            ],
            [
             0.1,
             "#c51b7d"
            ],
            [
             0.2,
             "#de77ae"
            ],
            [
             0.3,
             "#f1b6da"
            ],
            [
             0.4,
             "#fde0ef"
            ],
            [
             0.5,
             "#f7f7f7"
            ],
            [
             0.6,
             "#e6f5d0"
            ],
            [
             0.7,
             "#b8e186"
            ],
            [
             0.8,
             "#7fbc41"
            ],
            [
             0.9,
             "#4d9221"
            ],
            [
             1,
             "#276419"
            ]
           ],
           "sequential": [
            [
             0,
             "#0d0887"
            ],
            [
             0.1111111111111111,
             "#46039f"
            ],
            [
             0.2222222222222222,
             "#7201a8"
            ],
            [
             0.3333333333333333,
             "#9c179e"
            ],
            [
             0.4444444444444444,
             "#bd3786"
            ],
            [
             0.5555555555555556,
             "#d8576b"
            ],
            [
             0.6666666666666666,
             "#ed7953"
            ],
            [
             0.7777777777777778,
             "#fb9f3a"
            ],
            [
             0.8888888888888888,
             "#fdca26"
            ],
            [
             1,
             "#f0f921"
            ]
           ],
           "sequentialminus": [
            [
             0,
             "#0d0887"
            ],
            [
             0.1111111111111111,
             "#46039f"
            ],
            [
             0.2222222222222222,
             "#7201a8"
            ],
            [
             0.3333333333333333,
             "#9c179e"
            ],
            [
             0.4444444444444444,
             "#bd3786"
            ],
            [
             0.5555555555555556,
             "#d8576b"
            ],
            [
             0.6666666666666666,
             "#ed7953"
            ],
            [
             0.7777777777777778,
             "#fb9f3a"
            ],
            [
             0.8888888888888888,
             "#fdca26"
            ],
            [
             1,
             "#f0f921"
            ]
           ]
          },
          "colorway": [
           "#636efa",
           "#EF553B",
           "#00cc96",
           "#ab63fa",
           "#FFA15A",
           "#19d3f3",
           "#FF6692",
           "#B6E880",
           "#FF97FF",
           "#FECB52"
          ],
          "font": {
           "color": "#2a3f5f"
          },
          "geo": {
           "bgcolor": "white",
           "lakecolor": "white",
           "landcolor": "#E5ECF6",
           "showlakes": true,
           "showland": true,
           "subunitcolor": "white"
          },
          "hoverlabel": {
           "align": "left"
          },
          "hovermode": "closest",
          "mapbox": {
           "style": "light"
          },
          "paper_bgcolor": "white",
          "plot_bgcolor": "#E5ECF6",
          "polar": {
           "angularaxis": {
            "gridcolor": "white",
            "linecolor": "white",
            "ticks": ""
           },
           "bgcolor": "#E5ECF6",
           "radialaxis": {
            "gridcolor": "white",
            "linecolor": "white",
            "ticks": ""
           }
          },
          "scene": {
           "xaxis": {
            "backgroundcolor": "#E5ECF6",
            "gridcolor": "white",
            "gridwidth": 2,
            "linecolor": "white",
            "showbackground": true,
            "ticks": "",
            "zerolinecolor": "white"
           },
           "yaxis": {
            "backgroundcolor": "#E5ECF6",
            "gridcolor": "white",
            "gridwidth": 2,
            "linecolor": "white",
            "showbackground": true,
            "ticks": "",
            "zerolinecolor": "white"
           },
           "zaxis": {
            "backgroundcolor": "#E5ECF6",
            "gridcolor": "white",
            "gridwidth": 2,
            "linecolor": "white",
            "showbackground": true,
            "ticks": "",
            "zerolinecolor": "white"
           }
          },
          "shapedefaults": {
           "line": {
            "color": "#2a3f5f"
           }
          },
          "ternary": {
           "aaxis": {
            "gridcolor": "white",
            "linecolor": "white",
            "ticks": ""
           },
           "baxis": {
            "gridcolor": "white",
            "linecolor": "white",
            "ticks": ""
           },
           "bgcolor": "#E5ECF6",
           "caxis": {
            "gridcolor": "white",
            "linecolor": "white",
            "ticks": ""
           }
          },
          "title": {
           "x": 0.05
          },
          "xaxis": {
           "automargin": true,
           "gridcolor": "white",
           "linecolor": "white",
           "ticks": "",
           "title": {
            "standoff": 15
           },
           "zerolinecolor": "white",
           "zerolinewidth": 2
          },
          "yaxis": {
           "automargin": true,
           "gridcolor": "white",
           "linecolor": "white",
           "ticks": "",
           "title": {
            "standoff": 15
           },
           "zerolinecolor": "white",
           "zerolinewidth": 2
          }
         }
        },
        "title": {
         "text": "Top 70 Activating Tokens/Token ID for Feature with index 1038"
        },
        "xaxis": {
         "anchor": "y",
         "domain": [
          0,
          1
         ],
         "title": {
          "text": "Top Activation"
         },
         "type": "log"
        },
        "yaxis": {
         "anchor": "x",
         "categoryorder": "total ascending",
         "domain": [
          0,
          1
         ],
         "tickmode": "array",
         "ticktext": [
          "<｜begin▁of▁sentence｜>:151646",
          "<｜User｜>:151644",
          " by:553",
          "W:54",
          " \\:1124",
          " your:697",
          " a:264",
          "<think>:151648",
          ".:13",
          "?:30",
          ".\n\n:382",
          ",:11",
          " is:374",
          "\n:198",
          " $:400",
          " put:2182",
          "0:15",
          " where:1380",
          " to:311",
          " How:2585",
          "<space>:220",
          " me:752",
          ":\n\n:1447",
          " minutes:4420",
          "2:17",
          " x:856",
          " step:3019",
          " hour:6460",
          " and:323",
          "<｜Assistant｜>:151645",
          "\n\n:271",
          " she:1340",
          " Let:6771",
          "5:20",
          " hours:4115",
          "6:21",
          " this:419",
          "Okay:32313",
          " I:358",
          " can:646",
          " based:3118",
          " calculate:11047",
          " about:911",
          " =:284",
          " money:3220",
          " on:389",
          " earned:15303",
          " into:1119",
          " be:387",
          " her:1059",
          " out:700",
          " so:773",
          "ality:2719",
          " proportion:21117",
          " that:429",
          " find:1477",
          " the:279",
          " dollars:11192",
          " fraction:19419",
          " of:315",
          "1:16",
          " earns:63759",
          " in:304",
          " rate:4379",
          "3:18",
          "/:14",
          " time:882",
          " paid:7171",
          " earnings:23681",
          " W:467"
         ],
         "tickvals": [
          "<｜begin▁of▁sentence｜>:151646",
          "<｜User｜>:151644",
          " by:553",
          "W:54",
          " \\:1124",
          " your:697",
          " a:264",
          "<think>:151648",
          ".:13",
          "?:30",
          ".\n\n:382",
          ",:11",
          " is:374",
          "\n:198",
          " $:400",
          " put:2182",
          "0:15",
          " where:1380",
          " to:311",
          " How:2585",
          "<space>:220",
          " me:752",
          ":\n\n:1447",
          " minutes:4420",
          "2:17",
          " x:856",
          " step:3019",
          " hour:6460",
          " and:323",
          "<｜Assistant｜>:151645",
          "\n\n:271",
          " she:1340",
          " Let:6771",
          "5:20",
          " hours:4115",
          "6:21",
          " this:419",
          "Okay:32313",
          " I:358",
          " can:646",
          " based:3118",
          " calculate:11047",
          " about:911",
          " =:284",
          " money:3220",
          " on:389",
          " earned:15303",
          " into:1119",
          " be:387",
          " her:1059",
          " out:700",
          " so:773",
          "ality:2719",
          " proportion:21117",
          " that:429",
          " find:1477",
          " the:279",
          " dollars:11192",
          " fraction:19419",
          " of:315",
          "1:16",
          " earns:63759",
          " in:304",
          " rate:4379",
          "3:18",
          "/:14",
          " time:882",
          " paid:7171",
          " earnings:23681",
          " W:467"
         ],
         "title": {
          "text": "Token"
         }
        }
       }
      }
     },
     "metadata": {},
     "output_type": "display_data"
    }
   ],
   "source": [
    "plot_acts_and_tokens_relation_bar(\n",
    "    all_acts_token_acts_relation_top_k,\n",
    "    title=f'Top {TOKEN_ACTS_RELATION_TOP_K} Activating Tokens/Token ID for Feature with index {prominent_feature_idx}'\n",
    ")"
   ]
  },
  {
   "cell_type": "code",
   "execution_count": 455,
   "metadata": {},
   "outputs": [],
   "source": [
    "model_out_generated_only_token_ids = model_outs_for_sae.sequences.squeeze()[input_prompt_tokens_len:]\n",
    "\n",
    "generated_only_token_acts_relation = relate_feature_acts_to_tokens(\n",
    "    generated_only_acts_encoder_out,\n",
    "    feature_idx=prominent_feature_idx,\n",
    "    sample_tokens=model_out_generated_only_token_ids,\n",
    "    no_token_repetition=True\n",
    ")\n",
    "\n",
    "generated_only_token_acts_relation_top_k = relate_feature_acts_to_tokens(\n",
    "    generated_only_acts_encoder_out,\n",
    "    feature_idx=prominent_feature_idx,\n",
    "    sample_tokens=model_out_generated_only_token_ids,\n",
    "    top_k=TOKEN_ACTS_RELATION_TOP_K,\n",
    "    no_token_repetition=True\n",
    ")"
   ]
  },
  {
   "cell_type": "code",
   "execution_count": 461,
   "metadata": {},
   "outputs": [
    {
     "data": {
      "application/vnd.plotly.v1+json": {
       "config": {
        "plotlyServerURL": "https://plot.ly"
       },
       "data": [
        {
         "hovertemplate": "Token ID=%{x}<br>Top Activations=%{y}<extra></extra>",
         "legendgroup": "",
         "marker": {
          "color": "#636efa",
          "opacity": 0.7,
          "size": 12,
          "symbol": "circle"
         },
         "mode": "markers",
         "name": "",
         "orientation": "v",
         "showlegend": false,
         "type": "scatter",
         "x": {
          "bdata": "KQIAAA0AAAB+AQAACwAAAHYBAAAPAAAAZAUAADcBAADcAAAAkAEAAPACAACnBQAARBEAABEAAABYAwAAywsAADwZAAAPAQAAPAUAAHMaAAAUAAAAExAAABUAAACjAQAAOX4AAGYBAACGAgAALgwAACcrAABDAQAAjwMAABwBAACUDAAAhQEAAMc7AABfBAAAgwEAACMEAAC8AgAABQMAAJ8KAAB9UgAACAEAAK0BAADFBQAAFwEAALgrAADbSwAAOwEAABsRAAASAAAADgAAAHIDAAADHAAAgVwAANMBAAAoAAAAD/kAAEABAADGDAAAnQEAAAcIAAAwAQAAEAAAACMNAADQBgAAKAYAANo5AADXBQAAmhUAAM8DAACHDAAAah0AABoAAADeBwAACAAAAMcOAACgBAAAMgAAAHEBAADZBgAAFQQAAHMAAACaHwAA3gMAACcZAABlCgAA7wwAALYQAAB5BgAA8QQAABcAAADTFwAAc0UAAE0nAADEBwAAylsAADoDAACTBgAAgzMAAFIGAABGDgAAfAMAAH5YAQDeBAAA9VQAAMECAAAAIgAAZRQAALqBAADaFAAAhgUAAHYcAADFBAAAhBUAAEMEAAABBQAApQEAAJ8bAACPDwAAegsAAFYeAADKAQAAMQMAAHNDAADvGAAAGQcAALADAADiAgAANgcAAH8bAACpBQAAzgwAALAJAAAltgAAfgoAAAAYAACUBAAA",
          "dtype": "i4"
         },
         "xaxis": "x",
         "y": {
          "bdata": "gsutQmGvOELItSlCBCspQjmpJkJSIxxCK7kVQiwYFUI2nRJCYJESQqieEUJjGhFCmHUQQvEZEEL3Wg5CSHkNQnJPDUJRogdCjQgHQliVBkJ0HQZCfJYFQnsjBUJ8HQNCHWUCQuDMAEIJoQBCSZsAQqK9/0Fcl/1BDAj9QZEE/UG0/vxBlfX6QfoH+kG05vZBxR/1QTt59EEFU/RBNyj0QfPy8kE67PFBVtPxQYq18UHIAPFBCtXwQQW88EEOW+9BODztQc8Q50HItuZBfojkQS5x4UG/SeBB+LveQUT62UGc0ddBppTVQchO00HyQdJB9ArPQXIYzUGADs1BrYfLQTgYy0GpNcpBxiHKQbDExkFBjMZBQHfGQbaJxEF+1MNBDDfDQYCkwkHy3cFBGLvBQUmRwUHbKsFBYN/AQU5/wEFKqb5B9jy+QeO3vUHxoLtBS8y5QeKIuUEMablB/f24QTlutkEDwLJByLWxQSZ3sUGcNLFB6MKtQSNrrUGhrqxBGneqQfDkqEED2KdBqmCnQfL/pkFUx6BBIxqgQRK9n0F8e5xByG2cQfTmmEH03ZVBZHqUQXbxk0FstJNBpbOMQXJxiEE0SYhBfcmHQWRZhkHZP4RBdDGEQZKdgkF833xB5IJ6QUkddUH8JHBBr5JtQb5Na0GkY2BBdaZaQXk+UkFb40VBmfRBQYJpPEEkXzdBhNIxQdYDJkGZHRJBgAQDQbJE50C2IMRA",
          "dtype": "f4"
         },
         "yaxis": "y"
        }
       ],
       "layout": {
        "legend": {
         "tracegroupgap": 0
        },
        "template": {
         "data": {
          "bar": [
           {
            "error_x": {
             "color": "#2a3f5f"
            },
            "error_y": {
             "color": "#2a3f5f"
            },
            "marker": {
             "line": {
              "color": "#E5ECF6",
              "width": 0.5
             },
             "pattern": {
              "fillmode": "overlay",
              "size": 10,
              "solidity": 0.2
             }
            },
            "type": "bar"
           }
          ],
          "barpolar": [
           {
            "marker": {
             "line": {
              "color": "#E5ECF6",
              "width": 0.5
             },
             "pattern": {
              "fillmode": "overlay",
              "size": 10,
              "solidity": 0.2
             }
            },
            "type": "barpolar"
           }
          ],
          "carpet": [
           {
            "aaxis": {
             "endlinecolor": "#2a3f5f",
             "gridcolor": "white",
             "linecolor": "white",
             "minorgridcolor": "white",
             "startlinecolor": "#2a3f5f"
            },
            "baxis": {
             "endlinecolor": "#2a3f5f",
             "gridcolor": "white",
             "linecolor": "white",
             "minorgridcolor": "white",
             "startlinecolor": "#2a3f5f"
            },
            "type": "carpet"
           }
          ],
          "choropleth": [
           {
            "colorbar": {
             "outlinewidth": 0,
             "ticks": ""
            },
            "type": "choropleth"
           }
          ],
          "contour": [
           {
            "colorbar": {
             "outlinewidth": 0,
             "ticks": ""
            },
            "colorscale": [
             [
              0,
              "#0d0887"
             ],
             [
              0.1111111111111111,
              "#46039f"
             ],
             [
              0.2222222222222222,
              "#7201a8"
             ],
             [
              0.3333333333333333,
              "#9c179e"
             ],
             [
              0.4444444444444444,
              "#bd3786"
             ],
             [
              0.5555555555555556,
              "#d8576b"
             ],
             [
              0.6666666666666666,
              "#ed7953"
             ],
             [
              0.7777777777777778,
              "#fb9f3a"
             ],
             [
              0.8888888888888888,
              "#fdca26"
             ],
             [
              1,
              "#f0f921"
             ]
            ],
            "type": "contour"
           }
          ],
          "contourcarpet": [
           {
            "colorbar": {
             "outlinewidth": 0,
             "ticks": ""
            },
            "type": "contourcarpet"
           }
          ],
          "heatmap": [
           {
            "colorbar": {
             "outlinewidth": 0,
             "ticks": ""
            },
            "colorscale": [
             [
              0,
              "#0d0887"
             ],
             [
              0.1111111111111111,
              "#46039f"
             ],
             [
              0.2222222222222222,
              "#7201a8"
             ],
             [
              0.3333333333333333,
              "#9c179e"
             ],
             [
              0.4444444444444444,
              "#bd3786"
             ],
             [
              0.5555555555555556,
              "#d8576b"
             ],
             [
              0.6666666666666666,
              "#ed7953"
             ],
             [
              0.7777777777777778,
              "#fb9f3a"
             ],
             [
              0.8888888888888888,
              "#fdca26"
             ],
             [
              1,
              "#f0f921"
             ]
            ],
            "type": "heatmap"
           }
          ],
          "histogram": [
           {
            "marker": {
             "pattern": {
              "fillmode": "overlay",
              "size": 10,
              "solidity": 0.2
             }
            },
            "type": "histogram"
           }
          ],
          "histogram2d": [
           {
            "colorbar": {
             "outlinewidth": 0,
             "ticks": ""
            },
            "colorscale": [
             [
              0,
              "#0d0887"
             ],
             [
              0.1111111111111111,
              "#46039f"
             ],
             [
              0.2222222222222222,
              "#7201a8"
             ],
             [
              0.3333333333333333,
              "#9c179e"
             ],
             [
              0.4444444444444444,
              "#bd3786"
             ],
             [
              0.5555555555555556,
              "#d8576b"
             ],
             [
              0.6666666666666666,
              "#ed7953"
             ],
             [
              0.7777777777777778,
              "#fb9f3a"
             ],
             [
              0.8888888888888888,
              "#fdca26"
             ],
             [
              1,
              "#f0f921"
             ]
            ],
            "type": "histogram2d"
           }
          ],
          "histogram2dcontour": [
           {
            "colorbar": {
             "outlinewidth": 0,
             "ticks": ""
            },
            "colorscale": [
             [
              0,
              "#0d0887"
             ],
             [
              0.1111111111111111,
              "#46039f"
             ],
             [
              0.2222222222222222,
              "#7201a8"
             ],
             [
              0.3333333333333333,
              "#9c179e"
             ],
             [
              0.4444444444444444,
              "#bd3786"
             ],
             [
              0.5555555555555556,
              "#d8576b"
             ],
             [
              0.6666666666666666,
              "#ed7953"
             ],
             [
              0.7777777777777778,
              "#fb9f3a"
             ],
             [
              0.8888888888888888,
              "#fdca26"
             ],
             [
              1,
              "#f0f921"
             ]
            ],
            "type": "histogram2dcontour"
           }
          ],
          "mesh3d": [
           {
            "colorbar": {
             "outlinewidth": 0,
             "ticks": ""
            },
            "type": "mesh3d"
           }
          ],
          "parcoords": [
           {
            "line": {
             "colorbar": {
              "outlinewidth": 0,
              "ticks": ""
             }
            },
            "type": "parcoords"
           }
          ],
          "pie": [
           {
            "automargin": true,
            "type": "pie"
           }
          ],
          "scatter": [
           {
            "fillpattern": {
             "fillmode": "overlay",
             "size": 10,
             "solidity": 0.2
            },
            "type": "scatter"
           }
          ],
          "scatter3d": [
           {
            "line": {
             "colorbar": {
              "outlinewidth": 0,
              "ticks": ""
             }
            },
            "marker": {
             "colorbar": {
              "outlinewidth": 0,
              "ticks": ""
             }
            },
            "type": "scatter3d"
           }
          ],
          "scattercarpet": [
           {
            "marker": {
             "colorbar": {
              "outlinewidth": 0,
              "ticks": ""
             }
            },
            "type": "scattercarpet"
           }
          ],
          "scattergeo": [
           {
            "marker": {
             "colorbar": {
              "outlinewidth": 0,
              "ticks": ""
             }
            },
            "type": "scattergeo"
           }
          ],
          "scattergl": [
           {
            "marker": {
             "colorbar": {
              "outlinewidth": 0,
              "ticks": ""
             }
            },
            "type": "scattergl"
           }
          ],
          "scattermap": [
           {
            "marker": {
             "colorbar": {
              "outlinewidth": 0,
              "ticks": ""
             }
            },
            "type": "scattermap"
           }
          ],
          "scattermapbox": [
           {
            "marker": {
             "colorbar": {
              "outlinewidth": 0,
              "ticks": ""
             }
            },
            "type": "scattermapbox"
           }
          ],
          "scatterpolar": [
           {
            "marker": {
             "colorbar": {
              "outlinewidth": 0,
              "ticks": ""
             }
            },
            "type": "scatterpolar"
           }
          ],
          "scatterpolargl": [
           {
            "marker": {
             "colorbar": {
              "outlinewidth": 0,
              "ticks": ""
             }
            },
            "type": "scatterpolargl"
           }
          ],
          "scatterternary": [
           {
            "marker": {
             "colorbar": {
              "outlinewidth": 0,
              "ticks": ""
             }
            },
            "type": "scatterternary"
           }
          ],
          "surface": [
           {
            "colorbar": {
             "outlinewidth": 0,
             "ticks": ""
            },
            "colorscale": [
             [
              0,
              "#0d0887"
             ],
             [
              0.1111111111111111,
              "#46039f"
             ],
             [
              0.2222222222222222,
              "#7201a8"
             ],
             [
              0.3333333333333333,
              "#9c179e"
             ],
             [
              0.4444444444444444,
              "#bd3786"
             ],
             [
              0.5555555555555556,
              "#d8576b"
             ],
             [
              0.6666666666666666,
              "#ed7953"
             ],
             [
              0.7777777777777778,
              "#fb9f3a"
             ],
             [
              0.8888888888888888,
              "#fdca26"
             ],
             [
              1,
              "#f0f921"
             ]
            ],
            "type": "surface"
           }
          ],
          "table": [
           {
            "cells": {
             "fill": {
              "color": "#EBF0F8"
             },
             "line": {
              "color": "white"
             }
            },
            "header": {
             "fill": {
              "color": "#C8D4E3"
             },
             "line": {
              "color": "white"
             }
            },
            "type": "table"
           }
          ]
         },
         "layout": {
          "annotationdefaults": {
           "arrowcolor": "#2a3f5f",
           "arrowhead": 0,
           "arrowwidth": 1
          },
          "autotypenumbers": "strict",
          "coloraxis": {
           "colorbar": {
            "outlinewidth": 0,
            "ticks": ""
           }
          },
          "colorscale": {
           "diverging": [
            [
             0,
             "#8e0152"
            ],
            [
             0.1,
             "#c51b7d"
            ],
            [
             0.2,
             "#de77ae"
            ],
            [
             0.3,
             "#f1b6da"
            ],
            [
             0.4,
             "#fde0ef"
            ],
            [
             0.5,
             "#f7f7f7"
            ],
            [
             0.6,
             "#e6f5d0"
            ],
            [
             0.7,
             "#b8e186"
            ],
            [
             0.8,
             "#7fbc41"
            ],
            [
             0.9,
             "#4d9221"
            ],
            [
             1,
             "#276419"
            ]
           ],
           "sequential": [
            [
             0,
             "#0d0887"
            ],
            [
             0.1111111111111111,
             "#46039f"
            ],
            [
             0.2222222222222222,
             "#7201a8"
            ],
            [
             0.3333333333333333,
             "#9c179e"
            ],
            [
             0.4444444444444444,
             "#bd3786"
            ],
            [
             0.5555555555555556,
             "#d8576b"
            ],
            [
             0.6666666666666666,
             "#ed7953"
            ],
            [
             0.7777777777777778,
             "#fb9f3a"
            ],
            [
             0.8888888888888888,
             "#fdca26"
            ],
            [
             1,
             "#f0f921"
            ]
           ],
           "sequentialminus": [
            [
             0,
             "#0d0887"
            ],
            [
             0.1111111111111111,
             "#46039f"
            ],
            [
             0.2222222222222222,
             "#7201a8"
            ],
            [
             0.3333333333333333,
             "#9c179e"
            ],
            [
             0.4444444444444444,
             "#bd3786"
            ],
            [
             0.5555555555555556,
             "#d8576b"
            ],
            [
             0.6666666666666666,
             "#ed7953"
            ],
            [
             0.7777777777777778,
             "#fb9f3a"
            ],
            [
             0.8888888888888888,
             "#fdca26"
            ],
            [
             1,
             "#f0f921"
            ]
           ]
          },
          "colorway": [
           "#636efa",
           "#EF553B",
           "#00cc96",
           "#ab63fa",
           "#FFA15A",
           "#19d3f3",
           "#FF6692",
           "#B6E880",
           "#FF97FF",
           "#FECB52"
          ],
          "font": {
           "color": "#2a3f5f"
          },
          "geo": {
           "bgcolor": "white",
           "lakecolor": "white",
           "landcolor": "#E5ECF6",
           "showlakes": true,
           "showland": true,
           "subunitcolor": "white"
          },
          "hoverlabel": {
           "align": "left"
          },
          "hovermode": "closest",
          "mapbox": {
           "style": "light"
          },
          "paper_bgcolor": "white",
          "plot_bgcolor": "#E5ECF6",
          "polar": {
           "angularaxis": {
            "gridcolor": "white",
            "linecolor": "white",
            "ticks": ""
           },
           "bgcolor": "#E5ECF6",
           "radialaxis": {
            "gridcolor": "white",
            "linecolor": "white",
            "ticks": ""
           }
          },
          "scene": {
           "xaxis": {
            "backgroundcolor": "#E5ECF6",
            "gridcolor": "white",
            "gridwidth": 2,
            "linecolor": "white",
            "showbackground": true,
            "ticks": "",
            "zerolinecolor": "white"
           },
           "yaxis": {
            "backgroundcolor": "#E5ECF6",
            "gridcolor": "white",
            "gridwidth": 2,
            "linecolor": "white",
            "showbackground": true,
            "ticks": "",
            "zerolinecolor": "white"
           },
           "zaxis": {
            "backgroundcolor": "#E5ECF6",
            "gridcolor": "white",
            "gridwidth": 2,
            "linecolor": "white",
            "showbackground": true,
            "ticks": "",
            "zerolinecolor": "white"
           }
          },
          "shapedefaults": {
           "line": {
            "color": "#2a3f5f"
           }
          },
          "ternary": {
           "aaxis": {
            "gridcolor": "white",
            "linecolor": "white",
            "ticks": ""
           },
           "baxis": {
            "gridcolor": "white",
            "linecolor": "white",
            "ticks": ""
           },
           "bgcolor": "#E5ECF6",
           "caxis": {
            "gridcolor": "white",
            "linecolor": "white",
            "ticks": ""
           }
          },
          "title": {
           "x": 0.05
          },
          "xaxis": {
           "automargin": true,
           "gridcolor": "white",
           "linecolor": "white",
           "ticks": "",
           "title": {
            "standoff": 15
           },
           "zerolinecolor": "white",
           "zerolinewidth": 2
          },
          "yaxis": {
           "automargin": true,
           "gridcolor": "white",
           "linecolor": "white",
           "ticks": "",
           "title": {
            "standoff": 15
           },
           "zerolinecolor": "white",
           "zerolinewidth": 2
          }
         }
        },
        "title": {
         "text": "Activating Tokens for Feature with index 1038 (Generated only tokens)"
        },
        "xaxis": {
         "anchor": "y",
         "domain": [
          0,
          1
         ],
         "title": {
          "text": "Token ID"
         }
        },
        "yaxis": {
         "anchor": "x",
         "domain": [
          0,
          1
         ],
         "title": {
          "text": "Top Activations"
         }
        }
       }
      }
     },
     "metadata": {},
     "output_type": "display_data"
    }
   ],
   "source": [
    "plot_acts_and_tokens_relation_scatter(\n",
    "    generated_only_token_acts_relation,\n",
    "    title=f'Activating Tokens for Feature with index {prominent_feature_idx} (Generated only tokens)'\n",
    ")"
   ]
  },
  {
   "cell_type": "code",
   "execution_count": 462,
   "metadata": {},
   "outputs": [
    {
     "data": {
      "application/vnd.plotly.v1+json": {
       "config": {
        "plotlyServerURL": "https://plot.ly"
       },
       "data": [
        {
         "hovertemplate": "Top Activation=%{x}<br>Token=%{y}<extra></extra>",
         "legendgroup": "",
         "marker": {
          "color": "#636efa",
          "pattern": {
           "shape": ""
          }
         },
         "name": "",
         "orientation": "h",
         "showlegend": false,
         "textposition": "auto",
         "type": "bar",
         "x": {
          "bdata": "gsutQmGvOELItSlCBCspQjmpJkJSIxxCK7kVQiwYFUI2nRJCYJESQqieEUJjGhFCmHUQQvEZEEL3Wg5CSHkNQnJPDUJRogdCjQgHQliVBkJ0HQZCfJYFQnsjBUJ8HQNCHWUCQuDMAEIJoQBCSZsAQqK9/0Fcl/1BDAj9QZEE/UG0/vxBlfX6QfoH+kG05vZBxR/1QTt59EEFU/RBNyj0QfPy8kE67PFBVtPxQYq18UHIAPFBCtXwQQW88EEOW+9BODztQc8Q50HItuZBfojkQS5x4UG/SeBB+LveQUT62UGc0ddBppTVQchO00HyQdJB9ArPQXIYzUGADs1BrYfLQTgYy0GpNcpBxiHKQbDExkFBjMZBQHfGQQ==",
          "dtype": "f4"
         },
         "xaxis": "x",
         "y": [
          " by:553",
          ".:13",
          ".\n\n:382",
          ",:11",
          " is:374",
          "0:15",
          " where:1380",
          " to:311",
          "<space>:220",
          " $:400",
          " me:752",
          ":\n\n:1447",
          " minutes:4420",
          "2:17",
          " x:856",
          " step:3019",
          " hour:6460",
          "\n\n:271",
          " she:1340",
          " Let:6771",
          "5:20",
          " hours:4115",
          "6:21",
          " this:419",
          "Okay:32313",
          " I:358",
          " can:646",
          " based:3118",
          " calculate:11047",
          " and:323",
          " about:911",
          " =:284",
          " money:3220",
          " on:389",
          " earned:15303",
          " into:1119",
          " be:387",
          " her:1059",
          " out:700",
          " so:773",
          "ality:2719",
          " proportion:21117",
          " a:264",
          " that:429",
          " find:1477",
          " the:279",
          " dollars:11192",
          " fraction:19419",
          " of:315",
          " rate:4379",
          "3:18",
          "/:14",
          " time:882",
          " paid:7171",
          " earnings:23681",
          " W:467",
          "I:40",
          " earns:63759",
          " (:320",
          " write:3270",
          "our:413",
          " So:2055",
          " in:304",
          "1:16",
          " means:3363",
          " think:1744",
          " because:1576",
          "itting:14810",
          " down:1495",
          " sense:5530"
         ],
         "yaxis": "y"
        }
       ],
       "layout": {
        "barmode": "relative",
        "font": {
         "size": 10
        },
        "height": 1050,
        "legend": {
         "tracegroupgap": 0
        },
        "margin": {
         "l": 200
        },
        "template": {
         "data": {
          "bar": [
           {
            "error_x": {
             "color": "#2a3f5f"
            },
            "error_y": {
             "color": "#2a3f5f"
            },
            "marker": {
             "line": {
              "color": "#E5ECF6",
              "width": 0.5
             },
             "pattern": {
              "fillmode": "overlay",
              "size": 10,
              "solidity": 0.2
             }
            },
            "type": "bar"
           }
          ],
          "barpolar": [
           {
            "marker": {
             "line": {
              "color": "#E5ECF6",
              "width": 0.5
             },
             "pattern": {
              "fillmode": "overlay",
              "size": 10,
              "solidity": 0.2
             }
            },
            "type": "barpolar"
           }
          ],
          "carpet": [
           {
            "aaxis": {
             "endlinecolor": "#2a3f5f",
             "gridcolor": "white",
             "linecolor": "white",
             "minorgridcolor": "white",
             "startlinecolor": "#2a3f5f"
            },
            "baxis": {
             "endlinecolor": "#2a3f5f",
             "gridcolor": "white",
             "linecolor": "white",
             "minorgridcolor": "white",
             "startlinecolor": "#2a3f5f"
            },
            "type": "carpet"
           }
          ],
          "choropleth": [
           {
            "colorbar": {
             "outlinewidth": 0,
             "ticks": ""
            },
            "type": "choropleth"
           }
          ],
          "contour": [
           {
            "colorbar": {
             "outlinewidth": 0,
             "ticks": ""
            },
            "colorscale": [
             [
              0,
              "#0d0887"
             ],
             [
              0.1111111111111111,
              "#46039f"
             ],
             [
              0.2222222222222222,
              "#7201a8"
             ],
             [
              0.3333333333333333,
              "#9c179e"
             ],
             [
              0.4444444444444444,
              "#bd3786"
             ],
             [
              0.5555555555555556,
              "#d8576b"
             ],
             [
              0.6666666666666666,
              "#ed7953"
             ],
             [
              0.7777777777777778,
              "#fb9f3a"
             ],
             [
              0.8888888888888888,
              "#fdca26"
             ],
             [
              1,
              "#f0f921"
             ]
            ],
            "type": "contour"
           }
          ],
          "contourcarpet": [
           {
            "colorbar": {
             "outlinewidth": 0,
             "ticks": ""
            },
            "type": "contourcarpet"
           }
          ],
          "heatmap": [
           {
            "colorbar": {
             "outlinewidth": 0,
             "ticks": ""
            },
            "colorscale": [
             [
              0,
              "#0d0887"
             ],
             [
              0.1111111111111111,
              "#46039f"
             ],
             [
              0.2222222222222222,
              "#7201a8"
             ],
             [
              0.3333333333333333,
              "#9c179e"
             ],
             [
              0.4444444444444444,
              "#bd3786"
             ],
             [
              0.5555555555555556,
              "#d8576b"
             ],
             [
              0.6666666666666666,
              "#ed7953"
             ],
             [
              0.7777777777777778,
              "#fb9f3a"
             ],
             [
              0.8888888888888888,
              "#fdca26"
             ],
             [
              1,
              "#f0f921"
             ]
            ],
            "type": "heatmap"
           }
          ],
          "histogram": [
           {
            "marker": {
             "pattern": {
              "fillmode": "overlay",
              "size": 10,
              "solidity": 0.2
             }
            },
            "type": "histogram"
           }
          ],
          "histogram2d": [
           {
            "colorbar": {
             "outlinewidth": 0,
             "ticks": ""
            },
            "colorscale": [
             [
              0,
              "#0d0887"
             ],
             [
              0.1111111111111111,
              "#46039f"
             ],
             [
              0.2222222222222222,
              "#7201a8"
             ],
             [
              0.3333333333333333,
              "#9c179e"
             ],
             [
              0.4444444444444444,
              "#bd3786"
             ],
             [
              0.5555555555555556,
              "#d8576b"
             ],
             [
              0.6666666666666666,
              "#ed7953"
             ],
             [
              0.7777777777777778,
              "#fb9f3a"
             ],
             [
              0.8888888888888888,
              "#fdca26"
             ],
             [
              1,
              "#f0f921"
             ]
            ],
            "type": "histogram2d"
           }
          ],
          "histogram2dcontour": [
           {
            "colorbar": {
             "outlinewidth": 0,
             "ticks": ""
            },
            "colorscale": [
             [
              0,
              "#0d0887"
             ],
             [
              0.1111111111111111,
              "#46039f"
             ],
             [
              0.2222222222222222,
              "#7201a8"
             ],
             [
              0.3333333333333333,
              "#9c179e"
             ],
             [
              0.4444444444444444,
              "#bd3786"
             ],
             [
              0.5555555555555556,
              "#d8576b"
             ],
             [
              0.6666666666666666,
              "#ed7953"
             ],
             [
              0.7777777777777778,
              "#fb9f3a"
             ],
             [
              0.8888888888888888,
              "#fdca26"
             ],
             [
              1,
              "#f0f921"
             ]
            ],
            "type": "histogram2dcontour"
           }
          ],
          "mesh3d": [
           {
            "colorbar": {
             "outlinewidth": 0,
             "ticks": ""
            },
            "type": "mesh3d"
           }
          ],
          "parcoords": [
           {
            "line": {
             "colorbar": {
              "outlinewidth": 0,
              "ticks": ""
             }
            },
            "type": "parcoords"
           }
          ],
          "pie": [
           {
            "automargin": true,
            "type": "pie"
           }
          ],
          "scatter": [
           {
            "fillpattern": {
             "fillmode": "overlay",
             "size": 10,
             "solidity": 0.2
            },
            "type": "scatter"
           }
          ],
          "scatter3d": [
           {
            "line": {
             "colorbar": {
              "outlinewidth": 0,
              "ticks": ""
             }
            },
            "marker": {
             "colorbar": {
              "outlinewidth": 0,
              "ticks": ""
             }
            },
            "type": "scatter3d"
           }
          ],
          "scattercarpet": [
           {
            "marker": {
             "colorbar": {
              "outlinewidth": 0,
              "ticks": ""
             }
            },
            "type": "scattercarpet"
           }
          ],
          "scattergeo": [
           {
            "marker": {
             "colorbar": {
              "outlinewidth": 0,
              "ticks": ""
             }
            },
            "type": "scattergeo"
           }
          ],
          "scattergl": [
           {
            "marker": {
             "colorbar": {
              "outlinewidth": 0,
              "ticks": ""
             }
            },
            "type": "scattergl"
           }
          ],
          "scattermap": [
           {
            "marker": {
             "colorbar": {
              "outlinewidth": 0,
              "ticks": ""
             }
            },
            "type": "scattermap"
           }
          ],
          "scattermapbox": [
           {
            "marker": {
             "colorbar": {
              "outlinewidth": 0,
              "ticks": ""
             }
            },
            "type": "scattermapbox"
           }
          ],
          "scatterpolar": [
           {
            "marker": {
             "colorbar": {
              "outlinewidth": 0,
              "ticks": ""
             }
            },
            "type": "scatterpolar"
           }
          ],
          "scatterpolargl": [
           {
            "marker": {
             "colorbar": {
              "outlinewidth": 0,
              "ticks": ""
             }
            },
            "type": "scatterpolargl"
           }
          ],
          "scatterternary": [
           {
            "marker": {
             "colorbar": {
              "outlinewidth": 0,
              "ticks": ""
             }
            },
            "type": "scatterternary"
           }
          ],
          "surface": [
           {
            "colorbar": {
             "outlinewidth": 0,
             "ticks": ""
            },
            "colorscale": [
             [
              0,
              "#0d0887"
             ],
             [
              0.1111111111111111,
              "#46039f"
             ],
             [
              0.2222222222222222,
              "#7201a8"
             ],
             [
              0.3333333333333333,
              "#9c179e"
             ],
             [
              0.4444444444444444,
              "#bd3786"
             ],
             [
              0.5555555555555556,
              "#d8576b"
             ],
             [
              0.6666666666666666,
              "#ed7953"
             ],
             [
              0.7777777777777778,
              "#fb9f3a"
             ],
             [
              0.8888888888888888,
              "#fdca26"
             ],
             [
              1,
              "#f0f921"
             ]
            ],
            "type": "surface"
           }
          ],
          "table": [
           {
            "cells": {
             "fill": {
              "color": "#EBF0F8"
             },
             "line": {
              "color": "white"
             }
            },
            "header": {
             "fill": {
              "color": "#C8D4E3"
             },
             "line": {
              "color": "white"
             }
            },
            "type": "table"
           }
          ]
         },
         "layout": {
          "annotationdefaults": {
           "arrowcolor": "#2a3f5f",
           "arrowhead": 0,
           "arrowwidth": 1
          },
          "autotypenumbers": "strict",
          "coloraxis": {
           "colorbar": {
            "outlinewidth": 0,
            "ticks": ""
           }
          },
          "colorscale": {
           "diverging": [
            [
             0,
             "#8e0152"
            ],
            [
             0.1,
             "#c51b7d"
            ],
            [
             0.2,
             "#de77ae"
            ],
            [
             0.3,
             "#f1b6da"
            ],
            [
             0.4,
             "#fde0ef"
            ],
            [
             0.5,
             "#f7f7f7"
            ],
            [
             0.6,
             "#e6f5d0"
            ],
            [
             0.7,
             "#b8e186"
            ],
            [
             0.8,
             "#7fbc41"
            ],
            [
             0.9,
             "#4d9221"
            ],
            [
             1,
             "#276419"
            ]
           ],
           "sequential": [
            [
             0,
             "#0d0887"
            ],
            [
             0.1111111111111111,
             "#46039f"
            ],
            [
             0.2222222222222222,
             "#7201a8"
            ],
            [
             0.3333333333333333,
             "#9c179e"
            ],
            [
             0.4444444444444444,
             "#bd3786"
            ],
            [
             0.5555555555555556,
             "#d8576b"
            ],
            [
             0.6666666666666666,
             "#ed7953"
            ],
            [
             0.7777777777777778,
             "#fb9f3a"
            ],
            [
             0.8888888888888888,
             "#fdca26"
            ],
            [
             1,
             "#f0f921"
            ]
           ],
           "sequentialminus": [
            [
             0,
             "#0d0887"
            ],
            [
             0.1111111111111111,
             "#46039f"
            ],
            [
             0.2222222222222222,
             "#7201a8"
            ],
            [
             0.3333333333333333,
             "#9c179e"
            ],
            [
             0.4444444444444444,
             "#bd3786"
            ],
            [
             0.5555555555555556,
             "#d8576b"
            ],
            [
             0.6666666666666666,
             "#ed7953"
            ],
            [
             0.7777777777777778,
             "#fb9f3a"
            ],
            [
             0.8888888888888888,
             "#fdca26"
            ],
            [
             1,
             "#f0f921"
            ]
           ]
          },
          "colorway": [
           "#636efa",
           "#EF553B",
           "#00cc96",
           "#ab63fa",
           "#FFA15A",
           "#19d3f3",
           "#FF6692",
           "#B6E880",
           "#FF97FF",
           "#FECB52"
          ],
          "font": {
           "color": "#2a3f5f"
          },
          "geo": {
           "bgcolor": "white",
           "lakecolor": "white",
           "landcolor": "#E5ECF6",
           "showlakes": true,
           "showland": true,
           "subunitcolor": "white"
          },
          "hoverlabel": {
           "align": "left"
          },
          "hovermode": "closest",
          "mapbox": {
           "style": "light"
          },
          "paper_bgcolor": "white",
          "plot_bgcolor": "#E5ECF6",
          "polar": {
           "angularaxis": {
            "gridcolor": "white",
            "linecolor": "white",
            "ticks": ""
           },
           "bgcolor": "#E5ECF6",
           "radialaxis": {
            "gridcolor": "white",
            "linecolor": "white",
            "ticks": ""
           }
          },
          "scene": {
           "xaxis": {
            "backgroundcolor": "#E5ECF6",
            "gridcolor": "white",
            "gridwidth": 2,
            "linecolor": "white",
            "showbackground": true,
            "ticks": "",
            "zerolinecolor": "white"
           },
           "yaxis": {
            "backgroundcolor": "#E5ECF6",
            "gridcolor": "white",
            "gridwidth": 2,
            "linecolor": "white",
            "showbackground": true,
            "ticks": "",
            "zerolinecolor": "white"
           },
           "zaxis": {
            "backgroundcolor": "#E5ECF6",
            "gridcolor": "white",
            "gridwidth": 2,
            "linecolor": "white",
            "showbackground": true,
            "ticks": "",
            "zerolinecolor": "white"
           }
          },
          "shapedefaults": {
           "line": {
            "color": "#2a3f5f"
           }
          },
          "ternary": {
           "aaxis": {
            "gridcolor": "white",
            "linecolor": "white",
            "ticks": ""
           },
           "baxis": {
            "gridcolor": "white",
            "linecolor": "white",
            "ticks": ""
           },
           "bgcolor": "#E5ECF6",
           "caxis": {
            "gridcolor": "white",
            "linecolor": "white",
            "ticks": ""
           }
          },
          "title": {
           "x": 0.05
          },
          "xaxis": {
           "automargin": true,
           "gridcolor": "white",
           "linecolor": "white",
           "ticks": "",
           "title": {
            "standoff": 15
           },
           "zerolinecolor": "white",
           "zerolinewidth": 2
          },
          "yaxis": {
           "automargin": true,
           "gridcolor": "white",
           "linecolor": "white",
           "ticks": "",
           "title": {
            "standoff": 15
           },
           "zerolinecolor": "white",
           "zerolinewidth": 2
          }
         }
        },
        "title": {
         "text": "Top 70 Activating Tokens/Token ID for Feature with index 1038 (Generated only tokens)"
        },
        "xaxis": {
         "anchor": "y",
         "domain": [
          0,
          1
         ],
         "title": {
          "text": "Top Activation"
         },
         "type": "log"
        },
        "yaxis": {
         "anchor": "x",
         "categoryorder": "total ascending",
         "domain": [
          0,
          1
         ],
         "tickmode": "array",
         "ticktext": [
          " by:553",
          ".:13",
          ".\n\n:382",
          ",:11",
          " is:374",
          "0:15",
          " where:1380",
          " to:311",
          "<space>:220",
          " $:400",
          " me:752",
          ":\n\n:1447",
          " minutes:4420",
          "2:17",
          " x:856",
          " step:3019",
          " hour:6460",
          "\n\n:271",
          " she:1340",
          " Let:6771",
          "5:20",
          " hours:4115",
          "6:21",
          " this:419",
          "Okay:32313",
          " I:358",
          " can:646",
          " based:3118",
          " calculate:11047",
          " and:323",
          " about:911",
          " =:284",
          " money:3220",
          " on:389",
          " earned:15303",
          " into:1119",
          " be:387",
          " her:1059",
          " out:700",
          " so:773",
          "ality:2719",
          " proportion:21117",
          " a:264",
          " that:429",
          " find:1477",
          " the:279",
          " dollars:11192",
          " fraction:19419",
          " of:315",
          " rate:4379",
          "3:18",
          "/:14",
          " time:882",
          " paid:7171",
          " earnings:23681",
          " W:467",
          "I:40",
          " earns:63759",
          " (:320",
          " write:3270",
          "our:413",
          " So:2055",
          " in:304",
          "1:16",
          " means:3363",
          " think:1744",
          " because:1576",
          "itting:14810",
          " down:1495",
          " sense:5530"
         ],
         "tickvals": [
          " by:553",
          ".:13",
          ".\n\n:382",
          ",:11",
          " is:374",
          "0:15",
          " where:1380",
          " to:311",
          "<space>:220",
          " $:400",
          " me:752",
          ":\n\n:1447",
          " minutes:4420",
          "2:17",
          " x:856",
          " step:3019",
          " hour:6460",
          "\n\n:271",
          " she:1340",
          " Let:6771",
          "5:20",
          " hours:4115",
          "6:21",
          " this:419",
          "Okay:32313",
          " I:358",
          " can:646",
          " based:3118",
          " calculate:11047",
          " and:323",
          " about:911",
          " =:284",
          " money:3220",
          " on:389",
          " earned:15303",
          " into:1119",
          " be:387",
          " her:1059",
          " out:700",
          " so:773",
          "ality:2719",
          " proportion:21117",
          " a:264",
          " that:429",
          " find:1477",
          " the:279",
          " dollars:11192",
          " fraction:19419",
          " of:315",
          " rate:4379",
          "3:18",
          "/:14",
          " time:882",
          " paid:7171",
          " earnings:23681",
          " W:467",
          "I:40",
          " earns:63759",
          " (:320",
          " write:3270",
          "our:413",
          " So:2055",
          " in:304",
          "1:16",
          " means:3363",
          " think:1744",
          " because:1576",
          "itting:14810",
          " down:1495",
          " sense:5530"
         ],
         "title": {
          "text": "Token"
         }
        }
       }
      }
     },
     "metadata": {},
     "output_type": "display_data"
    }
   ],
   "source": [
    "plot_acts_and_tokens_relation_bar(\n",
    "    generated_only_token_acts_relation_top_k,\n",
    "    title=f'Top {TOKEN_ACTS_RELATION_TOP_K} Activating Tokens/Token ID for Feature with index {prominent_feature_idx} (Generated only tokens)'\n",
    ")"
   ]
  },
  {
   "cell_type": "code",
   "execution_count": null,
   "metadata": {},
   "outputs": [],
   "source": []
  }
 ],
 "metadata": {
  "kernelspec": {
   "display_name": "ai_base",
   "language": "python",
   "name": "python3"
  },
  "language_info": {
   "codemirror_mode": {
    "name": "ipython",
    "version": 3
   },
   "file_extension": ".py",
   "mimetype": "text/x-python",
   "name": "python",
   "nbconvert_exporter": "python",
   "pygments_lexer": "ipython3",
   "version": "3.12.8"
  }
 },
 "nbformat": 4,
 "nbformat_minor": 2
}
